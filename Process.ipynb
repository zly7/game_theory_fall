{
 "cells": [
  {
   "cell_type": "code",
   "execution_count": 3,
   "metadata": {
    "collapsed": true
   },
   "outputs": [
    {
     "name": "stdout",
     "output_type": "stream",
     "text": [
      "123 0 0\n",
      "139 134 0\n",
      "468 0 0\n"
     ]
    },
    {
     "name": "stderr",
     "output_type": "stream",
     "text": [
      "/var/folders/d2/f3vm2qjs02ldnf3s8_w_jjd00000gn/T/ipykernel_2150/1625190689.py:44: FutureWarning: The frame.append method is deprecated and will be removed from pandas in a future version. Use pandas.concat instead.\n",
      "  finally_data=finally_data.append(new_data_c)\n",
      "/var/folders/d2/f3vm2qjs02ldnf3s8_w_jjd00000gn/T/ipykernel_2150/1625190689.py:44: FutureWarning: The frame.append method is deprecated and will be removed from pandas in a future version. Use pandas.concat instead.\n",
      "  finally_data=finally_data.append(new_data_c)\n",
      "/var/folders/d2/f3vm2qjs02ldnf3s8_w_jjd00000gn/T/ipykernel_2150/1625190689.py:44: FutureWarning: The frame.append method is deprecated and will be removed from pandas in a future version. Use pandas.concat instead.\n",
      "  finally_data=finally_data.append(new_data_c)\n"
     ]
    },
    {
     "name": "stdout",
     "output_type": "stream",
     "text": [
      "860 857 861\n",
      "1029 1030 1036\n",
      "        frame    id       x      y  width  height  xVelocity  yVelocity  \\\n",
      "36888    2664   123  325.80  11.63   3.94    1.92     -41.44      -0.65   \n",
      "41395    2986   139  373.78  11.51   4.55    2.12     -38.28       0.52   \n",
      "157442   9444   468  403.55  11.60   4.24    2.02     -42.66      -1.08   \n",
      "286700  18245   860  368.40  11.62   4.45    1.92     -34.70       0.85   \n",
      "344722  22284  1029  182.99  11.47   5.15    2.22     -31.59       0.83   \n",
      "\n",
      "        xAcceleration  yAcceleration  ...  followingId  leftPrecedingId  \\\n",
      "36888            0.27          -0.03  ...            0                0   \n",
      "41395            0.01           0.00  ...            0              134   \n",
      "157442          -0.46           0.02  ...            0                0   \n",
      "286700          -0.16          -0.12  ...            0              857   \n",
      "344722          -0.11          -0.18  ...         1031             1030   \n",
      "\n",
      "        leftAlongsideId  leftFollowingId  rightPrecedingId  rightAlongsideId  \\\n",
      "36888                 0                0               120                 0   \n",
      "41395                 0                0                 0                 0   \n",
      "157442                0                0               464                 0   \n",
      "286700                0              861                 0                 0   \n",
      "344722                0             1036                 0                 0   \n",
      "\n",
      "        rightFollowingId  laneId  O_P_Distance  O_F_Distance  \n",
      "36888                125       3             #             #  \n",
      "41395                  0       2         211.1             #  \n",
      "157442                 0       3             #             #  \n",
      "286700                 0       2         69.65         35.38  \n",
      "344722                 0       2          33.8        180.53  \n",
      "\n",
      "[5 rows x 27 columns]\n",
      "01已处理完毕！\n"
     ]
    },
    {
     "name": "stderr",
     "output_type": "stream",
     "text": [
      "/var/folders/d2/f3vm2qjs02ldnf3s8_w_jjd00000gn/T/ipykernel_2150/1625190689.py:44: FutureWarning: The frame.append method is deprecated and will be removed from pandas in a future version. Use pandas.concat instead.\n",
      "  finally_data=finally_data.append(new_data_c)\n",
      "/var/folders/d2/f3vm2qjs02ldnf3s8_w_jjd00000gn/T/ipykernel_2150/1625190689.py:44: FutureWarning: The frame.append method is deprecated and will be removed from pandas in a future version. Use pandas.concat instead.\n",
      "  finally_data=finally_data.append(new_data_c)\n"
     ]
    },
    {
     "name": "stdout",
     "output_type": "stream",
     "text": [
      "250 249 0\n",
      "286 285 0\n",
      "456 0 0\n"
     ]
    },
    {
     "name": "stderr",
     "output_type": "stream",
     "text": [
      "/var/folders/d2/f3vm2qjs02ldnf3s8_w_jjd00000gn/T/ipykernel_2150/1625190689.py:44: FutureWarning: The frame.append method is deprecated and will be removed from pandas in a future version. Use pandas.concat instead.\n",
      "  finally_data=finally_data.append(new_data_c)\n",
      "/var/folders/d2/f3vm2qjs02ldnf3s8_w_jjd00000gn/T/ipykernel_2150/1625190689.py:44: FutureWarning: The frame.append method is deprecated and will be removed from pandas in a future version. Use pandas.concat instead.\n",
      "  finally_data=finally_data.append(new_data_c)\n",
      "/var/folders/d2/f3vm2qjs02ldnf3s8_w_jjd00000gn/T/ipykernel_2150/1625190689.py:44: FutureWarning: The frame.append method is deprecated and will be removed from pandas in a future version. Use pandas.concat instead.\n",
      "  finally_data=finally_data.append(new_data_c)\n"
     ]
    },
    {
     "name": "stdout",
     "output_type": "stream",
     "text": [
      "925 0 0\n",
      "1056 1055 0\n",
      "        frame    id       x      y  width  height  xVelocity  yVelocity  \\\n",
      "84829    5519   250   23.50  23.97   4.65    1.92      39.46      -1.44   \n",
      "97482    6430   286   67.13  23.94   4.14    1.92      26.74      -1.16   \n",
      "154942  10421   456   33.67  23.91   4.24    1.92      38.28       1.04   \n",
      "315337  20851   925  176.25  23.90   4.55    1.92      34.68       1.46   \n",
      "360215  23816  1056  349.38  11.18   9.30    2.50     -23.69       0.78   \n",
      "\n",
      "        xAcceleration  yAcceleration  ...  followingId  leftPrecedingId  \\\n",
      "84829            0.46           0.21  ...            0              249   \n",
      "97482            0.45           0.14  ...            0              285   \n",
      "154942           0.23          -0.25  ...            0                0   \n",
      "315337           0.04          -0.06  ...          929                0   \n",
      "360215          -0.03          -0.06  ...            0             1055   \n",
      "\n",
      "        leftAlongsideId  leftFollowingId  rightPrecedingId  rightAlongsideId  \\\n",
      "84829                 0                0                 0                 0   \n",
      "97482                 0                0                 0                 0   \n",
      "154942                0                0               453                 0   \n",
      "315337                0                0               917                 0   \n",
      "360215                0                0                 0                 0   \n",
      "\n",
      "        rightFollowingId  laneId  O_P_Distance  O_F_Distance  \n",
      "84829                  0       6         46.29             #  \n",
      "97482                  0       6         52.48             #  \n",
      "154942                 0       5             #             #  \n",
      "315337               923       5             #             #  \n",
      "360215                 0       2          13.6             #  \n",
      "\n",
      "[5 rows x 27 columns]\n",
      "02已处理完毕！\n"
     ]
    },
    {
     "name": "stderr",
     "output_type": "stream",
     "text": [
      "/var/folders/d2/f3vm2qjs02ldnf3s8_w_jjd00000gn/T/ipykernel_2150/1625190689.py:44: FutureWarning: The frame.append method is deprecated and will be removed from pandas in a future version. Use pandas.concat instead.\n",
      "  finally_data=finally_data.append(new_data_c)\n",
      "/var/folders/d2/f3vm2qjs02ldnf3s8_w_jjd00000gn/T/ipykernel_2150/1625190689.py:44: FutureWarning: The frame.append method is deprecated and will be removed from pandas in a future version. Use pandas.concat instead.\n",
      "  finally_data=finally_data.append(new_data_c)\n"
     ]
    },
    {
     "name": "stdout",
     "output_type": "stream",
     "text": [
      "209 0 0\n",
      "662 660 0\n"
     ]
    },
    {
     "name": "stderr",
     "output_type": "stream",
     "text": [
      "/var/folders/d2/f3vm2qjs02ldnf3s8_w_jjd00000gn/T/ipykernel_2150/1625190689.py:44: FutureWarning: The frame.append method is deprecated and will be removed from pandas in a future version. Use pandas.concat instead.\n",
      "  finally_data=finally_data.append(new_data_c)\n",
      "/var/folders/d2/f3vm2qjs02ldnf3s8_w_jjd00000gn/T/ipykernel_2150/1625190689.py:44: FutureWarning: The frame.append method is deprecated and will be removed from pandas in a future version. Use pandas.concat instead.\n",
      "  finally_data=finally_data.append(new_data_c)\n"
     ]
    },
    {
     "name": "stdout",
     "output_type": "stream",
     "text": [
      "789 788 0\n",
      "839 838 0\n",
      "        frame   id       x      y  width  height  xVelocity  yVelocity  \\\n",
      "67304    5686  209  318.86  11.50   4.85    2.02     -42.45      -1.11   \n",
      "220442  18051  662   23.67  24.10   4.04    1.82      33.75      -1.30   \n",
      "262042  21747  789  394.64  11.37   4.85    2.22     -38.43       0.80   \n",
      "278857  22910  839   51.52  23.84   5.10    2.32      26.97      -1.33   \n",
      "\n",
      "        xAcceleration  yAcceleration  ...  followingId  leftPrecedingId  \\\n",
      "67304            0.07           0.12  ...            0                0   \n",
      "220442           0.66           0.14  ...            0              660   \n",
      "262042           0.47          -0.04  ...            0              788   \n",
      "278857           0.63           0.09  ...            0              838   \n",
      "\n",
      "        leftAlongsideId  leftFollowingId  rightPrecedingId  rightAlongsideId  \\\n",
      "67304                 0                0               199                 0   \n",
      "220442                0                0                 0                 0   \n",
      "262042                0                0                 0                 0   \n",
      "278857                0                0                 0                 0   \n",
      "\n",
      "        rightFollowingId  laneId  O_P_Distance  O_F_Distance  \n",
      "67304                210       3             #             #  \n",
      "220442                 0       6         34.45             #  \n",
      "262042                 0       2         21.45             #  \n",
      "278857                 0       6         21.36             #  \n",
      "\n",
      "[4 rows x 27 columns]\n",
      "03已处理完毕！\n"
     ]
    },
    {
     "name": "stderr",
     "output_type": "stream",
     "text": [
      "/var/folders/d2/f3vm2qjs02ldnf3s8_w_jjd00000gn/T/ipykernel_2150/1625190689.py:44: FutureWarning: The frame.append method is deprecated and will be removed from pandas in a future version. Use pandas.concat instead.\n",
      "  finally_data=finally_data.append(new_data_c)\n",
      "/var/folders/d2/f3vm2qjs02ldnf3s8_w_jjd00000gn/T/ipykernel_2150/1625190689.py:44: FutureWarning: The frame.append method is deprecated and will be removed from pandas in a future version. Use pandas.concat instead.\n",
      "  finally_data=finally_data.append(new_data_c)\n"
     ]
    },
    {
     "name": "stdout",
     "output_type": "stream",
     "text": [
      "169 0 0\n",
      "301 0 0\n"
     ]
    },
    {
     "name": "stderr",
     "output_type": "stream",
     "text": [
      "/var/folders/d2/f3vm2qjs02ldnf3s8_w_jjd00000gn/T/ipykernel_2150/1625190689.py:44: FutureWarning: The frame.append method is deprecated and will be removed from pandas in a future version. Use pandas.concat instead.\n",
      "  finally_data=finally_data.append(new_data_c)\n",
      "/var/folders/d2/f3vm2qjs02ldnf3s8_w_jjd00000gn/T/ipykernel_2150/1625190689.py:44: FutureWarning: The frame.append method is deprecated and will be removed from pandas in a future version. Use pandas.concat instead.\n",
      "  finally_data=finally_data.append(new_data_c)\n"
     ]
    },
    {
     "name": "stdout",
     "output_type": "stream",
     "text": [
      "692 0 0\n",
      "766 0 0\n",
      "769 0 0\n",
      "849 0 0\n",
      "1056 0 0\n"
     ]
    },
    {
     "name": "stderr",
     "output_type": "stream",
     "text": [
      "/var/folders/d2/f3vm2qjs02ldnf3s8_w_jjd00000gn/T/ipykernel_2150/1625190689.py:44: FutureWarning: The frame.append method is deprecated and will be removed from pandas in a future version. Use pandas.concat instead.\n",
      "  finally_data=finally_data.append(new_data_c)\n",
      "/var/folders/d2/f3vm2qjs02ldnf3s8_w_jjd00000gn/T/ipykernel_2150/1625190689.py:44: FutureWarning: The frame.append method is deprecated and will be removed from pandas in a future version. Use pandas.concat instead.\n",
      "  finally_data=finally_data.append(new_data_c)\n",
      "/var/folders/d2/f3vm2qjs02ldnf3s8_w_jjd00000gn/T/ipykernel_2150/1625190689.py:44: FutureWarning: The frame.append method is deprecated and will be removed from pandas in a future version. Use pandas.concat instead.\n",
      "  finally_data=finally_data.append(new_data_c)\n",
      "/var/folders/d2/f3vm2qjs02ldnf3s8_w_jjd00000gn/T/ipykernel_2150/1625190689.py:44: FutureWarning: The frame.append method is deprecated and will be removed from pandas in a future version. Use pandas.concat instead.\n",
      "  finally_data=finally_data.append(new_data_c)\n",
      "/var/folders/d2/f3vm2qjs02ldnf3s8_w_jjd00000gn/T/ipykernel_2150/1625190689.py:44: FutureWarning: The frame.append method is deprecated and will be removed from pandas in a future version. Use pandas.concat instead.\n",
      "  finally_data=finally_data.append(new_data_c)\n"
     ]
    },
    {
     "name": "stdout",
     "output_type": "stream",
     "text": [
      "1086 1081 1087\n",
      "        frame    id       x      y  width  height  xVelocity  yVelocity  \\\n",
      "55317    3845   169   90.72  29.14   4.35    1.92      40.39      -1.16   \n",
      "99866    6886   301  197.39  19.72   4.35    1.82     -32.17      -0.46   \n",
      "232913  16430   692  406.10  19.65   4.70    2.02     -39.15      -1.72   \n",
      "257958  18169   766   34.93  29.14   4.75    1.82      39.68       0.94   \n",
      "258857  18240   769   68.10  29.20   3.64    1.72      38.92       1.27   \n",
      "285773  20050   849  224.52  19.57   5.56    2.12     -36.66      -0.68   \n",
      "356034  24811  1056  311.93  19.64   4.35    1.92     -35.06       0.62   \n",
      "366394  25712  1086  316.29  16.00   4.45    1.92     -35.24       0.79   \n",
      "\n",
      "        xAcceleration  yAcceleration  ...  followingId  leftPrecedingId  \\\n",
      "55317            0.20          -0.11  ...          171                0   \n",
      "99866            0.36           0.07  ...            0                0   \n",
      "232913          -0.86          -0.01  ...            0                0   \n",
      "257958          -0.48          -0.08  ...          767                0   \n",
      "258857          -0.06          -0.07  ...          774                0   \n",
      "285773           0.23           0.07  ...            0                0   \n",
      "356034          -0.79          -0.19  ...            0                0   \n",
      "366394           0.10          -0.11  ...            0             1081   \n",
      "\n",
      "        leftAlongsideId  leftFollowingId  rightPrecedingId  rightAlongsideId  \\\n",
      "55317                 0                0               166                 0   \n",
      "99866                 0                0                 0                 0   \n",
      "232913                0                0               689                 0   \n",
      "257958                0                0               755                 0   \n",
      "258857                0                0               766                 0   \n",
      "285773                0                0                 0                 0   \n",
      "356034                0                0              1044                 0   \n",
      "366394                0             1087                 0                 0   \n",
      "\n",
      "        rightFollowingId  laneId  O_P_Distance  O_F_Distance  \n",
      "55317                  0       7             #             #  \n",
      "99866                299       4             #             #  \n",
      "232913                 0       4             #             #  \n",
      "257958                 0       6             #             #  \n",
      "258857                 0       6             #             #  \n",
      "285773               848       4             #             #  \n",
      "356034              1057       3             #             #  \n",
      "366394                 0       2         97.39         43.86  \n",
      "\n",
      "[8 rows x 27 columns]\n",
      "04已处理完毕！\n"
     ]
    },
    {
     "name": "stderr",
     "output_type": "stream",
     "text": [
      "/var/folders/d2/f3vm2qjs02ldnf3s8_w_jjd00000gn/T/ipykernel_2150/1625190689.py:44: FutureWarning: The frame.append method is deprecated and will be removed from pandas in a future version. Use pandas.concat instead.\n",
      "  finally_data=finally_data.append(new_data_c)\n"
     ]
    },
    {
     "name": "stdout",
     "output_type": "stream",
     "text": [
      "277 275 0\n",
      "401 403 413\n"
     ]
    },
    {
     "name": "stderr",
     "output_type": "stream",
     "text": [
      "/var/folders/d2/f3vm2qjs02ldnf3s8_w_jjd00000gn/T/ipykernel_2150/1625190689.py:44: FutureWarning: The frame.append method is deprecated and will be removed from pandas in a future version. Use pandas.concat instead.\n",
      "  finally_data=finally_data.append(new_data_c)\n",
      "/var/folders/d2/f3vm2qjs02ldnf3s8_w_jjd00000gn/T/ipykernel_2150/1625190689.py:44: FutureWarning: The frame.append method is deprecated and will be removed from pandas in a future version. Use pandas.concat instead.\n",
      "  finally_data=finally_data.append(new_data_c)\n"
     ]
    },
    {
     "name": "stdout",
     "output_type": "stream",
     "text": [
      "726 725 0\n",
      "731 728 0\n",
      "819 0 0\n",
      "835 0 837\n",
      "926 0 0\n"
     ]
    },
    {
     "name": "stderr",
     "output_type": "stream",
     "text": [
      "/var/folders/d2/f3vm2qjs02ldnf3s8_w_jjd00000gn/T/ipykernel_2150/1625190689.py:44: FutureWarning: The frame.append method is deprecated and will be removed from pandas in a future version. Use pandas.concat instead.\n",
      "  finally_data=finally_data.append(new_data_c)\n",
      "/var/folders/d2/f3vm2qjs02ldnf3s8_w_jjd00000gn/T/ipykernel_2150/1625190689.py:44: FutureWarning: The frame.append method is deprecated and will be removed from pandas in a future version. Use pandas.concat instead.\n",
      "  finally_data=finally_data.append(new_data_c)\n",
      "/var/folders/d2/f3vm2qjs02ldnf3s8_w_jjd00000gn/T/ipykernel_2150/1625190689.py:44: FutureWarning: The frame.append method is deprecated and will be removed from pandas in a future version. Use pandas.concat instead.\n",
      "  finally_data=finally_data.append(new_data_c)\n",
      "/var/folders/d2/f3vm2qjs02ldnf3s8_w_jjd00000gn/T/ipykernel_2150/1625190689.py:44: FutureWarning: The frame.append method is deprecated and will be removed from pandas in a future version. Use pandas.concat instead.\n",
      "  finally_data=finally_data.append(new_data_c)\n",
      "/var/folders/d2/f3vm2qjs02ldnf3s8_w_jjd00000gn/T/ipykernel_2150/1625190689.py:44: FutureWarning: The frame.append method is deprecated and will be removed from pandas in a future version. Use pandas.concat instead.\n",
      "  finally_data=finally_data.append(new_data_c)\n"
     ]
    },
    {
     "name": "stdout",
     "output_type": "stream",
     "text": [
      "        frame   id       x      y  width  height  xVelocity  yVelocity  \\\n",
      "89599    6348  277   88.13  32.82   4.24    1.92      37.23      -1.17   \n",
      "131750   9469  401  189.57  15.98   4.85    2.02     -27.91       1.75   \n",
      "241614  16915  726  378.34  19.73   5.05    1.92     -32.69       1.29   \n",
      "243136  17032  731  289.31  19.74   4.35    1.92     -32.00       0.88   \n",
      "273349  18727  819  383.52  19.71   4.85    2.02     -39.36      -0.64   \n",
      "278865  19136  835  323.67  19.62   5.51    2.12     -34.17       0.78   \n",
      "307587  21566  926   98.29  29.19   4.45    1.92      41.19       0.91   \n",
      "\n",
      "        xAcceleration  yAcceleration  ...  followingId  leftPrecedingId  \\\n",
      "89599            0.11           0.12  ...            0              275   \n",
      "131750          -1.26          -0.14  ...          405              403   \n",
      "241614          -0.48          -0.36  ...            0              725   \n",
      "243136          -0.25          -0.11  ...          735              728   \n",
      "273349           0.27          -0.02  ...            0                0   \n",
      "278865           0.16           0.05  ...          836                0   \n",
      "307587           0.34           0.02  ...            0                0   \n",
      "\n",
      "        leftAlongsideId  leftFollowingId  rightPrecedingId  rightAlongsideId  \\\n",
      "89599                 0                0                 0                 0   \n",
      "131750                0              413                 0                 0   \n",
      "241614                0                0               721                 0   \n",
      "243136                0                0               721                 0   \n",
      "273349                0                0               809                 0   \n",
      "278865                0              837               829                 0   \n",
      "307587                0                0               923                 0   \n",
      "\n",
      "        rightFollowingId  laneId  O_P_Distance  O_F_Distance  \n",
      "89599                  0       8         79.58             #  \n",
      "131750                 0       2         15.99         215.8  \n",
      "241614                 0       3         22.51             #  \n",
      "243136               733       3         42.79             #  \n",
      "273349               820       4             #             #  \n",
      "278865                 0       3             #         62.43  \n",
      "307587               928       6             #             #  \n",
      "\n",
      "[7 rows x 27 columns]\n",
      "05已处理完毕！\n",
      "96 0 0\n",
      "133 131 134\n"
     ]
    },
    {
     "name": "stderr",
     "output_type": "stream",
     "text": [
      "/var/folders/d2/f3vm2qjs02ldnf3s8_w_jjd00000gn/T/ipykernel_2150/1625190689.py:44: FutureWarning: The frame.append method is deprecated and will be removed from pandas in a future version. Use pandas.concat instead.\n",
      "  finally_data=finally_data.append(new_data_c)\n",
      "/var/folders/d2/f3vm2qjs02ldnf3s8_w_jjd00000gn/T/ipykernel_2150/1625190689.py:44: FutureWarning: The frame.append method is deprecated and will be removed from pandas in a future version. Use pandas.concat instead.\n",
      "  finally_data=finally_data.append(new_data_c)\n"
     ]
    },
    {
     "name": "stdout",
     "output_type": "stream",
     "text": [
      "491 0 0\n"
     ]
    },
    {
     "name": "stderr",
     "output_type": "stream",
     "text": [
      "/var/folders/d2/f3vm2qjs02ldnf3s8_w_jjd00000gn/T/ipykernel_2150/1625190689.py:44: FutureWarning: The frame.append method is deprecated and will be removed from pandas in a future version. Use pandas.concat instead.\n",
      "  finally_data=finally_data.append(new_data_c)\n"
     ]
    },
    {
     "name": "stdout",
     "output_type": "stream",
     "text": [
      "919 918 0\n",
      "1006 1000 0\n",
      "1082 1080 1084\n",
      "1096 1091 0\n",
      "1123 0 1124\n"
     ]
    },
    {
     "name": "stderr",
     "output_type": "stream",
     "text": [
      "/var/folders/d2/f3vm2qjs02ldnf3s8_w_jjd00000gn/T/ipykernel_2150/1625190689.py:44: FutureWarning: The frame.append method is deprecated and will be removed from pandas in a future version. Use pandas.concat instead.\n",
      "  finally_data=finally_data.append(new_data_c)\n",
      "/var/folders/d2/f3vm2qjs02ldnf3s8_w_jjd00000gn/T/ipykernel_2150/1625190689.py:44: FutureWarning: The frame.append method is deprecated and will be removed from pandas in a future version. Use pandas.concat instead.\n",
      "  finally_data=finally_data.append(new_data_c)\n",
      "/var/folders/d2/f3vm2qjs02ldnf3s8_w_jjd00000gn/T/ipykernel_2150/1625190689.py:44: FutureWarning: The frame.append method is deprecated and will be removed from pandas in a future version. Use pandas.concat instead.\n",
      "  finally_data=finally_data.append(new_data_c)\n",
      "/var/folders/d2/f3vm2qjs02ldnf3s8_w_jjd00000gn/T/ipykernel_2150/1625190689.py:44: FutureWarning: The frame.append method is deprecated and will be removed from pandas in a future version. Use pandas.concat instead.\n",
      "  finally_data=finally_data.append(new_data_c)\n",
      "/var/folders/d2/f3vm2qjs02ldnf3s8_w_jjd00000gn/T/ipykernel_2150/1625190689.py:44: FutureWarning: The frame.append method is deprecated and will be removed from pandas in a future version. Use pandas.concat instead.\n",
      "  finally_data=finally_data.append(new_data_c)\n"
     ]
    },
    {
     "name": "stdout",
     "output_type": "stream",
     "text": [
      "1316 0 0\n",
      "        frame    id       x      y  width  height  xVelocity  yVelocity  \\\n",
      "28140    1976    96  396.32  19.97   3.84    1.82     -34.11       0.69   \n",
      "41208    2726   133  299.93  19.89   4.95    1.92     -35.48       0.90   \n",
      "163339  10287   491  383.17  19.92   4.65    1.92     -38.90       0.98   \n",
      "308293  19192   919  401.37  19.87   4.95    2.02     -30.76       1.75   \n",
      "337671  20961  1006  257.62  19.75   5.05    2.22     -35.62       1.21   \n",
      "362315  23069  1082  274.40  19.86   4.85    2.02     -30.69       1.30   \n",
      "367326  23375  1096  352.88  19.81   4.55    2.02     -34.77       1.59   \n",
      "375947  24152  1123   72.02  29.26   5.15    2.02      37.82      -0.73   \n",
      "440546  28782  1316   53.06  29.23   5.15    2.02      34.99       0.79   \n",
      "\n",
      "        xAcceleration  yAcceleration  ...  followingId  leftPrecedingId  \\\n",
      "28140           -0.30          -0.09  ...            0                0   \n",
      "41208           -0.19          -0.01  ...            0              131   \n",
      "163339          -0.04          -0.08  ...            0                0   \n",
      "308293          -0.48          -0.19  ...            0              918   \n",
      "337671          -0.06           0.08  ...         1011             1000   \n",
      "362315          -0.61          -0.05  ...         1086             1080   \n",
      "367326          -0.49          -0.43  ...            0             1091   \n",
      "375947           0.41          -0.05  ...            0                0   \n",
      "440546          -0.04           0.03  ...         1318                0   \n",
      "\n",
      "        leftAlongsideId  leftFollowingId  rightPrecedingId  rightAlongsideId  \\\n",
      "28140                 0                0                89                 0   \n",
      "41208                 0              134               128                 0   \n",
      "163339                0                0               484                 0   \n",
      "308293                0                0               907                 0   \n",
      "337671                0                0                 0                 0   \n",
      "362315                0             1084              1078                 0   \n",
      "367326                0                0              1094                 0   \n",
      "375947                0             1124              1120                 0   \n",
      "440546                0                0              1313                 0   \n",
      "\n",
      "        rightFollowingId  laneId  O_P_Distance  O_F_Distance  \n",
      "28140                  0       3             #             #  \n",
      "41208                130       3         16.28         28.27  \n",
      "163339                 0       3             #             #  \n",
      "308293                 0       3         11.35             #  \n",
      "337671              1005       3         204.4             #  \n",
      "362315                 0       3         72.35         98.61  \n",
      "367326                 0       3        107.58             #  \n",
      "375947                 0       7             #         19.15  \n",
      "440546              1319       6             #             #  \n",
      "\n",
      "[9 rows x 27 columns]\n",
      "06已处理完毕！\n"
     ]
    },
    {
     "name": "stderr",
     "output_type": "stream",
     "text": [
      "/var/folders/d2/f3vm2qjs02ldnf3s8_w_jjd00000gn/T/ipykernel_2150/1625190689.py:44: FutureWarning: The frame.append method is deprecated and will be removed from pandas in a future version. Use pandas.concat instead.\n",
      "  finally_data=finally_data.append(new_data_c)\n"
     ]
    },
    {
     "name": "stdout",
     "output_type": "stream",
     "text": [
      "602 600 0\n",
      "        frame   id      x      y  width  height  xVelocity  yVelocity  \\\n",
      "183959  10266  602  11.81  22.02   4.35    1.92      37.96       -0.9   \n",
      "\n",
      "        xAcceleration  yAcceleration  ...  followingId  leftPrecedingId  \\\n",
      "183959           0.18           0.04  ...            0              600   \n",
      "\n",
      "        leftAlongsideId  leftFollowingId  rightPrecedingId  rightAlongsideId  \\\n",
      "183959                0                0               599               601   \n",
      "\n",
      "        rightFollowingId  laneId  O_P_Distance  O_F_Distance  \n",
      "183959                 0       7        118.81             #  \n",
      "\n",
      "[1 rows x 27 columns]\n",
      "07已处理完毕！\n"
     ]
    },
    {
     "name": "stderr",
     "output_type": "stream",
     "text": [
      "/var/folders/d2/f3vm2qjs02ldnf3s8_w_jjd00000gn/T/ipykernel_2150/1625190689.py:44: FutureWarning: The frame.append method is deprecated and will be removed from pandas in a future version. Use pandas.concat instead.\n",
      "  finally_data=finally_data.append(new_data_c)\n"
     ]
    },
    {
     "name": "stdout",
     "output_type": "stream",
     "text": [
      "38 0 0\n",
      "280 0 0\n",
      "391 388 0\n"
     ]
    },
    {
     "name": "stderr",
     "output_type": "stream",
     "text": [
      "/var/folders/d2/f3vm2qjs02ldnf3s8_w_jjd00000gn/T/ipykernel_2150/1625190689.py:44: FutureWarning: The frame.append method is deprecated and will be removed from pandas in a future version. Use pandas.concat instead.\n",
      "  finally_data=finally_data.append(new_data_c)\n",
      "/var/folders/d2/f3vm2qjs02ldnf3s8_w_jjd00000gn/T/ipykernel_2150/1625190689.py:44: FutureWarning: The frame.append method is deprecated and will be removed from pandas in a future version. Use pandas.concat instead.\n",
      "  finally_data=finally_data.append(new_data_c)\n",
      "/var/folders/d2/f3vm2qjs02ldnf3s8_w_jjd00000gn/T/ipykernel_2150/1625190689.py:44: FutureWarning: The frame.append method is deprecated and will be removed from pandas in a future version. Use pandas.concat instead.\n",
      "  finally_data=finally_data.append(new_data_c)\n"
     ]
    },
    {
     "name": "stdout",
     "output_type": "stream",
     "text": [
      "631 0 0\n",
      "768 764 0\n"
     ]
    },
    {
     "name": "stderr",
     "output_type": "stream",
     "text": [
      "/var/folders/d2/f3vm2qjs02ldnf3s8_w_jjd00000gn/T/ipykernel_2150/1625190689.py:44: FutureWarning: The frame.append method is deprecated and will be removed from pandas in a future version. Use pandas.concat instead.\n",
      "  finally_data=finally_data.append(new_data_c)\n",
      "/var/folders/d2/f3vm2qjs02ldnf3s8_w_jjd00000gn/T/ipykernel_2150/1625190689.py:44: FutureWarning: The frame.append method is deprecated and will be removed from pandas in a future version. Use pandas.concat instead.\n",
      "  finally_data=finally_data.append(new_data_c)\n"
     ]
    },
    {
     "name": "stdout",
     "output_type": "stream",
     "text": [
      "1576 1575 0\n",
      "        frame    id       x      y  width  height  xVelocity  yVelocity  \\\n",
      "7908      219    38   28.02  22.26   4.85    1.92      44.25       1.48   \n",
      "83031    4331   280   25.43  22.30   5.05    1.82      42.69       0.91   \n",
      "116216   6480   391   76.84  22.30   5.15    1.92      34.25      -0.92   \n",
      "186350  11111   631   43.54  22.25   4.24    1.92      47.24       0.92   \n",
      "226595  13488   768  317.17   6.37   5.46    2.22     -28.17       1.18   \n",
      "471054  26586  1576  392.56  10.16   4.55    1.92     -37.46       0.83   \n",
      "\n",
      "        xAcceleration  yAcceleration  ...  followingId  leftPrecedingId  \\\n",
      "7908            -0.08          -0.36  ...            0                0   \n",
      "83031           -0.01          -0.20  ...            0                0   \n",
      "116216           0.28          -0.04  ...            0              388   \n",
      "186350          -0.01          -0.16  ...            0                0   \n",
      "226595          -0.48          -0.10  ...            0              764   \n",
      "471054           0.01          -0.12  ...            0             1575   \n",
      "\n",
      "        leftAlongsideId  leftFollowingId  rightPrecedingId  rightAlongsideId  \\\n",
      "7908                  0                0                28                 0   \n",
      "83031                 0                0               273                 0   \n",
      "116216                0                0               387                 0   \n",
      "186350                0                0               629                 0   \n",
      "226595                0                0                 0                 0   \n",
      "471054                0                0              1567                 0   \n",
      "\n",
      "        rightFollowingId  laneId  O_P_Distance  O_F_Distance  \n",
      "7908                   0       6             #             #  \n",
      "83031                  0       6             #             #  \n",
      "116216                 0       7        120.28             #  \n",
      "186350                 0       6             #             #  \n",
      "226595                 0       2        148.74             #  \n",
      "471054                 0       3         20.34             #  \n",
      "\n",
      "[6 rows x 27 columns]\n",
      "08已处理完毕！\n"
     ]
    },
    {
     "name": "stderr",
     "output_type": "stream",
     "text": [
      "/var/folders/d2/f3vm2qjs02ldnf3s8_w_jjd00000gn/T/ipykernel_2150/1625190689.py:44: FutureWarning: The frame.append method is deprecated and will be removed from pandas in a future version. Use pandas.concat instead.\n",
      "  finally_data=finally_data.append(new_data_c)\n"
     ]
    },
    {
     "name": "stdout",
     "output_type": "stream",
     "text": [
      "81 80 0\n",
      "506 505 0\n"
     ]
    },
    {
     "name": "stderr",
     "output_type": "stream",
     "text": [
      "/var/folders/d2/f3vm2qjs02ldnf3s8_w_jjd00000gn/T/ipykernel_2150/1625190689.py:44: FutureWarning: The frame.append method is deprecated and will be removed from pandas in a future version. Use pandas.concat instead.\n",
      "  finally_data=finally_data.append(new_data_c)\n",
      "/var/folders/d2/f3vm2qjs02ldnf3s8_w_jjd00000gn/T/ipykernel_2150/1625190689.py:44: FutureWarning: The frame.append method is deprecated and will be removed from pandas in a future version. Use pandas.concat instead.\n",
      "  finally_data=finally_data.append(new_data_c)\n"
     ]
    },
    {
     "name": "stdout",
     "output_type": "stream",
     "text": [
      "728 723 0\n",
      "734 732 0\n"
     ]
    },
    {
     "name": "stderr",
     "output_type": "stream",
     "text": [
      "/var/folders/d2/f3vm2qjs02ldnf3s8_w_jjd00000gn/T/ipykernel_2150/1625190689.py:44: FutureWarning: The frame.append method is deprecated and will be removed from pandas in a future version. Use pandas.concat instead.\n",
      "  finally_data=finally_data.append(new_data_c)\n",
      "/var/folders/d2/f3vm2qjs02ldnf3s8_w_jjd00000gn/T/ipykernel_2150/1625190689.py:44: FutureWarning: The frame.append method is deprecated and will be removed from pandas in a future version. Use pandas.concat instead.\n",
      "  finally_data=finally_data.append(new_data_c)\n"
     ]
    },
    {
     "name": "stdout",
     "output_type": "stream",
     "text": [
      "1174 1173 0\n",
      "1375 1370 0\n",
      "        frame    id       x      y  width  height  xVelocity  yVelocity  \\\n",
      "22217    1212    81  365.57  10.03   4.14    1.82     -29.32       1.25   \n",
      "152382   9637   506  396.54   9.92   4.55    2.02     -32.70       1.48   \n",
      "222378  13920   728   44.64  22.23   4.24    1.92      42.96      -1.62   \n",
      "224033  14142   734  224.24   9.86   4.85    2.12     -45.02       1.03   \n",
      "362879  21895  1174  358.14   6.19   5.56    2.22     -33.32       0.90   \n",
      "424477  26043  1375  128.74  22.09   5.05    2.12      34.97      -1.41   \n",
      "\n",
      "        xAcceleration  yAcceleration  ...  followingId  leftPrecedingId  \\\n",
      "22217           -0.93          -0.33  ...            0               80   \n",
      "152382           0.17          -0.17  ...            0              505   \n",
      "222378           0.10           0.39  ...            0              723   \n",
      "224033           0.25          -0.08  ...          741              732   \n",
      "362879          -0.37          -0.22  ...            0             1173   \n",
      "424477           0.34          -0.03  ...            0             1370   \n",
      "\n",
      "        leftAlongsideId  leftFollowingId  rightPrecedingId  rightAlongsideId  \\\n",
      "22217                 0                0                77                82   \n",
      "152382                0                0               501                 0   \n",
      "222378                0                0                 0                 0   \n",
      "224033                0                0                 0                 0   \n",
      "362879                0                0                 0                 0   \n",
      "424477                0                0              1372                 0   \n",
      "\n",
      "        rightFollowingId  laneId  O_P_Distance  O_F_Distance  \n",
      "22217                  0       3         25.45             #  \n",
      "152382                 0       3         16.76             #  \n",
      "222378                 0       7        254.60             #  \n",
      "224033               733       3         46.39             #  \n",
      "362879                 0       2         36.92             #  \n",
      "424477              1379       7        121.91             #  \n",
      "\n",
      "[6 rows x 27 columns]\n",
      "09已处理完毕！\n"
     ]
    },
    {
     "name": "stderr",
     "output_type": "stream",
     "text": [
      "/var/folders/d2/f3vm2qjs02ldnf3s8_w_jjd00000gn/T/ipykernel_2150/1625190689.py:44: FutureWarning: The frame.append method is deprecated and will be removed from pandas in a future version. Use pandas.concat instead.\n",
      "  finally_data=finally_data.append(new_data_c)\n",
      "/var/folders/d2/f3vm2qjs02ldnf3s8_w_jjd00000gn/T/ipykernel_2150/1625190689.py:44: FutureWarning: The frame.append method is deprecated and will be removed from pandas in a future version. Use pandas.concat instead.\n",
      "  finally_data=finally_data.append(new_data_c)\n"
     ]
    },
    {
     "name": "stdout",
     "output_type": "stream",
     "text": [
      "Empty DataFrame\n",
      "Columns: []\n",
      "Index: []\n",
      "10已处理完毕！\n",
      "383 382 386\n",
      "456 451 0\n"
     ]
    },
    {
     "name": "stderr",
     "output_type": "stream",
     "text": [
      "/var/folders/d2/f3vm2qjs02ldnf3s8_w_jjd00000gn/T/ipykernel_2150/1625190689.py:44: FutureWarning: The frame.append method is deprecated and will be removed from pandas in a future version. Use pandas.concat instead.\n",
      "  finally_data=finally_data.append(new_data_c)\n",
      "/var/folders/d2/f3vm2qjs02ldnf3s8_w_jjd00000gn/T/ipykernel_2150/1625190689.py:44: FutureWarning: The frame.append method is deprecated and will be removed from pandas in a future version. Use pandas.concat instead.\n",
      "  finally_data=finally_data.append(new_data_c)\n"
     ]
    },
    {
     "name": "stdout",
     "output_type": "stream",
     "text": [
      "1090 1086 1094\n"
     ]
    },
    {
     "name": "stderr",
     "output_type": "stream",
     "text": [
      "/var/folders/d2/f3vm2qjs02ldnf3s8_w_jjd00000gn/T/ipykernel_2150/1625190689.py:44: FutureWarning: The frame.append method is deprecated and will be removed from pandas in a future version. Use pandas.concat instead.\n",
      "  finally_data=finally_data.append(new_data_c)\n"
     ]
    },
    {
     "name": "stdout",
     "output_type": "stream",
     "text": [
      "        frame    id       x      y  width  height  xVelocity  yVelocity  \\\n",
      "138872   3067   383   62.74  24.00   3.84    1.72      28.37      -0.83   \n",
      "167945   3631   456  396.33  10.44   4.45    1.92     -26.47       0.86   \n",
      "410326   9115  1090  315.67  10.45   4.95    1.92     -26.63       0.90   \n",
      "\n",
      "        xAcceleration  yAcceleration  ...  followingId  leftPrecedingId  \\\n",
      "138872           0.56           0.06  ...            0              382   \n",
      "167945          -0.01          -0.10  ...            0              451   \n",
      "410326          -0.60          -0.21  ...         1095             1086   \n",
      "\n",
      "        leftAlongsideId  leftFollowingId  rightPrecedingId  rightAlongsideId  \\\n",
      "138872                0              386               379                 0   \n",
      "167945                0                0               454                 0   \n",
      "410326                0             1094              1081                 0   \n",
      "\n",
      "        rightFollowingId  laneId  O_P_Distance  O_F_Distance  \n",
      "138872               385       7         26.15         17.25  \n",
      "167945                 0       3         51.07             #  \n",
      "410326              1096       3         29.24         34.04  \n",
      "\n",
      "[3 rows x 27 columns]\n",
      "11已处理完毕！\n",
      "1115 0 0\n",
      "1322 1306 1325\n"
     ]
    },
    {
     "name": "stderr",
     "output_type": "stream",
     "text": [
      "/var/folders/d2/f3vm2qjs02ldnf3s8_w_jjd00000gn/T/ipykernel_2150/1625190689.py:44: FutureWarning: The frame.append method is deprecated and will be removed from pandas in a future version. Use pandas.concat instead.\n",
      "  finally_data=finally_data.append(new_data_c)\n",
      "/var/folders/d2/f3vm2qjs02ldnf3s8_w_jjd00000gn/T/ipykernel_2150/1625190689.py:44: FutureWarning: The frame.append method is deprecated and will be removed from pandas in a future version. Use pandas.concat instead.\n",
      "  finally_data=finally_data.append(new_data_c)\n"
     ]
    },
    {
     "name": "stdout",
     "output_type": "stream",
     "text": [
      "1434 0 0\n"
     ]
    },
    {
     "name": "stderr",
     "output_type": "stream",
     "text": [
      "/var/folders/d2/f3vm2qjs02ldnf3s8_w_jjd00000gn/T/ipykernel_2150/1625190689.py:44: FutureWarning: The frame.append method is deprecated and will be removed from pandas in a future version. Use pandas.concat instead.\n",
      "  finally_data=finally_data.append(new_data_c)\n"
     ]
    },
    {
     "name": "stdout",
     "output_type": "stream",
     "text": [
      "1896 1893 1904\n",
      "2143 0 0\n"
     ]
    },
    {
     "name": "stderr",
     "output_type": "stream",
     "text": [
      "/var/folders/d2/f3vm2qjs02ldnf3s8_w_jjd00000gn/T/ipykernel_2150/1625190689.py:44: FutureWarning: The frame.append method is deprecated and will be removed from pandas in a future version. Use pandas.concat instead.\n",
      "  finally_data=finally_data.append(new_data_c)\n",
      "/var/folders/d2/f3vm2qjs02ldnf3s8_w_jjd00000gn/T/ipykernel_2150/1625190689.py:44: FutureWarning: The frame.append method is deprecated and will be removed from pandas in a future version. Use pandas.concat instead.\n",
      "  finally_data=finally_data.append(new_data_c)\n"
     ]
    },
    {
     "name": "stdout",
     "output_type": "stream",
     "text": [
      "        frame    id       x      y  width  height  xVelocity  yVelocity  \\\n",
      "490532   8899  1115  282.19  14.70   4.55    2.02     -21.55      -0.98   \n",
      "590153  10704  1322  387.25  10.97   4.65    1.92     -17.77      -0.85   \n",
      "641427  11676  1434  361.05  14.69   4.85    2.02     -17.92      -0.78   \n",
      "834367  15913  1896  349.96  10.97   4.45    1.82     -22.33       0.62   \n",
      "926151  18095  2143  192.89  28.00   4.04    1.82      28.41       0.79   \n",
      "\n",
      "        xAcceleration  yAcceleration  ...  followingId  leftPrecedingId  \\\n",
      "490532          -0.28          -0.10  ...         1120                0   \n",
      "590153          -1.05           0.04  ...            0             1306   \n",
      "641427          -1.76           0.09  ...         1438                0   \n",
      "834367           0.43          -0.26  ...         1902             1893   \n",
      "926151           0.77           0.04  ...         2155                0   \n",
      "\n",
      "        leftAlongsideId  leftFollowingId  rightPrecedingId  rightAlongsideId  \\\n",
      "490532                0                0              1109                 0   \n",
      "590153             1313             1325              1314                 0   \n",
      "641427                0                0              1432                 0   \n",
      "834367                0             1904                 0                 0   \n",
      "926151                0                0              2139                 0   \n",
      "\n",
      "        rightFollowingId  laneId  O_P_Distance  O_F_Distance  \n",
      "490532              1123       4             #             #  \n",
      "590153                 0       3         13.05         17.85  \n",
      "641427              1440       4             #             #  \n",
      "834367                 0       2         20.64         51.29  \n",
      "926151              2146       6             #             #  \n",
      "\n",
      "[5 rows x 27 columns]\n",
      "12已处理完毕！\n",
      "722 0 0\n",
      "777 776 0\n"
     ]
    },
    {
     "name": "stderr",
     "output_type": "stream",
     "text": [
      "/var/folders/d2/f3vm2qjs02ldnf3s8_w_jjd00000gn/T/ipykernel_2150/1625190689.py:44: FutureWarning: The frame.append method is deprecated and will be removed from pandas in a future version. Use pandas.concat instead.\n",
      "  finally_data=finally_data.append(new_data_c)\n",
      "/var/folders/d2/f3vm2qjs02ldnf3s8_w_jjd00000gn/T/ipykernel_2150/1625190689.py:44: FutureWarning: The frame.append method is deprecated and will be removed from pandas in a future version. Use pandas.concat instead.\n",
      "  finally_data=finally_data.append(new_data_c)\n"
     ]
    },
    {
     "name": "stdout",
     "output_type": "stream",
     "text": [
      "2038 2033 2044\n",
      "2138 2136 0\n"
     ]
    },
    {
     "name": "stderr",
     "output_type": "stream",
     "text": [
      "/var/folders/d2/f3vm2qjs02ldnf3s8_w_jjd00000gn/T/ipykernel_2150/1625190689.py:44: FutureWarning: The frame.append method is deprecated and will be removed from pandas in a future version. Use pandas.concat instead.\n",
      "  finally_data=finally_data.append(new_data_c)\n",
      "/var/folders/d2/f3vm2qjs02ldnf3s8_w_jjd00000gn/T/ipykernel_2150/1625190689.py:44: FutureWarning: The frame.append method is deprecated and will be removed from pandas in a future version. Use pandas.concat instead.\n",
      "  finally_data=finally_data.append(new_data_c)\n"
     ]
    },
    {
     "name": "stdout",
     "output_type": "stream",
     "text": [
      "2490 2488 2492\n"
     ]
    },
    {
     "name": "stderr",
     "output_type": "stream",
     "text": [
      "/var/folders/d2/f3vm2qjs02ldnf3s8_w_jjd00000gn/T/ipykernel_2150/1625190689.py:44: FutureWarning: The frame.append method is deprecated and will be removed from pandas in a future version. Use pandas.concat instead.\n",
      "  finally_data=finally_data.append(new_data_c)\n"
     ]
    },
    {
     "name": "stdout",
     "output_type": "stream",
     "text": [
      "2827 2825 0\n",
      "         frame    id       x      y  width  height  xVelocity  yVelocity  \\\n",
      "258523    6075   722  328.16  20.26   4.65    1.82     -36.47      -1.42   \n",
      "276666    6583   777   42.78  33.55   4.35    1.82      27.70      -1.08   \n",
      "728072   18429  2038  287.79  16.49   3.74    1.92     -28.03       0.79   \n",
      "762548   19228  2138   41.42  37.15   4.85    1.82      34.32       0.92   \n",
      "889888   22463  2490   33.08  37.09   5.15    2.02      27.00       0.08   \n",
      "1008411  25566  2827    7.82  33.52   4.35    1.82      27.46      -0.97   \n",
      "\n",
      "         xAcceleration  yAcceleration  ...  followingId  leftPrecedingId  \\\n",
      "258523            0.48          -0.32  ...          725                0   \n",
      "276666            0.78          -0.08  ...            0              776   \n",
      "728072           -0.33          -0.15  ...         2041             2033   \n",
      "762548           -0.23          -0.17  ...            0             2136   \n",
      "889888            0.20          -0.21  ...            0             2488   \n",
      "1008411           0.55           0.05  ...            0             2825   \n",
      "\n",
      "         leftAlongsideId  leftFollowingId  rightPrecedingId  rightAlongsideId  \\\n",
      "258523                 0                0               716                 0   \n",
      "276666                 0                0               773                 0   \n",
      "728072                 0             2044                 0                 0   \n",
      "762548                 0                0              2127                 0   \n",
      "889888                 0             2492              2482                 0   \n",
      "1008411                0                0              2823                 0   \n",
      "\n",
      "         rightFollowingId  laneId  O_P_Distance  O_F_Distance  \n",
      "258523                723       4             #             #  \n",
      "276666                  0       7         18.32             #  \n",
      "728072                  0       2         35.66         55.34  \n",
      "762548               2141       7         21.13             #  \n",
      "889888                  0       7         25.13          7.43  \n",
      "1008411                 0       7         28.14             #  \n",
      "\n",
      "[6 rows x 27 columns]\n",
      "13已处理完毕！\n"
     ]
    },
    {
     "name": "stderr",
     "output_type": "stream",
     "text": [
      "/var/folders/d2/f3vm2qjs02ldnf3s8_w_jjd00000gn/T/ipykernel_2150/1625190689.py:44: FutureWarning: The frame.append method is deprecated and will be removed from pandas in a future version. Use pandas.concat instead.\n",
      "  finally_data=finally_data.append(new_data_c)\n"
     ]
    },
    {
     "name": "stdout",
     "output_type": "stream",
     "text": [
      "266 0 0\n"
     ]
    },
    {
     "name": "stderr",
     "output_type": "stream",
     "text": [
      "/var/folders/d2/f3vm2qjs02ldnf3s8_w_jjd00000gn/T/ipykernel_2150/1625190689.py:44: FutureWarning: The frame.append method is deprecated and will be removed from pandas in a future version. Use pandas.concat instead.\n",
      "  finally_data=finally_data.append(new_data_c)\n"
     ]
    },
    {
     "name": "stdout",
     "output_type": "stream",
     "text": [
      "740 735 741\n"
     ]
    },
    {
     "name": "stderr",
     "output_type": "stream",
     "text": [
      "/var/folders/d2/f3vm2qjs02ldnf3s8_w_jjd00000gn/T/ipykernel_2150/1625190689.py:44: FutureWarning: The frame.append method is deprecated and will be removed from pandas in a future version. Use pandas.concat instead.\n",
      "  finally_data=finally_data.append(new_data_c)\n"
     ]
    },
    {
     "name": "stdout",
     "output_type": "stream",
     "text": [
      "1442 1436 0\n"
     ]
    },
    {
     "name": "stderr",
     "output_type": "stream",
     "text": [
      "/var/folders/d2/f3vm2qjs02ldnf3s8_w_jjd00000gn/T/ipykernel_2150/1625190689.py:44: FutureWarning: The frame.append method is deprecated and will be removed from pandas in a future version. Use pandas.concat instead.\n",
      "  finally_data=finally_data.append(new_data_c)\n"
     ]
    },
    {
     "name": "stdout",
     "output_type": "stream",
     "text": [
      "1775 1772 0\n"
     ]
    },
    {
     "name": "stderr",
     "output_type": "stream",
     "text": [
      "/var/folders/d2/f3vm2qjs02ldnf3s8_w_jjd00000gn/T/ipykernel_2150/1625190689.py:44: FutureWarning: The frame.append method is deprecated and will be removed from pandas in a future version. Use pandas.concat instead.\n",
      "  finally_data=finally_data.append(new_data_c)\n"
     ]
    },
    {
     "name": "stdout",
     "output_type": "stream",
     "text": [
      "2199 2197 0\n"
     ]
    },
    {
     "name": "stderr",
     "output_type": "stream",
     "text": [
      "/var/folders/d2/f3vm2qjs02ldnf3s8_w_jjd00000gn/T/ipykernel_2150/1625190689.py:44: FutureWarning: The frame.append method is deprecated and will be removed from pandas in a future version. Use pandas.concat instead.\n",
      "  finally_data=finally_data.append(new_data_c)\n"
     ]
    },
    {
     "name": "stdout",
     "output_type": "stream",
     "text": [
      "        frame    id       x      y  width  height  xVelocity  yVelocity  \\\n",
      "91832    2159   266  393.24  14.86   4.75    1.92     -37.89      -0.73   \n",
      "256080   6819   740  381.33  11.15   4.55    1.92     -23.83      -0.88   \n",
      "512486  13507  1442  346.18  11.11   4.45    1.92     -29.94       0.58   \n",
      "622629  16992  1775  399.64  14.82   4.95    1.92     -34.11       0.63   \n",
      "762205  21474  2199  395.42  14.88   4.95    1.82     -32.99       0.80   \n",
      "\n",
      "        xAcceleration  yAcceleration  ...  followingId  leftPrecedingId  \\\n",
      "91832            0.27           0.04  ...            0                0   \n",
      "256080          -0.14          -0.02  ...            0              735   \n",
      "512486          -0.05          -0.07  ...            0             1436   \n",
      "622629          -0.01          -0.06  ...            0             1772   \n",
      "762205          -0.12          -0.06  ...            0             2197   \n",
      "\n",
      "        leftAlongsideId  leftFollowingId  rightPrecedingId  rightAlongsideId  \\\n",
      "91832                 0                0               258                 0   \n",
      "256080                0              741               736                 0   \n",
      "512486                0                0                 0                 0   \n",
      "622629                0                0              1773                 0   \n",
      "762205                0                0              2198                 0   \n",
      "\n",
      "        rightFollowingId  laneId  O_P_Distance  O_F_Distance  \n",
      "91832                  0       4             #             #  \n",
      "256080                 0       3         43.73         18.04  \n",
      "512486                 0       2         69.89             #  \n",
      "622629                 0       3         22.99             #  \n",
      "762205                 0       3         18.19             #  \n",
      "\n",
      "[5 rows x 27 columns]\n",
      "14已处理完毕！\n",
      "158 0 0\n",
      "357 0 0\n"
     ]
    },
    {
     "name": "stderr",
     "output_type": "stream",
     "text": [
      "/var/folders/d2/f3vm2qjs02ldnf3s8_w_jjd00000gn/T/ipykernel_2150/1625190689.py:44: FutureWarning: The frame.append method is deprecated and will be removed from pandas in a future version. Use pandas.concat instead.\n",
      "  finally_data=finally_data.append(new_data_c)\n",
      "/var/folders/d2/f3vm2qjs02ldnf3s8_w_jjd00000gn/T/ipykernel_2150/1625190689.py:44: FutureWarning: The frame.append method is deprecated and will be removed from pandas in a future version. Use pandas.concat instead.\n",
      "  finally_data=finally_data.append(new_data_c)\n"
     ]
    },
    {
     "name": "stdout",
     "output_type": "stream",
     "text": [
      "719 0 0\n",
      "835 834 836\n",
      "852 841 853\n",
      "        frame   id       x      y  width  height  xVelocity  yVelocity  \\\n",
      "52282    2887  158  362.25  10.82   4.80    1.92     -40.41      -0.70   \n",
      "120321   6741  357  329.15  10.77   4.95    2.02     -41.77      -1.49   \n",
      "242967  14211  719  132.67  23.53   5.26    2.12      29.34       0.74   \n",
      "283336  16301  835   26.93  23.68   4.65    1.92      23.03      -0.74   \n",
      "289744  16754  852   54.18  23.67   4.14    1.92      29.81      -0.79   \n",
      "\n",
      "        xAcceleration  yAcceleration  ...  followingId  leftPrecedingId  \\\n",
      "52282            0.12          -0.03  ...            0                0   \n",
      "120321           1.42           0.06  ...          359                0   \n",
      "242967          -0.15          -0.17  ...          722                0   \n",
      "283336           0.61          -0.04  ...            0              834   \n",
      "289744           0.34          -0.01  ...            0              841   \n",
      "\n",
      "        leftAlongsideId  leftFollowingId  rightPrecedingId  rightAlongsideId  \\\n",
      "52282                 0                0               152                 0   \n",
      "120321                0                0               356                 0   \n",
      "242967                0                0               718                 0   \n",
      "283336                0              836                 0                 0   \n",
      "289744                0              853                 0                 0   \n",
      "\n",
      "        rightFollowingId  laneId  O_P_Distance  O_F_Distance  \n",
      "52282                  0       3             #             #  \n",
      "120321               358       3             #             #  \n",
      "242967               720       5             #             #  \n",
      "283336                 0       6         18.07         14.31  \n",
      "289744                 0       6         306.3         45.98  \n",
      "\n",
      "[5 rows x 27 columns]\n",
      "15已处理完毕！\n"
     ]
    },
    {
     "name": "stderr",
     "output_type": "stream",
     "text": [
      "/var/folders/d2/f3vm2qjs02ldnf3s8_w_jjd00000gn/T/ipykernel_2150/1625190689.py:44: FutureWarning: The frame.append method is deprecated and will be removed from pandas in a future version. Use pandas.concat instead.\n",
      "  finally_data=finally_data.append(new_data_c)\n",
      "/var/folders/d2/f3vm2qjs02ldnf3s8_w_jjd00000gn/T/ipykernel_2150/1625190689.py:44: FutureWarning: The frame.append method is deprecated and will be removed from pandas in a future version. Use pandas.concat instead.\n",
      "  finally_data=finally_data.append(new_data_c)\n",
      "/var/folders/d2/f3vm2qjs02ldnf3s8_w_jjd00000gn/T/ipykernel_2150/1625190689.py:44: FutureWarning: The frame.append method is deprecated and will be removed from pandas in a future version. Use pandas.concat instead.\n",
      "  finally_data=finally_data.append(new_data_c)\n"
     ]
    },
    {
     "name": "stdout",
     "output_type": "stream",
     "text": [
      "138 0 0\n",
      "510 0 0\n",
      "545 0 0\n"
     ]
    },
    {
     "name": "stderr",
     "output_type": "stream",
     "text": [
      "/var/folders/d2/f3vm2qjs02ldnf3s8_w_jjd00000gn/T/ipykernel_2150/1625190689.py:44: FutureWarning: The frame.append method is deprecated and will be removed from pandas in a future version. Use pandas.concat instead.\n",
      "  finally_data=finally_data.append(new_data_c)\n",
      "/var/folders/d2/f3vm2qjs02ldnf3s8_w_jjd00000gn/T/ipykernel_2150/1625190689.py:44: FutureWarning: The frame.append method is deprecated and will be removed from pandas in a future version. Use pandas.concat instead.\n",
      "  finally_data=finally_data.append(new_data_c)\n",
      "/var/folders/d2/f3vm2qjs02ldnf3s8_w_jjd00000gn/T/ipykernel_2150/1625190689.py:44: FutureWarning: The frame.append method is deprecated and will be removed from pandas in a future version. Use pandas.concat instead.\n",
      "  finally_data=finally_data.append(new_data_c)\n"
     ]
    },
    {
     "name": "stdout",
     "output_type": "stream",
     "text": [
      "865 863 0\n",
      "984 982 0\n",
      "        frame   id       x      y  width  height  xVelocity  yVelocity  \\\n",
      "48538    2863  138  321.19  11.00   4.04    1.82     -34.53      -0.94   \n",
      "172370  12679  510  244.82  23.76   4.35    1.92      33.27       0.75   \n",
      "184233  13322  545  241.36  23.72   4.65    2.02      36.55       0.36   \n",
      "293507  20424  865   32.06  23.73   4.04    2.02      33.63      -0.98   \n",
      "334325  23243  984  400.60  10.89   4.75    1.92     -40.46       0.97   \n",
      "\n",
      "        xAcceleration  yAcceleration  ...  followingId  leftPrecedingId  \\\n",
      "48538            0.46           0.01  ...          141                0   \n",
      "172370           0.38          -0.20  ...          517                0   \n",
      "184233           0.46          -0.35  ...          546                0   \n",
      "293507           0.36           0.15  ...            0              863   \n",
      "334325           0.44          -0.04  ...            0              982   \n",
      "\n",
      "        leftAlongsideId  leftFollowingId  rightPrecedingId  rightAlongsideId  \\\n",
      "48538                 0                0               133                 0   \n",
      "172370                0                0               507                 0   \n",
      "184233                0                0               543                 0   \n",
      "293507                0                0                 0                 0   \n",
      "334325                0                0                 0                 0   \n",
      "\n",
      "        rightFollowingId  laneId  O_P_Distance  O_F_Distance  \n",
      "48538                140       3             #             #  \n",
      "172370               511       5             #             #  \n",
      "184233               544       5             #             #  \n",
      "293507                 0       6         26.15             #  \n",
      "334325                 0       2         78.82             #  \n",
      "\n",
      "[5 rows x 27 columns]\n",
      "16已处理完毕！\n"
     ]
    },
    {
     "name": "stderr",
     "output_type": "stream",
     "text": [
      "/var/folders/d2/f3vm2qjs02ldnf3s8_w_jjd00000gn/T/ipykernel_2150/1625190689.py:44: FutureWarning: The frame.append method is deprecated and will be removed from pandas in a future version. Use pandas.concat instead.\n",
      "  finally_data=finally_data.append(new_data_c)\n",
      "/var/folders/d2/f3vm2qjs02ldnf3s8_w_jjd00000gn/T/ipykernel_2150/1625190689.py:44: FutureWarning: The frame.append method is deprecated and will be removed from pandas in a future version. Use pandas.concat instead.\n",
      "  finally_data=finally_data.append(new_data_c)\n"
     ]
    },
    {
     "name": "stdout",
     "output_type": "stream",
     "text": [
      "60 59 0\n",
      "330 328 0\n"
     ]
    },
    {
     "name": "stderr",
     "output_type": "stream",
     "text": [
      "/var/folders/d2/f3vm2qjs02ldnf3s8_w_jjd00000gn/T/ipykernel_2150/1625190689.py:44: FutureWarning: The frame.append method is deprecated and will be removed from pandas in a future version. Use pandas.concat instead.\n",
      "  finally_data=finally_data.append(new_data_c)\n",
      "/var/folders/d2/f3vm2qjs02ldnf3s8_w_jjd00000gn/T/ipykernel_2150/1625190689.py:44: FutureWarning: The frame.append method is deprecated and will be removed from pandas in a future version. Use pandas.concat instead.\n",
      "  finally_data=finally_data.append(new_data_c)\n"
     ]
    },
    {
     "name": "stdout",
     "output_type": "stream",
     "text": [
      "491 492 495\n",
      "832 830 835\n",
      "905 900 0\n"
     ]
    },
    {
     "name": "stderr",
     "output_type": "stream",
     "text": [
      "/var/folders/d2/f3vm2qjs02ldnf3s8_w_jjd00000gn/T/ipykernel_2150/1625190689.py:44: FutureWarning: The frame.append method is deprecated and will be removed from pandas in a future version. Use pandas.concat instead.\n",
      "  finally_data=finally_data.append(new_data_c)\n",
      "/var/folders/d2/f3vm2qjs02ldnf3s8_w_jjd00000gn/T/ipykernel_2150/1625190689.py:44: FutureWarning: The frame.append method is deprecated and will be removed from pandas in a future version. Use pandas.concat instead.\n",
      "  finally_data=finally_data.append(new_data_c)\n",
      "/var/folders/d2/f3vm2qjs02ldnf3s8_w_jjd00000gn/T/ipykernel_2150/1625190689.py:44: FutureWarning: The frame.append method is deprecated and will be removed from pandas in a future version. Use pandas.concat instead.\n",
      "  finally_data=finally_data.append(new_data_c)\n"
     ]
    },
    {
     "name": "stdout",
     "output_type": "stream",
     "text": [
      "        frame   id       x      y  width  height  xVelocity  yVelocity  \\\n",
      "17082     648   60   68.97  23.45   4.55    2.12      32.68      -0.79   \n",
      "105900   7635  330  388.73  10.90   5.15    1.92     -38.27       1.19   \n",
      "159623  11283  491  184.93  23.55   4.85    1.92      34.85      -0.71   \n",
      "276330  18804  832  324.67  10.92   4.55    1.92     -35.80       0.59   \n",
      "300135  20460  905   40.97  23.55   4.55    1.92      33.41      -0.89   \n",
      "\n",
      "        xAcceleration  yAcceleration  ...  followingId  leftPrecedingId  \\\n",
      "17082            0.10           0.10  ...            0               59   \n",
      "105900           0.03          -0.18  ...            0              328   \n",
      "159623           0.87           0.18  ...          497              492   \n",
      "276330           0.26          -0.01  ...            0              830   \n",
      "300135           0.52           0.14  ...            0              900   \n",
      "\n",
      "        leftAlongsideId  leftFollowingId  rightPrecedingId  rightAlongsideId  \\\n",
      "17082                 0                0                 0                 0   \n",
      "105900                0                0                 0                 0   \n",
      "159623                0              495                 0                 0   \n",
      "276330                0              835                 0                 0   \n",
      "300135                0                0                 0                 0   \n",
      "\n",
      "        rightFollowingId  laneId  O_P_Distance  O_F_Distance  \n",
      "17082                  0       6         43.08             #  \n",
      "105900                 0       2        138.13             #  \n",
      "159623                 0       6         27.78         22.92  \n",
      "276330                 0       2         25.01         46.66  \n",
      "300135                 0       6        234.36             #  \n",
      "\n",
      "[5 rows x 27 columns]\n",
      "17已处理完毕！\n",
      "210 211 0\n",
      "441 0 0\n",
      "449 450 0\n",
      "569 568 0\n",
      "        frame   id       x      y  width  height  xVelocity  yVelocity  \\\n",
      "66301    4879  210  293.81  10.34   6.42    2.83     -25.62       0.72   \n",
      "141516  10301  441  372.23  10.81   4.65    1.92     -43.40      -1.18   \n",
      "143872  10532  449   71.43  23.67   4.45    1.92      32.89      -1.19   \n",
      "180897  13639  569  371.52  10.73   5.36    2.02     -37.73       0.74   \n",
      "\n",
      "        xAcceleration  yAcceleration  ...  followingId  leftPrecedingId  \\\n",
      "66301           -0.24          -0.13  ...          214              211   \n",
      "141516           0.11           0.21  ...            0                0   \n",
      "143872           0.64          -0.24  ...            0              450   \n",
      "180897          -0.27          -0.17  ...            0              568   \n",
      "\n",
      "        leftAlongsideId  leftFollowingId  rightPrecedingId  rightAlongsideId  \\\n",
      "66301                 0                0                 0                 0   \n",
      "141516                0                0               440                 0   \n",
      "143872                0                0                 0                 0   \n",
      "180897                0                0                 0                 0   \n",
      "\n",
      "        rightFollowingId  laneId  O_P_Distance  O_F_Distance  \n",
      "66301                  0       2         32.07             #  \n",
      "141516                 0       3             #             #  \n",
      "143872                 0       6         23.38             #  \n",
      "180897                 0       2         22.65             #  \n",
      "\n",
      "[4 rows x 27 columns]\n",
      "18已处理完毕！\n"
     ]
    },
    {
     "name": "stderr",
     "output_type": "stream",
     "text": [
      "/var/folders/d2/f3vm2qjs02ldnf3s8_w_jjd00000gn/T/ipykernel_2150/1625190689.py:44: FutureWarning: The frame.append method is deprecated and will be removed from pandas in a future version. Use pandas.concat instead.\n",
      "  finally_data=finally_data.append(new_data_c)\n",
      "/var/folders/d2/f3vm2qjs02ldnf3s8_w_jjd00000gn/T/ipykernel_2150/1625190689.py:44: FutureWarning: The frame.append method is deprecated and will be removed from pandas in a future version. Use pandas.concat instead.\n",
      "  finally_data=finally_data.append(new_data_c)\n",
      "/var/folders/d2/f3vm2qjs02ldnf3s8_w_jjd00000gn/T/ipykernel_2150/1625190689.py:44: FutureWarning: The frame.append method is deprecated and will be removed from pandas in a future version. Use pandas.concat instead.\n",
      "  finally_data=finally_data.append(new_data_c)\n",
      "/var/folders/d2/f3vm2qjs02ldnf3s8_w_jjd00000gn/T/ipykernel_2150/1625190689.py:44: FutureWarning: The frame.append method is deprecated and will be removed from pandas in a future version. Use pandas.concat instead.\n",
      "  finally_data=finally_data.append(new_data_c)\n"
     ]
    },
    {
     "name": "stdout",
     "output_type": "stream",
     "text": [
      "57 56 0\n",
      "109 110 111\n",
      "449 448 0\n"
     ]
    },
    {
     "name": "stderr",
     "output_type": "stream",
     "text": [
      "/var/folders/d2/f3vm2qjs02ldnf3s8_w_jjd00000gn/T/ipykernel_2150/1625190689.py:44: FutureWarning: The frame.append method is deprecated and will be removed from pandas in a future version. Use pandas.concat instead.\n",
      "  finally_data=finally_data.append(new_data_c)\n",
      "/var/folders/d2/f3vm2qjs02ldnf3s8_w_jjd00000gn/T/ipykernel_2150/1625190689.py:44: FutureWarning: The frame.append method is deprecated and will be removed from pandas in a future version. Use pandas.concat instead.\n",
      "  finally_data=finally_data.append(new_data_c)\n",
      "/var/folders/d2/f3vm2qjs02ldnf3s8_w_jjd00000gn/T/ipykernel_2150/1625190689.py:44: FutureWarning: The frame.append method is deprecated and will be removed from pandas in a future version. Use pandas.concat instead.\n",
      "  finally_data=finally_data.append(new_data_c)\n"
     ]
    },
    {
     "name": "stdout",
     "output_type": "stream",
     "text": [
      "694 695 0\n",
      "718 715 720\n",
      "765 0 0\n",
      "866 864 0\n",
      "919 0 0\n",
      "965 957 0\n",
      "        frame   id       x      y  width  height  xVelocity  yVelocity  \\\n",
      "16578    1375   57   32.74  23.66   4.35    1.92      30.21      -0.75   \n",
      "34270    2800  109  164.02  23.61   4.95    2.02      30.14      -0.87   \n",
      "145282  10649  449  361.72  11.21   5.05    1.82     -43.44       0.90   \n",
      "226348  16493  694  303.37  11.16   4.45    1.92     -30.75       1.24   \n",
      "234138  17269  718  200.94  23.71   2.73    1.82      31.37      -0.68   \n",
      "250216  18641  765   79.97  23.58   4.85    2.02      34.33       0.95   \n",
      "285341  20750  866  353.56  11.21   3.84    1.82     -31.35       0.81   \n",
      "303262  22113  919  347.01  11.24   3.94    1.82     -34.96      -1.15   \n",
      "318253  23163  965  272.26  11.17   5.26    1.92     -36.86       0.83   \n",
      "\n",
      "        xAcceleration  yAcceleration  ...  followingId  leftPrecedingId  \\\n",
      "16578            0.89           0.09  ...            0               56   \n",
      "34270            0.78           0.08  ...            0              110   \n",
      "145282           0.52          -0.06  ...            0              448   \n",
      "226348          -0.31          -0.27  ...            0              695   \n",
      "234138           0.16           0.04  ...          719              715   \n",
      "250216          -0.12           0.00  ...            0                0   \n",
      "285341           0.03          -0.12  ...            0              864   \n",
      "303262           0.33           0.13  ...            0                0   \n",
      "318253           0.32          -0.08  ...          969              957   \n",
      "\n",
      "        leftAlongsideId  leftFollowingId  rightPrecedingId  rightAlongsideId  \\\n",
      "16578                 0                0                 0                 0   \n",
      "34270                 0              111                 0                 0   \n",
      "145282                0                0                 0                 0   \n",
      "226348                0                0                 0                 0   \n",
      "234138                0              720                 0                 0   \n",
      "250216                0                0               762                 0   \n",
      "285341                0                0                 0                 0   \n",
      "303262                0                0               915                 0   \n",
      "318253                0                0                 0                 0   \n",
      "\n",
      "        rightFollowingId  laneId  O_P_Distance  O_F_Distance  \n",
      "16578                  0       6         27.79             #  \n",
      "34270                  0       6         23.87         27.56  \n",
      "145282                 0       2          85.0             #  \n",
      "226348                 0       2         21.89             #  \n",
      "234138                 0       6        205.35          58.4  \n",
      "250216                 0       5             #             #  \n",
      "285341                 0       2         36.78             #  \n",
      "303262               920       3             #             #  \n",
      "318253                 0       2        272.35             #  \n",
      "\n",
      "[9 rows x 27 columns]\n",
      "19已处理完毕！\n"
     ]
    },
    {
     "name": "stderr",
     "output_type": "stream",
     "text": [
      "/var/folders/d2/f3vm2qjs02ldnf3s8_w_jjd00000gn/T/ipykernel_2150/1625190689.py:44: FutureWarning: The frame.append method is deprecated and will be removed from pandas in a future version. Use pandas.concat instead.\n",
      "  finally_data=finally_data.append(new_data_c)\n",
      "/var/folders/d2/f3vm2qjs02ldnf3s8_w_jjd00000gn/T/ipykernel_2150/1625190689.py:44: FutureWarning: The frame.append method is deprecated and will be removed from pandas in a future version. Use pandas.concat instead.\n",
      "  finally_data=finally_data.append(new_data_c)\n",
      "/var/folders/d2/f3vm2qjs02ldnf3s8_w_jjd00000gn/T/ipykernel_2150/1625190689.py:44: FutureWarning: The frame.append method is deprecated and will be removed from pandas in a future version. Use pandas.concat instead.\n",
      "  finally_data=finally_data.append(new_data_c)\n",
      "/var/folders/d2/f3vm2qjs02ldnf3s8_w_jjd00000gn/T/ipykernel_2150/1625190689.py:44: FutureWarning: The frame.append method is deprecated and will be removed from pandas in a future version. Use pandas.concat instead.\n",
      "  finally_data=finally_data.append(new_data_c)\n",
      "/var/folders/d2/f3vm2qjs02ldnf3s8_w_jjd00000gn/T/ipykernel_2150/1625190689.py:44: FutureWarning: The frame.append method is deprecated and will be removed from pandas in a future version. Use pandas.concat instead.\n",
      "  finally_data=finally_data.append(new_data_c)\n",
      "/var/folders/d2/f3vm2qjs02ldnf3s8_w_jjd00000gn/T/ipykernel_2150/1625190689.py:44: FutureWarning: The frame.append method is deprecated and will be removed from pandas in a future version. Use pandas.concat instead.\n",
      "  finally_data=finally_data.append(new_data_c)\n"
     ]
    },
    {
     "name": "stdout",
     "output_type": "stream",
     "text": [
      "262 254 0\n",
      "346 344 0\n",
      "527 525 529\n"
     ]
    },
    {
     "name": "stderr",
     "output_type": "stream",
     "text": [
      "/var/folders/d2/f3vm2qjs02ldnf3s8_w_jjd00000gn/T/ipykernel_2150/1625190689.py:44: FutureWarning: The frame.append method is deprecated and will be removed from pandas in a future version. Use pandas.concat instead.\n",
      "  finally_data=finally_data.append(new_data_c)\n",
      "/var/folders/d2/f3vm2qjs02ldnf3s8_w_jjd00000gn/T/ipykernel_2150/1625190689.py:44: FutureWarning: The frame.append method is deprecated and will be removed from pandas in a future version. Use pandas.concat instead.\n",
      "  finally_data=finally_data.append(new_data_c)\n",
      "/var/folders/d2/f3vm2qjs02ldnf3s8_w_jjd00000gn/T/ipykernel_2150/1625190689.py:44: FutureWarning: The frame.append method is deprecated and will be removed from pandas in a future version. Use pandas.concat instead.\n",
      "  finally_data=finally_data.append(new_data_c)\n"
     ]
    },
    {
     "name": "stdout",
     "output_type": "stream",
     "text": [
      "952 948 954\n",
      "        frame   id       x      y  width  height  xVelocity  yVelocity  \\\n",
      "87179    4829  262   18.21  23.57   4.55    1.92      32.60      -0.94   \n",
      "116383   6758  346  275.01  10.71   4.95    2.12     -31.95       0.65   \n",
      "180371  10699  527  280.44  10.71   5.05    2.12     -35.17       0.71   \n",
      "323636  19907  952  284.93  10.61   7.18    2.32     -34.54       0.67   \n",
      "\n",
      "        xAcceleration  yAcceleration  ...  followingId  leftPrecedingId  \\\n",
      "87179            0.40           0.09  ...            0              254   \n",
      "116383           1.71          -0.09  ...          347              344   \n",
      "180371           0.04          -0.04  ...            0              525   \n",
      "323636           0.50           0.04  ...            0              948   \n",
      "\n",
      "        leftAlongsideId  leftFollowingId  rightPrecedingId  rightAlongsideId  \\\n",
      "87179                 0                0                 0                 0   \n",
      "116383                0                0                 0                 0   \n",
      "180371                0              529                 0                 0   \n",
      "323636                0              954                 0                 0   \n",
      "\n",
      "        rightFollowingId  laneId  O_P_Distance  O_F_Distance  \n",
      "87179                  0       6        239.39             #  \n",
      "116383                 0       2        145.20             #  \n",
      "180371                 0       2         53.27         26.44  \n",
      "323636                 0       2        154.92         93.14  \n",
      "\n",
      "[4 rows x 27 columns]\n",
      "20已处理完毕！\n"
     ]
    },
    {
     "name": "stderr",
     "output_type": "stream",
     "text": [
      "/var/folders/d2/f3vm2qjs02ldnf3s8_w_jjd00000gn/T/ipykernel_2150/1625190689.py:44: FutureWarning: The frame.append method is deprecated and will be removed from pandas in a future version. Use pandas.concat instead.\n",
      "  finally_data=finally_data.append(new_data_c)\n"
     ]
    },
    {
     "name": "stdout",
     "output_type": "stream",
     "text": [
      "73 64 0\n",
      "81 0 0\n",
      "157 0 159\n"
     ]
    },
    {
     "name": "stderr",
     "output_type": "stream",
     "text": [
      "/var/folders/d2/f3vm2qjs02ldnf3s8_w_jjd00000gn/T/ipykernel_2150/1625190689.py:44: FutureWarning: The frame.append method is deprecated and will be removed from pandas in a future version. Use pandas.concat instead.\n",
      "  finally_data=finally_data.append(new_data_c)\n",
      "/var/folders/d2/f3vm2qjs02ldnf3s8_w_jjd00000gn/T/ipykernel_2150/1625190689.py:44: FutureWarning: The frame.append method is deprecated and will be removed from pandas in a future version. Use pandas.concat instead.\n",
      "  finally_data=finally_data.append(new_data_c)\n",
      "/var/folders/d2/f3vm2qjs02ldnf3s8_w_jjd00000gn/T/ipykernel_2150/1625190689.py:44: FutureWarning: The frame.append method is deprecated and will be removed from pandas in a future version. Use pandas.concat instead.\n",
      "  finally_data=finally_data.append(new_data_c)\n"
     ]
    },
    {
     "name": "stdout",
     "output_type": "stream",
     "text": [
      "520 519 0\n",
      "578 575 0\n",
      "792 793 0\n",
      "822 0 0\n"
     ]
    },
    {
     "name": "stderr",
     "output_type": "stream",
     "text": [
      "/var/folders/d2/f3vm2qjs02ldnf3s8_w_jjd00000gn/T/ipykernel_2150/1625190689.py:44: FutureWarning: The frame.append method is deprecated and will be removed from pandas in a future version. Use pandas.concat instead.\n",
      "  finally_data=finally_data.append(new_data_c)\n",
      "/var/folders/d2/f3vm2qjs02ldnf3s8_w_jjd00000gn/T/ipykernel_2150/1625190689.py:44: FutureWarning: The frame.append method is deprecated and will be removed from pandas in a future version. Use pandas.concat instead.\n",
      "  finally_data=finally_data.append(new_data_c)\n",
      "/var/folders/d2/f3vm2qjs02ldnf3s8_w_jjd00000gn/T/ipykernel_2150/1625190689.py:44: FutureWarning: The frame.append method is deprecated and will be removed from pandas in a future version. Use pandas.concat instead.\n",
      "  finally_data=finally_data.append(new_data_c)\n",
      "/var/folders/d2/f3vm2qjs02ldnf3s8_w_jjd00000gn/T/ipykernel_2150/1625190689.py:44: FutureWarning: The frame.append method is deprecated and will be removed from pandas in a future version. Use pandas.concat instead.\n",
      "  finally_data=finally_data.append(new_data_c)\n"
     ]
    },
    {
     "name": "stdout",
     "output_type": "stream",
     "text": [
      "947 946 0\n",
      "        frame   id       x      y  width  height  xVelocity  yVelocity  \\\n",
      "22927    1438   73  356.94  10.95   4.04    1.82     -34.53       1.09   \n",
      "25716    1806   81  194.90  10.90   5.15    2.02     -33.57      -0.81   \n",
      "51589    3099  157  340.92  10.93   4.75    1.92     -38.06       0.37   \n",
      "170782  11648  520  349.71  10.92   4.75    1.92     -29.47       1.07   \n",
      "190808  12632  578  333.33  10.88   4.75    2.02     -42.01       0.72   \n",
      "260359  18087  792  340.20  10.87   4.85    2.02     -31.95       0.87   \n",
      "270047  18598  822  394.87  10.84   6.06    2.12     -35.15      -0.98   \n",
      "311263  21873  947   64.66  23.56   4.85    1.92      29.65      -0.99   \n",
      "\n",
      "        xAcceleration  yAcceleration  ...  followingId  leftPrecedingId  \\\n",
      "22927            0.03          -0.08  ...            0               64   \n",
      "25716           -0.03          -0.02  ...           83                0   \n",
      "51589            0.05           0.04  ...            0                0   \n",
      "170782          -0.70          -0.19  ...          522              519   \n",
      "190808           0.02          -0.07  ...            0              575   \n",
      "260359           0.14          -0.08  ...            0              793   \n",
      "270047           0.16           0.06  ...            0                0   \n",
      "311263           0.16           0.21  ...            0              946   \n",
      "\n",
      "        leftAlongsideId  leftFollowingId  rightPrecedingId  rightAlongsideId  \\\n",
      "22927                 0                0                 0                 0   \n",
      "25716                 0                0                78                 0   \n",
      "51589                 0              159                 0                 0   \n",
      "170782                0                0                 0                 0   \n",
      "190808                0                0                 0                 0   \n",
      "260359                0                0                 0                 0   \n",
      "270047                0                0               814                 0   \n",
      "311263                0                0                 0                 0   \n",
      "\n",
      "        rightFollowingId  laneId  O_P_Distance  O_F_Distance  \n",
      "22927                  0       2        227.99             #  \n",
      "25716                 80       3             #             #  \n",
      "51589                  0       2             #          46.5  \n",
      "170782                 0       2         38.19             #  \n",
      "190808                 0       2         53.11             #  \n",
      "260359                 0       2         33.44             #  \n",
      "270047                 0       3             #             #  \n",
      "311263                 0       6         17.76             #  \n",
      "\n",
      "[8 rows x 27 columns]\n",
      "21已处理完毕！\n"
     ]
    },
    {
     "name": "stderr",
     "output_type": "stream",
     "text": [
      "/var/folders/d2/f3vm2qjs02ldnf3s8_w_jjd00000gn/T/ipykernel_2150/1625190689.py:44: FutureWarning: The frame.append method is deprecated and will be removed from pandas in a future version. Use pandas.concat instead.\n",
      "  finally_data=finally_data.append(new_data_c)\n"
     ]
    },
    {
     "name": "stdout",
     "output_type": "stream",
     "text": [
      "Empty DataFrame\n",
      "Columns: []\n",
      "Index: []\n",
      "22已处理完毕！\n",
      "433 0 0\n"
     ]
    },
    {
     "name": "stderr",
     "output_type": "stream",
     "text": [
      "/var/folders/d2/f3vm2qjs02ldnf3s8_w_jjd00000gn/T/ipykernel_2150/1625190689.py:44: FutureWarning: The frame.append method is deprecated and will be removed from pandas in a future version. Use pandas.concat instead.\n",
      "  finally_data=finally_data.append(new_data_c)\n"
     ]
    },
    {
     "name": "stdout",
     "output_type": "stream",
     "text": [
      "899 0 0\n"
     ]
    },
    {
     "name": "stderr",
     "output_type": "stream",
     "text": [
      "/var/folders/d2/f3vm2qjs02ldnf3s8_w_jjd00000gn/T/ipykernel_2150/1625190689.py:44: FutureWarning: The frame.append method is deprecated and will be removed from pandas in a future version. Use pandas.concat instead.\n",
      "  finally_data=finally_data.append(new_data_c)\n"
     ]
    },
    {
     "name": "stdout",
     "output_type": "stream",
     "text": [
      "        frame   id       x      y  width  height  xVelocity  yVelocity  \\\n",
      "148530   8027  433  352.73  11.04   4.45    1.82     -36.16      -1.18   \n",
      "323184  16253  899  268.56  10.73   5.76    2.32     -33.16       0.80   \n",
      "\n",
      "        xAcceleration  yAcceleration  ...  followingId  leftPrecedingId  \\\n",
      "148530           0.23          -0.16  ...          435                0   \n",
      "323184           0.20           0.00  ...            0                0   \n",
      "\n",
      "        leftAlongsideId  leftFollowingId  rightPrecedingId  rightAlongsideId  \\\n",
      "148530                0                0               431                 0   \n",
      "323184                0                0                 0                 0   \n",
      "\n",
      "        rightFollowingId  laneId  O_P_Distance  O_F_Distance  \n",
      "148530               434       3             #             #  \n",
      "323184                 0       2             #             #  \n",
      "\n",
      "[2 rows x 27 columns]\n",
      "23已处理完毕！\n",
      "279 0 0\n"
     ]
    },
    {
     "name": "stderr",
     "output_type": "stream",
     "text": [
      "/var/folders/d2/f3vm2qjs02ldnf3s8_w_jjd00000gn/T/ipykernel_2150/1625190689.py:44: FutureWarning: The frame.append method is deprecated and will be removed from pandas in a future version. Use pandas.concat instead.\n",
      "  finally_data=finally_data.append(new_data_c)\n"
     ]
    },
    {
     "name": "stdout",
     "output_type": "stream",
     "text": [
      "978 976 0\n",
      "1267 0 0\n",
      "        frame    id       x      y  width  height  xVelocity  yVelocity  \\\n",
      "92542    6025   279  324.74  10.98   3.94    1.82     -33.34       0.65   \n",
      "337192  17931   978  370.17  10.98   4.95    1.82     -32.70       0.99   \n",
      "433634  23526  1267  326.53  10.96   5.26    1.92     -30.84      -0.60   \n",
      "\n",
      "        xAcceleration  yAcceleration  ...  followingId  leftPrecedingId  \\\n",
      "92542            0.26          -0.12  ...            0                0   \n",
      "337192           0.05          -0.14  ...            0              976   \n",
      "433634           0.48          -0.05  ...            0                0   \n",
      "\n",
      "        leftAlongsideId  leftFollowingId  rightPrecedingId  rightAlongsideId  \\\n",
      "92542                 0                0                 0                 0   \n",
      "337192                0                0                 0                 0   \n",
      "433634                0                0              1262                 0   \n",
      "\n",
      "        rightFollowingId  laneId  O_P_Distance  O_F_Distance  \n",
      "92542                  0       2             #             #  \n",
      "337192                 0       2         19.88             #  \n",
      "433634              1268       3             #             #  \n",
      "\n",
      "[3 rows x 27 columns]\n",
      "24已处理完毕！\n"
     ]
    },
    {
     "name": "stderr",
     "output_type": "stream",
     "text": [
      "/var/folders/d2/f3vm2qjs02ldnf3s8_w_jjd00000gn/T/ipykernel_2150/1625190689.py:44: FutureWarning: The frame.append method is deprecated and will be removed from pandas in a future version. Use pandas.concat instead.\n",
      "  finally_data=finally_data.append(new_data_c)\n",
      "/var/folders/d2/f3vm2qjs02ldnf3s8_w_jjd00000gn/T/ipykernel_2150/1625190689.py:44: FutureWarning: The frame.append method is deprecated and will be removed from pandas in a future version. Use pandas.concat instead.\n",
      "  finally_data=finally_data.append(new_data_c)\n"
     ]
    },
    {
     "name": "stdout",
     "output_type": "stream",
     "text": [
      "1380 0 0\n"
     ]
    },
    {
     "name": "stderr",
     "output_type": "stream",
     "text": [
      "/var/folders/d2/f3vm2qjs02ldnf3s8_w_jjd00000gn/T/ipykernel_2150/1625190689.py:44: FutureWarning: The frame.append method is deprecated and will be removed from pandas in a future version. Use pandas.concat instead.\n",
      "  finally_data=finally_data.append(new_data_c)\n"
     ]
    },
    {
     "name": "stdout",
     "output_type": "stream",
     "text": [
      "1771 0 0\n"
     ]
    },
    {
     "name": "stderr",
     "output_type": "stream",
     "text": [
      "/var/folders/d2/f3vm2qjs02ldnf3s8_w_jjd00000gn/T/ipykernel_2150/1625190689.py:44: FutureWarning: The frame.append method is deprecated and will be removed from pandas in a future version. Use pandas.concat instead.\n",
      "  finally_data=finally_data.append(new_data_c)\n"
     ]
    },
    {
     "name": "stdout",
     "output_type": "stream",
     "text": [
      "         frame    id       x      y  width  height  xVelocity  yVelocity  \\\n",
      "977862   14633  1380  242.72  20.09   5.96    2.32      -8.18      -0.48   \n",
      "1236193  18478  1771  262.62  20.35   4.45    1.82     -10.78      -0.76   \n",
      "\n",
      "         xAcceleration  yAcceleration  ...  followingId  leftPrecedingId  \\\n",
      "977862            0.14           0.02  ...         1386                0   \n",
      "1236193           0.00          -0.02  ...         1774                0   \n",
      "\n",
      "         leftAlongsideId  leftFollowingId  rightPrecedingId  rightAlongsideId  \\\n",
      "977862                 0                0              1371                 0   \n",
      "1236193                0                0              1768                 0   \n",
      "\n",
      "         rightFollowingId  laneId  O_P_Distance  O_F_Distance  \n",
      "977862               1378       4             #             #  \n",
      "1236193              1779       4             #             #  \n",
      "\n",
      "[2 rows x 27 columns]\n",
      "25已处理完毕！\n",
      "213 215 217\n"
     ]
    },
    {
     "name": "stderr",
     "output_type": "stream",
     "text": [
      "/var/folders/d2/f3vm2qjs02ldnf3s8_w_jjd00000gn/T/ipykernel_2150/1625190689.py:44: FutureWarning: The frame.append method is deprecated and will be removed from pandas in a future version. Use pandas.concat instead.\n",
      "  finally_data=finally_data.append(new_data_c)\n"
     ]
    },
    {
     "name": "stdout",
     "output_type": "stream",
     "text": [
      "1599 1601 1610\n",
      "1629 1627 0\n"
     ]
    },
    {
     "name": "stderr",
     "output_type": "stream",
     "text": [
      "/var/folders/d2/f3vm2qjs02ldnf3s8_w_jjd00000gn/T/ipykernel_2150/1625190689.py:44: FutureWarning: The frame.append method is deprecated and will be removed from pandas in a future version. Use pandas.concat instead.\n",
      "  finally_data=finally_data.append(new_data_c)\n",
      "/var/folders/d2/f3vm2qjs02ldnf3s8_w_jjd00000gn/T/ipykernel_2150/1625190689.py:44: FutureWarning: The frame.append method is deprecated and will be removed from pandas in a future version. Use pandas.concat instead.\n",
      "  finally_data=finally_data.append(new_data_c)\n"
     ]
    },
    {
     "name": "stdout",
     "output_type": "stream",
     "text": [
      "1813 1816 1822\n",
      "1837 1832 0\n"
     ]
    },
    {
     "name": "stderr",
     "output_type": "stream",
     "text": [
      "/var/folders/d2/f3vm2qjs02ldnf3s8_w_jjd00000gn/T/ipykernel_2150/1625190689.py:44: FutureWarning: The frame.append method is deprecated and will be removed from pandas in a future version. Use pandas.concat instead.\n",
      "  finally_data=finally_data.append(new_data_c)\n",
      "/var/folders/d2/f3vm2qjs02ldnf3s8_w_jjd00000gn/T/ipykernel_2150/1625190689.py:44: FutureWarning: The frame.append method is deprecated and will be removed from pandas in a future version. Use pandas.concat instead.\n",
      "  finally_data=finally_data.append(new_data_c)\n"
     ]
    },
    {
     "name": "stdout",
     "output_type": "stream",
     "text": [
      "2018 2016 0\n"
     ]
    },
    {
     "name": "stderr",
     "output_type": "stream",
     "text": [
      "/var/folders/d2/f3vm2qjs02ldnf3s8_w_jjd00000gn/T/ipykernel_2150/1625190689.py:44: FutureWarning: The frame.append method is deprecated and will be removed from pandas in a future version. Use pandas.concat instead.\n",
      "  finally_data=finally_data.append(new_data_c)\n"
     ]
    },
    {
     "name": "stdout",
     "output_type": "stream",
     "text": [
      "         frame    id       x      y  width  height  xVelocity  yVelocity  \\\n",
      "155070    1555   213  171.41  27.16   3.94    1.82      17.30       1.48   \n",
      "1050335  16194  1599  334.29   6.22   9.80    2.12     -15.37      -0.36   \n",
      "1066792  16376  1629    7.10  27.05   5.56    2.12      24.02       1.04   \n",
      "1165093  18514  1813  293.93   6.28   4.65    2.02     -19.56      -1.21   \n",
      "1178952  18677  1837  321.09   6.40   4.35    1.82     -18.51      -1.05   \n",
      "1273312  20595  2018  407.05   6.32   4.35    1.92     -25.24      -0.55   \n",
      "\n",
      "         xAcceleration  yAcceleration  ...  followingId  leftPrecedingId  \\\n",
      "155070            0.75          -0.10  ...          224              215   \n",
      "1050335           0.33          -0.02  ...         1607             1601   \n",
      "1066792           0.57          -0.14  ...            0             1627   \n",
      "1165093           0.62          -0.12  ...         1819             1816   \n",
      "1178952           0.45          -0.00  ...         1840             1832   \n",
      "1273312           0.36           0.00  ...            0             2016   \n",
      "\n",
      "         leftAlongsideId  leftFollowingId  rightPrecedingId  rightAlongsideId  \\\n",
      "155070                 0              217               211                 0   \n",
      "1050335                0             1610              1594                 0   \n",
      "1066792                0                0              1625                 0   \n",
      "1165093                0             1822              1810                 0   \n",
      "1178952             1844                0              1828                 0   \n",
      "1273312                0                0              2000                 0   \n",
      "\n",
      "         rightFollowingId  laneId  O_P_Distance  O_F_Distance  \n",
      "155070                219       7         18.55          5.76  \n",
      "1050335                 0       3         12.15         69.08  \n",
      "1066792                 0       7          9.99             #  \n",
      "1165093              1817       3         22.29         39.11  \n",
      "1178952              1841       3         55.30             #  \n",
      "1273312                 0       3         21.52             #  \n",
      "\n",
      "[6 rows x 27 columns]\n",
      "26已处理完毕！\n",
      "613 0 0\n",
      "850 848 0\n"
     ]
    },
    {
     "name": "stderr",
     "output_type": "stream",
     "text": [
      "/var/folders/d2/f3vm2qjs02ldnf3s8_w_jjd00000gn/T/ipykernel_2150/1625190689.py:44: FutureWarning: The frame.append method is deprecated and will be removed from pandas in a future version. Use pandas.concat instead.\n",
      "  finally_data=finally_data.append(new_data_c)\n",
      "/var/folders/d2/f3vm2qjs02ldnf3s8_w_jjd00000gn/T/ipykernel_2150/1625190689.py:44: FutureWarning: The frame.append method is deprecated and will be removed from pandas in a future version. Use pandas.concat instead.\n",
      "  finally_data=finally_data.append(new_data_c)\n"
     ]
    },
    {
     "name": "stdout",
     "output_type": "stream",
     "text": [
      "932 930 935\n",
      "1041 1035 0\n"
     ]
    },
    {
     "name": "stderr",
     "output_type": "stream",
     "text": [
      "/var/folders/d2/f3vm2qjs02ldnf3s8_w_jjd00000gn/T/ipykernel_2150/1625190689.py:44: FutureWarning: The frame.append method is deprecated and will be removed from pandas in a future version. Use pandas.concat instead.\n",
      "  finally_data=finally_data.append(new_data_c)\n",
      "/var/folders/d2/f3vm2qjs02ldnf3s8_w_jjd00000gn/T/ipykernel_2150/1625190689.py:44: FutureWarning: The frame.append method is deprecated and will be removed from pandas in a future version. Use pandas.concat instead.\n",
      "  finally_data=finally_data.append(new_data_c)\n"
     ]
    },
    {
     "name": "stdout",
     "output_type": "stream",
     "text": [
      "1192 0 0\n",
      "1227 1221 1233\n",
      "1231 0 0\n"
     ]
    },
    {
     "name": "stderr",
     "output_type": "stream",
     "text": [
      "/var/folders/d2/f3vm2qjs02ldnf3s8_w_jjd00000gn/T/ipykernel_2150/1625190689.py:44: FutureWarning: The frame.append method is deprecated and will be removed from pandas in a future version. Use pandas.concat instead.\n",
      "  finally_data=finally_data.append(new_data_c)\n",
      "/var/folders/d2/f3vm2qjs02ldnf3s8_w_jjd00000gn/T/ipykernel_2150/1625190689.py:44: FutureWarning: The frame.append method is deprecated and will be removed from pandas in a future version. Use pandas.concat instead.\n",
      "  finally_data=finally_data.append(new_data_c)\n",
      "/var/folders/d2/f3vm2qjs02ldnf3s8_w_jjd00000gn/T/ipykernel_2150/1625190689.py:44: FutureWarning: The frame.append method is deprecated and will be removed from pandas in a future version. Use pandas.concat instead.\n",
      "  finally_data=finally_data.append(new_data_c)\n"
     ]
    },
    {
     "name": "stdout",
     "output_type": "stream",
     "text": [
      "1991 1994 1997\n",
      "2105 0 0\n"
     ]
    },
    {
     "name": "stderr",
     "output_type": "stream",
     "text": [
      "/var/folders/d2/f3vm2qjs02ldnf3s8_w_jjd00000gn/T/ipykernel_2150/1625190689.py:44: FutureWarning: The frame.append method is deprecated and will be removed from pandas in a future version. Use pandas.concat instead.\n",
      "  finally_data=finally_data.append(new_data_c)\n",
      "/var/folders/d2/f3vm2qjs02ldnf3s8_w_jjd00000gn/T/ipykernel_2150/1625190689.py:44: FutureWarning: The frame.append method is deprecated and will be removed from pandas in a future version. Use pandas.concat instead.\n",
      "  finally_data=finally_data.append(new_data_c)\n"
     ]
    },
    {
     "name": "stdout",
     "output_type": "stream",
     "text": [
      "2251 0 0\n"
     ]
    },
    {
     "name": "stderr",
     "output_type": "stream",
     "text": [
      "/var/folders/d2/f3vm2qjs02ldnf3s8_w_jjd00000gn/T/ipykernel_2150/1625190689.py:44: FutureWarning: The frame.append method is deprecated and will be removed from pandas in a future version. Use pandas.concat instead.\n",
      "  finally_data=finally_data.append(new_data_c)\n"
     ]
    },
    {
     "name": "stdout",
     "output_type": "stream",
     "text": [
      "        frame    id       x      y  width  height  xVelocity  yVelocity  \\\n",
      "244286   6540   613  306.59  10.58   5.05    1.92     -38.61      -1.24   \n",
      "336658   9066   850  387.40   6.79   4.85    1.82     -25.83       0.69   \n",
      "365048  10290   932   40.35  27.34   9.20    2.50      22.10      -0.90   \n",
      "405330  11576  1041  332.09   6.81   4.65    1.82     -30.90      -0.98   \n",
      "460873  13368  1192  375.22  10.64   4.75    1.82     -33.58      -0.99   \n",
      "473342  13994  1227  145.97   6.81   4.45    1.82     -32.31      -0.53   \n",
      "474582  13928  1231  328.00  10.60   4.55    1.92     -35.25      -1.24   \n",
      "740692  23166  1991  219.85  10.53   4.55    1.92     -32.46       0.99   \n",
      "780246  24472  2105    5.46  24.03   4.75    1.82      37.22       0.54   \n",
      "830353  26553  2251   49.70  23.78   6.57    2.32      31.93       0.96   \n",
      "\n",
      "        xAcceleration  yAcceleration  ...  followingId  leftPrecedingId  \\\n",
      "244286           0.09           0.06  ...            0                0   \n",
      "336658           0.23          -0.10  ...            0              848   \n",
      "365048           0.46           0.19  ...            0              930   \n",
      "405330           0.62          -0.02  ...         1045             1035   \n",
      "460873          -0.03           0.19  ...            0                0   \n",
      "473342          -0.18           0.20  ...         1228             1221   \n",
      "474582           0.63          -0.01  ...         1233                0   \n",
      "740692          -0.31           0.11  ...         1996             1994   \n",
      "780246           0.72           0.00  ...            0                0   \n",
      "830353          -0.27          -0.20  ...            0                0   \n",
      "\n",
      "        leftAlongsideId  leftFollowingId  rightPrecedingId  rightAlongsideId  \\\n",
      "244286                0                0               608                 0   \n",
      "336658                0                0                 0                 0   \n",
      "365048                0              935                 0                 0   \n",
      "405330                0                0              1031                 0   \n",
      "460873                0                0              1190                 0   \n",
      "473342                0             1233                 0                 0   \n",
      "474582                0                0              1228                 0   \n",
      "740692                0             1997              1981              1987   \n",
      "780246                0                0              2100                 0   \n",
      "830353                0                0              2245                 0   \n",
      "\n",
      "        rightFollowingId  laneId  O_P_Distance  O_F_Distance  \n",
      "244286                 0       4             #             #  \n",
      "336658                 0       2         32.12             #  \n",
      "365048                 0       8         18.64         26.65  \n",
      "405330              1043       3        139.88             #  \n",
      "460873                 0       4             #             #  \n",
      "473342              1232       3         81.84         91.13  \n",
      "474582              1232       4             #             #  \n",
      "740692              1998       3          20.4         86.66  \n",
      "780246                 0       6             #             #  \n",
      "830353              2255       6             #             #  \n",
      "\n",
      "[10 rows x 27 columns]\n",
      "27已处理完毕！\n",
      "87 77 0\n",
      "129 0 0\n"
     ]
    },
    {
     "name": "stderr",
     "output_type": "stream",
     "text": [
      "/var/folders/d2/f3vm2qjs02ldnf3s8_w_jjd00000gn/T/ipykernel_2150/1625190689.py:44: FutureWarning: The frame.append method is deprecated and will be removed from pandas in a future version. Use pandas.concat instead.\n",
      "  finally_data=finally_data.append(new_data_c)\n",
      "/var/folders/d2/f3vm2qjs02ldnf3s8_w_jjd00000gn/T/ipykernel_2150/1625190689.py:44: FutureWarning: The frame.append method is deprecated and will be removed from pandas in a future version. Use pandas.concat instead.\n",
      "  finally_data=finally_data.append(new_data_c)\n"
     ]
    },
    {
     "name": "stdout",
     "output_type": "stream",
     "text": [
      "662 659 0\n",
      "751 0 0\n",
      "956 0 958\n"
     ]
    },
    {
     "name": "stderr",
     "output_type": "stream",
     "text": [
      "/var/folders/d2/f3vm2qjs02ldnf3s8_w_jjd00000gn/T/ipykernel_2150/1625190689.py:44: FutureWarning: The frame.append method is deprecated and will be removed from pandas in a future version. Use pandas.concat instead.\n",
      "  finally_data=finally_data.append(new_data_c)\n",
      "/var/folders/d2/f3vm2qjs02ldnf3s8_w_jjd00000gn/T/ipykernel_2150/1625190689.py:44: FutureWarning: The frame.append method is deprecated and will be removed from pandas in a future version. Use pandas.concat instead.\n",
      "  finally_data=finally_data.append(new_data_c)\n",
      "/var/folders/d2/f3vm2qjs02ldnf3s8_w_jjd00000gn/T/ipykernel_2150/1625190689.py:44: FutureWarning: The frame.append method is deprecated and will be removed from pandas in a future version. Use pandas.concat instead.\n",
      "  finally_data=finally_data.append(new_data_c)\n",
      "/var/folders/d2/f3vm2qjs02ldnf3s8_w_jjd00000gn/T/ipykernel_2150/1625190689.py:44: FutureWarning: The frame.append method is deprecated and will be removed from pandas in a future version. Use pandas.concat instead.\n",
      "  finally_data=finally_data.append(new_data_c)\n"
     ]
    },
    {
     "name": "stdout",
     "output_type": "stream",
     "text": [
      "1243 1238 0\n",
      "1701 1693 0\n"
     ]
    },
    {
     "name": "stderr",
     "output_type": "stream",
     "text": [
      "/var/folders/d2/f3vm2qjs02ldnf3s8_w_jjd00000gn/T/ipykernel_2150/1625190689.py:44: FutureWarning: The frame.append method is deprecated and will be removed from pandas in a future version. Use pandas.concat instead.\n",
      "  finally_data=finally_data.append(new_data_c)\n"
     ]
    },
    {
     "name": "stdout",
     "output_type": "stream",
     "text": [
      "        frame    id       x      y  width  height  xVelocity  yVelocity  \\\n",
      "27699     580    87  396.34   9.98   5.26    2.12     -31.36       1.01   \n",
      "42759    1165   129  129.13  23.40   4.75    1.92      31.46       0.80   \n",
      "225744   7795   662  356.09   6.27   4.75    1.92     -33.50       0.83   \n",
      "255328   9088   751  344.45  10.07   4.95    1.92     -34.43       0.60   \n",
      "327590  11979   956  133.78  27.21   4.14    1.72      32.84       0.77   \n",
      "426233  15854  1243  306.07  10.02   5.15    2.02     -32.70       1.10   \n",
      "591796  21993  1701   65.75  23.43   4.85    1.92      35.21      -1.01   \n",
      "\n",
      "        xAcceleration  yAcceleration  ...  followingId  leftPrecedingId  \\\n",
      "27699           -0.16          -0.07  ...            0               77   \n",
      "42759            0.11          -0.01  ...          133                0   \n",
      "225744          -0.29          -0.08  ...            0              659   \n",
      "255328           0.15          -0.00  ...            0                0   \n",
      "327590          -0.08          -0.11  ...            0                0   \n",
      "426233          -0.26          -0.07  ...         1251             1238   \n",
      "591796           0.04          -0.19  ...            0             1693   \n",
      "\n",
      "        leftAlongsideId  leftFollowingId  rightPrecedingId  rightAlongsideId  \\\n",
      "27699                 0                0                81                 0   \n",
      "42759                 0                0               117                 0   \n",
      "225744                0                0                 0                 0   \n",
      "255328                0                0               748                 0   \n",
      "327590                0              958               951                 0   \n",
      "426233                0                0              1236                 0   \n",
      "591796                0                0              1698                 0   \n",
      "\n",
      "        rightFollowingId  laneId  O_P_Distance  O_F_Distance  \n",
      "27699                  0       3         97.76             #  \n",
      "42759                  0       6             #             #  \n",
      "225744                 0       2         44.92             #  \n",
      "255328               752       3             #             #  \n",
      "327590                 0       7             #          57.8  \n",
      "426233              1246       3         87.37             #  \n",
      "591796              1703       7        183.74             #  \n",
      "\n",
      "[7 rows x 27 columns]\n",
      "28已处理完毕！\n",
      "227 224 0\n",
      "511 0 0\n"
     ]
    },
    {
     "name": "stderr",
     "output_type": "stream",
     "text": [
      "/var/folders/d2/f3vm2qjs02ldnf3s8_w_jjd00000gn/T/ipykernel_2150/1625190689.py:44: FutureWarning: The frame.append method is deprecated and will be removed from pandas in a future version. Use pandas.concat instead.\n",
      "  finally_data=finally_data.append(new_data_c)\n",
      "/var/folders/d2/f3vm2qjs02ldnf3s8_w_jjd00000gn/T/ipykernel_2150/1625190689.py:44: FutureWarning: The frame.append method is deprecated and will be removed from pandas in a future version. Use pandas.concat instead.\n",
      "  finally_data=finally_data.append(new_data_c)\n"
     ]
    },
    {
     "name": "stdout",
     "output_type": "stream",
     "text": [
      "1102 1100 0\n"
     ]
    },
    {
     "name": "stderr",
     "output_type": "stream",
     "text": [
      "/var/folders/d2/f3vm2qjs02ldnf3s8_w_jjd00000gn/T/ipykernel_2150/1625190689.py:44: FutureWarning: The frame.append method is deprecated and will be removed from pandas in a future version. Use pandas.concat instead.\n",
      "  finally_data=finally_data.append(new_data_c)\n"
     ]
    },
    {
     "name": "stdout",
     "output_type": "stream",
     "text": [
      "1677 1679 1685\n",
      "1876 0 0\n",
      "1917 1915 1923\n"
     ]
    },
    {
     "name": "stderr",
     "output_type": "stream",
     "text": [
      "/var/folders/d2/f3vm2qjs02ldnf3s8_w_jjd00000gn/T/ipykernel_2150/1625190689.py:44: FutureWarning: The frame.append method is deprecated and will be removed from pandas in a future version. Use pandas.concat instead.\n",
      "  finally_data=finally_data.append(new_data_c)\n",
      "/var/folders/d2/f3vm2qjs02ldnf3s8_w_jjd00000gn/T/ipykernel_2150/1625190689.py:44: FutureWarning: The frame.append method is deprecated and will be removed from pandas in a future version. Use pandas.concat instead.\n",
      "  finally_data=finally_data.append(new_data_c)\n",
      "/var/folders/d2/f3vm2qjs02ldnf3s8_w_jjd00000gn/T/ipykernel_2150/1625190689.py:44: FutureWarning: The frame.append method is deprecated and will be removed from pandas in a future version. Use pandas.concat instead.\n",
      "  finally_data=finally_data.append(new_data_c)\n"
     ]
    },
    {
     "name": "stdout",
     "output_type": "stream",
     "text": [
      "1997 0 0\n",
      "        frame    id       x      y  width  height  xVelocity  yVelocity  \\\n",
      "78329    2349   227   59.90  23.69   4.85    1.82      33.26      -0.77   \n",
      "177699   6373   511  110.50  23.66   4.75    1.82      33.64       1.06   \n",
      "382890  14292  1102  391.71  10.29   4.24    1.82     -34.36       1.18   \n",
      "586128  22095  1677  245.11   6.20   6.87    2.50     -25.01       0.82   \n",
      "659052  24309  1876   41.14  23.65   4.55    1.82      35.92       0.61   \n",
      "673683  24972  1917   56.57  23.69   4.65    1.82      27.43      -1.08   \n",
      "702393  25814  1997  391.75  10.27   4.65    1.92     -34.25       1.44   \n",
      "\n",
      "        xAcceleration  yAcceleration  ...  followingId  leftPrecedingId  \\\n",
      "78329            0.04          -0.04  ...          230              224   \n",
      "177699          -0.15          -0.06  ...          515                0   \n",
      "382890           0.14          -0.14  ...            0             1100   \n",
      "586128          -0.63          -0.24  ...         1690             1679   \n",
      "659052           0.22          -0.49  ...         1877                0   \n",
      "673683           0.56          -0.17  ...         1919             1915   \n",
      "702393          -0.13          -0.20  ...            0                0   \n",
      "\n",
      "        leftAlongsideId  leftFollowingId  rightPrecedingId  rightAlongsideId  \\\n",
      "78329                 0                0               223               226   \n",
      "177699                0                0               504                 0   \n",
      "382890                0                0              1096                 0   \n",
      "586128                0             1685                 0                 0   \n",
      "659052                0                0              1872                 0   \n",
      "673683                0             1923              1914                 0   \n",
      "702393                0                0              1993                 0   \n",
      "\n",
      "        rightFollowingId  laneId  O_P_Distance  O_F_Distance  \n",
      "78329                  0       7        112.46             #  \n",
      "177699               518       6             #             #  \n",
      "382890                 0       3         24.42             #  \n",
      "586128                 0       2         35.27         44.25  \n",
      "659052                 0       6             #             #  \n",
      "673683              1918       7         79.58         44.28  \n",
      "702393                 0       3             #             #  \n",
      "\n",
      "[7 rows x 27 columns]\n",
      "29已处理完毕！\n"
     ]
    },
    {
     "name": "stderr",
     "output_type": "stream",
     "text": [
      "/var/folders/d2/f3vm2qjs02ldnf3s8_w_jjd00000gn/T/ipykernel_2150/1625190689.py:44: FutureWarning: The frame.append method is deprecated and will be removed from pandas in a future version. Use pandas.concat instead.\n",
      "  finally_data=finally_data.append(new_data_c)\n"
     ]
    },
    {
     "name": "stdout",
     "output_type": "stream",
     "text": [
      "160 158 0\n",
      "176 180 183\n",
      "324 315 0\n"
     ]
    },
    {
     "name": "stderr",
     "output_type": "stream",
     "text": [
      "/var/folders/d2/f3vm2qjs02ldnf3s8_w_jjd00000gn/T/ipykernel_2150/1625190689.py:44: FutureWarning: The frame.append method is deprecated and will be removed from pandas in a future version. Use pandas.concat instead.\n",
      "  finally_data=finally_data.append(new_data_c)\n",
      "/var/folders/d2/f3vm2qjs02ldnf3s8_w_jjd00000gn/T/ipykernel_2150/1625190689.py:44: FutureWarning: The frame.append method is deprecated and will be removed from pandas in a future version. Use pandas.concat instead.\n",
      "  finally_data=finally_data.append(new_data_c)\n",
      "/var/folders/d2/f3vm2qjs02ldnf3s8_w_jjd00000gn/T/ipykernel_2150/1625190689.py:44: FutureWarning: The frame.append method is deprecated and will be removed from pandas in a future version. Use pandas.concat instead.\n",
      "  finally_data=finally_data.append(new_data_c)\n"
     ]
    },
    {
     "name": "stdout",
     "output_type": "stream",
     "text": [
      "800 795 0\n"
     ]
    },
    {
     "name": "stderr",
     "output_type": "stream",
     "text": [
      "/var/folders/d2/f3vm2qjs02ldnf3s8_w_jjd00000gn/T/ipykernel_2150/1625190689.py:44: FutureWarning: The frame.append method is deprecated and will be removed from pandas in a future version. Use pandas.concat instead.\n",
      "  finally_data=finally_data.append(new_data_c)\n"
     ]
    },
    {
     "name": "stdout",
     "output_type": "stream",
     "text": [
      "1994 1986 0\n",
      "2226 2223 0\n"
     ]
    },
    {
     "name": "stderr",
     "output_type": "stream",
     "text": [
      "/var/folders/d2/f3vm2qjs02ldnf3s8_w_jjd00000gn/T/ipykernel_2150/1625190689.py:44: FutureWarning: The frame.append method is deprecated and will be removed from pandas in a future version. Use pandas.concat instead.\n",
      "  finally_data=finally_data.append(new_data_c)\n",
      "/var/folders/d2/f3vm2qjs02ldnf3s8_w_jjd00000gn/T/ipykernel_2150/1625190689.py:44: FutureWarning: The frame.append method is deprecated and will be removed from pandas in a future version. Use pandas.concat instead.\n",
      "  finally_data=finally_data.append(new_data_c)\n"
     ]
    },
    {
     "name": "stdout",
     "output_type": "stream",
     "text": [
      "2292 2291 0\n",
      "2410 2409 2413\n",
      "        frame    id       x      y  width  height  xVelocity  yVelocity  \\\n",
      "51647    1511   160  359.38  10.52   4.55    1.92     -32.83       0.99   \n",
      "57469    1814   176  192.01  10.50   4.75    1.92     -29.54       1.59   \n",
      "108732   3530   324  391.25  10.18   5.96    2.50     -32.06       0.83   \n",
      "280202   9484   800   51.44  23.97   4.45    1.82      30.35      -0.68   \n",
      "712487  23747  1994   54.64  23.91   4.95    1.92      32.88      -0.80   \n",
      "796596  26493  2226  392.68  10.52   4.45    1.92     -30.09       0.76   \n",
      "819373  27429  2292  275.54  10.21  14.15    2.50     -26.98       0.59   \n",
      "861284  28995  2410  309.82   6.81   4.85    1.82     -35.21      -0.98   \n",
      "\n",
      "        xAcceleration  yAcceleration  ...  followingId  leftPrecedingId  \\\n",
      "51647           -0.57           0.01  ...            0              158   \n",
      "57469           -0.52          -0.06  ...          191              180   \n",
      "108732          -0.21          -0.10  ...            0              315   \n",
      "280202           0.25          -0.02  ...            0              795   \n",
      "712487           0.20           0.01  ...            0             1986   \n",
      "796596           0.06          -0.07  ...            0             2223   \n",
      "819373          -0.27          -0.03  ...            0             2291   \n",
      "861284           0.14           0.08  ...         2414             2409   \n",
      "\n",
      "        leftAlongsideId  leftFollowingId  rightPrecedingId  rightAlongsideId  \\\n",
      "51647                 0                0               152                 0   \n",
      "57469                 0              183               167                 0   \n",
      "108732                0                0               314                 0   \n",
      "280202                0                0               798                 0   \n",
      "712487                0                0              1993                 0   \n",
      "796596                0                0              2224                 0   \n",
      "819373                0                0              2284                 0   \n",
      "861284                0             2413              2400                 0   \n",
      "\n",
      "        rightFollowingId  laneId  O_P_Distance  O_F_Distance  \n",
      "51647                  0       3         29.28             #  \n",
      "57469                172       3         14.50         48.11  \n",
      "108732                 0       3        249.99             #  \n",
      "280202               801       7         73.17             #  \n",
      "712487                 0       7        207.75             #  \n",
      "796596                 0       3         18.46             #  \n",
      "819373              2297       3         27.80             #  \n",
      "861284              2411       3         17.31         30.25  \n",
      "\n",
      "[8 rows x 27 columns]\n",
      "30已处理完毕！\n"
     ]
    },
    {
     "name": "stderr",
     "output_type": "stream",
     "text": [
      "/var/folders/d2/f3vm2qjs02ldnf3s8_w_jjd00000gn/T/ipykernel_2150/1625190689.py:44: FutureWarning: The frame.append method is deprecated and will be removed from pandas in a future version. Use pandas.concat instead.\n",
      "  finally_data=finally_data.append(new_data_c)\n",
      "/var/folders/d2/f3vm2qjs02ldnf3s8_w_jjd00000gn/T/ipykernel_2150/1625190689.py:44: FutureWarning: The frame.append method is deprecated and will be removed from pandas in a future version. Use pandas.concat instead.\n",
      "  finally_data=finally_data.append(new_data_c)\n"
     ]
    },
    {
     "name": "stdout",
     "output_type": "stream",
     "text": [
      "376 0 0\n",
      "588 575 591\n"
     ]
    },
    {
     "name": "stderr",
     "output_type": "stream",
     "text": [
      "/var/folders/d2/f3vm2qjs02ldnf3s8_w_jjd00000gn/T/ipykernel_2150/1625190689.py:44: FutureWarning: The frame.append method is deprecated and will be removed from pandas in a future version. Use pandas.concat instead.\n",
      "  finally_data=finally_data.append(new_data_c)\n",
      "/var/folders/d2/f3vm2qjs02ldnf3s8_w_jjd00000gn/T/ipykernel_2150/1625190689.py:44: FutureWarning: The frame.append method is deprecated and will be removed from pandas in a future version. Use pandas.concat instead.\n",
      "  finally_data=finally_data.append(new_data_c)\n"
     ]
    },
    {
     "name": "stdout",
     "output_type": "stream",
     "text": [
      "816 812 0\n",
      "901 0 0\n",
      "1090 1086 0\n"
     ]
    },
    {
     "name": "stderr",
     "output_type": "stream",
     "text": [
      "/var/folders/d2/f3vm2qjs02ldnf3s8_w_jjd00000gn/T/ipykernel_2150/1625190689.py:44: FutureWarning: The frame.append method is deprecated and will be removed from pandas in a future version. Use pandas.concat instead.\n",
      "  finally_data=finally_data.append(new_data_c)\n",
      "/var/folders/d2/f3vm2qjs02ldnf3s8_w_jjd00000gn/T/ipykernel_2150/1625190689.py:44: FutureWarning: The frame.append method is deprecated and will be removed from pandas in a future version. Use pandas.concat instead.\n",
      "  finally_data=finally_data.append(new_data_c)\n",
      "/var/folders/d2/f3vm2qjs02ldnf3s8_w_jjd00000gn/T/ipykernel_2150/1625190689.py:44: FutureWarning: The frame.append method is deprecated and will be removed from pandas in a future version. Use pandas.concat instead.\n",
      "  finally_data=finally_data.append(new_data_c)\n"
     ]
    },
    {
     "name": "stdout",
     "output_type": "stream",
     "text": [
      "1635 1633 0\n",
      "1677 0 0\n",
      "1829 1817 0\n",
      "1873 1872 0\n"
     ]
    },
    {
     "name": "stderr",
     "output_type": "stream",
     "text": [
      "/var/folders/d2/f3vm2qjs02ldnf3s8_w_jjd00000gn/T/ipykernel_2150/1625190689.py:44: FutureWarning: The frame.append method is deprecated and will be removed from pandas in a future version. Use pandas.concat instead.\n",
      "  finally_data=finally_data.append(new_data_c)\n",
      "/var/folders/d2/f3vm2qjs02ldnf3s8_w_jjd00000gn/T/ipykernel_2150/1625190689.py:44: FutureWarning: The frame.append method is deprecated and will be removed from pandas in a future version. Use pandas.concat instead.\n",
      "  finally_data=finally_data.append(new_data_c)\n",
      "/var/folders/d2/f3vm2qjs02ldnf3s8_w_jjd00000gn/T/ipykernel_2150/1625190689.py:44: FutureWarning: The frame.append method is deprecated and will be removed from pandas in a future version. Use pandas.concat instead.\n",
      "  finally_data=finally_data.append(new_data_c)\n",
      "/var/folders/d2/f3vm2qjs02ldnf3s8_w_jjd00000gn/T/ipykernel_2150/1625190689.py:44: FutureWarning: The frame.append method is deprecated and will be removed from pandas in a future version. Use pandas.concat instead.\n",
      "  finally_data=finally_data.append(new_data_c)\n"
     ]
    },
    {
     "name": "stdout",
     "output_type": "stream",
     "text": [
      "2108 0 0\n",
      "2116 2103 0\n",
      "2170 2168 0\n",
      "2249 2246 0\n",
      "        frame    id       x      y  width  height  xVelocity  yVelocity  \\\n",
      "131168   4600   376  387.82  10.40   4.45    1.72     -35.83      -1.28   \n",
      "206322   7153   588  341.49  10.29   4.65    1.82     -35.08       0.84   \n",
      "290659   9899   816  368.42  10.22   5.36    2.02     -35.53       1.22   \n",
      "319697  11112   901  322.17  10.25   4.75    2.02     -35.96      -0.80   \n",
      "385648  13410  1090   71.11  27.20   5.05    2.02      28.75      -0.77   \n",
      "579934  20074  1635  399.64  10.26   4.35    1.92     -35.27       0.56   \n",
      "594117  20706  1677  170.93  23.56   5.05    2.02      38.33       1.09   \n",
      "652527  22495  1829  376.44  10.31   4.04    1.82     -35.18       0.79   \n",
      "670579  23108  1873  286.27   6.50   5.15    2.02     -30.88       0.65   \n",
      "756607  25883  2108   21.89  23.66   3.84    1.82      32.55       0.82   \n",
      "759569  26074  2116  311.51   6.20   9.80    2.50     -21.72       1.17   \n",
      "778484  26823  2170  373.48  10.27   4.75    1.92     -28.04       1.04   \n",
      "808262  27775  2249  391.14  10.32   4.30    1.72     -20.55       1.46   \n",
      "\n",
      "        xAcceleration  yAcceleration  ...  followingId  leftPrecedingId  \\\n",
      "131168           0.56           0.22  ...            0                0   \n",
      "206322           0.17          -0.14  ...            0              575   \n",
      "290659           0.10          -0.15  ...            0              812   \n",
      "319697           0.03           0.06  ...            0                0   \n",
      "385648           0.56          -0.05  ...            0             1086   \n",
      "579934          -0.03           0.02  ...            0             1633   \n",
      "594117          -0.16          -0.09  ...         1684                0   \n",
      "652527          -0.23           0.00  ...            0             1817   \n",
      "670579          -0.02          -0.09  ...            0             1872   \n",
      "756607           0.25          -0.18  ...            0                0   \n",
      "759569          -0.29          -0.20  ...         2122             2103   \n",
      "778484          -0.89          -0.15  ...            0             2168   \n",
      "808262           1.27          -1.40  ...            0             2246   \n",
      "\n",
      "        leftAlongsideId  leftFollowingId  rightPrecedingId  rightAlongsideId  \\\n",
      "131168                0                0               370                 0   \n",
      "206322                0              591               583                 0   \n",
      "290659                0                0               808                 0   \n",
      "319697                0                0               899                 0   \n",
      "385648                0                0                 0                 0   \n",
      "579934                0                0              1629                 0   \n",
      "594117                0                0              1666                 0   \n",
      "652527                0                0              1824                 0   \n",
      "670579                0                0                 0                 0   \n",
      "756607                0                0              2106                 0   \n",
      "759569                0                0                 0                 0   \n",
      "778484                0                0              2160                 0   \n",
      "808262                0                0              2247                 0   \n",
      "\n",
      "        rightFollowingId  laneId  O_P_Distance  O_F_Distance  \n",
      "131168                 0       4             #             #  \n",
      "206322                 0       3        278.18         46.29  \n",
      "290659                 0       3         50.42             #  \n",
      "319697                 0       4             #             #  \n",
      "385648                 0       8         34.42             #  \n",
      "579934                 0       3         45.97             #  \n",
      "594117              1678       6             #             #  \n",
      "652527                 0       3        186.06             #  \n",
      "670579                 0       2         22.13             #  \n",
      "756607                 0       6             #             #  \n",
      "759569                 0       2        290.69             #  \n",
      "778484                 0       3         16.35             #  \n",
      "808262                 0       3        357.28             #  \n",
      "\n",
      "[13 rows x 27 columns]\n",
      "31已处理完毕！\n"
     ]
    },
    {
     "name": "stderr",
     "output_type": "stream",
     "text": [
      "/var/folders/d2/f3vm2qjs02ldnf3s8_w_jjd00000gn/T/ipykernel_2150/1625190689.py:44: FutureWarning: The frame.append method is deprecated and will be removed from pandas in a future version. Use pandas.concat instead.\n",
      "  finally_data=finally_data.append(new_data_c)\n",
      "/var/folders/d2/f3vm2qjs02ldnf3s8_w_jjd00000gn/T/ipykernel_2150/1625190689.py:44: FutureWarning: The frame.append method is deprecated and will be removed from pandas in a future version. Use pandas.concat instead.\n",
      "  finally_data=finally_data.append(new_data_c)\n",
      "/var/folders/d2/f3vm2qjs02ldnf3s8_w_jjd00000gn/T/ipykernel_2150/1625190689.py:44: FutureWarning: The frame.append method is deprecated and will be removed from pandas in a future version. Use pandas.concat instead.\n",
      "  finally_data=finally_data.append(new_data_c)\n",
      "/var/folders/d2/f3vm2qjs02ldnf3s8_w_jjd00000gn/T/ipykernel_2150/1625190689.py:44: FutureWarning: The frame.append method is deprecated and will be removed from pandas in a future version. Use pandas.concat instead.\n",
      "  finally_data=finally_data.append(new_data_c)\n"
     ]
    },
    {
     "name": "stdout",
     "output_type": "stream",
     "text": [
      "168 166 172\n"
     ]
    },
    {
     "name": "stderr",
     "output_type": "stream",
     "text": [
      "/var/folders/d2/f3vm2qjs02ldnf3s8_w_jjd00000gn/T/ipykernel_2150/1625190689.py:44: FutureWarning: The frame.append method is deprecated and will be removed from pandas in a future version. Use pandas.concat instead.\n",
      "  finally_data=finally_data.append(new_data_c)\n"
     ]
    },
    {
     "name": "stdout",
     "output_type": "stream",
     "text": [
      "660 0 0\n",
      "712 702 0\n",
      "757 756 0\n",
      "881 0 891\n",
      "919 0 0\n"
     ]
    },
    {
     "name": "stderr",
     "output_type": "stream",
     "text": [
      "/var/folders/d2/f3vm2qjs02ldnf3s8_w_jjd00000gn/T/ipykernel_2150/1625190689.py:44: FutureWarning: The frame.append method is deprecated and will be removed from pandas in a future version. Use pandas.concat instead.\n",
      "  finally_data=finally_data.append(new_data_c)\n",
      "/var/folders/d2/f3vm2qjs02ldnf3s8_w_jjd00000gn/T/ipykernel_2150/1625190689.py:44: FutureWarning: The frame.append method is deprecated and will be removed from pandas in a future version. Use pandas.concat instead.\n",
      "  finally_data=finally_data.append(new_data_c)\n",
      "/var/folders/d2/f3vm2qjs02ldnf3s8_w_jjd00000gn/T/ipykernel_2150/1625190689.py:44: FutureWarning: The frame.append method is deprecated and will be removed from pandas in a future version. Use pandas.concat instead.\n",
      "  finally_data=finally_data.append(new_data_c)\n",
      "/var/folders/d2/f3vm2qjs02ldnf3s8_w_jjd00000gn/T/ipykernel_2150/1625190689.py:44: FutureWarning: The frame.append method is deprecated and will be removed from pandas in a future version. Use pandas.concat instead.\n",
      "  finally_data=finally_data.append(new_data_c)\n",
      "/var/folders/d2/f3vm2qjs02ldnf3s8_w_jjd00000gn/T/ipykernel_2150/1625190689.py:44: FutureWarning: The frame.append method is deprecated and will be removed from pandas in a future version. Use pandas.concat instead.\n",
      "  finally_data=finally_data.append(new_data_c)\n"
     ]
    },
    {
     "name": "stdout",
     "output_type": "stream",
     "text": [
      "1094 0 0\n",
      "1363 0 0\n",
      "        frame    id       x      y  width  height  xVelocity  yVelocity  \\\n",
      "56212    2176   168  350.35  10.12   6.06    2.22     -28.87       1.29   \n",
      "228248   8807   660   33.24  23.53   4.85    1.92      35.90       0.78   \n",
      "246197   9629   712  102.57  23.55   4.65    1.92      31.53      -1.08   \n",
      "261487  10331   757    5.35  23.59   4.85    1.92      32.75      -1.16   \n",
      "304198  12370   881  220.38  27.22   4.35    1.82      29.59       1.29   \n",
      "317806  12781   919  245.81  10.30   4.55    1.92     -36.62      -0.72   \n",
      "380881  15254  1094  393.97  10.18   6.06    2.22     -31.51      -1.17   \n",
      "476527  18809  1363  403.23  10.31   4.75    1.92     -34.97      -0.72   \n",
      "\n",
      "        xAcceleration  yAcceleration  ...  followingId  leftPrecedingId  \\\n",
      "56212           -0.20           0.08  ...            0              166   \n",
      "228248          -0.19          -0.10  ...            0                0   \n",
      "246197           0.07          -0.04  ...          715              702   \n",
      "261487           0.23           0.04  ...            0              756   \n",
      "304198          -0.25           0.00  ...          890                0   \n",
      "317806           0.22           0.24  ...            0                0   \n",
      "380881           0.18           0.11  ...            0                0   \n",
      "476527           0.22           0.02  ...            0                0   \n",
      "\n",
      "        leftAlongsideId  leftFollowingId  rightPrecedingId  rightAlongsideId  \\\n",
      "56212                 0              172               160                 0   \n",
      "228248                0                0               653                 0   \n",
      "246197                0                0               710                 0   \n",
      "261487                0                0               755                 0   \n",
      "304198                0              891               876                 0   \n",
      "317806                0                0               917                 0   \n",
      "380881                0                0              1091                 0   \n",
      "476527                0                0              1357                 0   \n",
      "\n",
      "        rightFollowingId  laneId  O_P_Distance  O_F_Distance  \n",
      "56212                171       3         33.13         38.32  \n",
      "228248               661       6             #             #  \n",
      "246197                 0       7        256.81             #  \n",
      "261487                 0       7         41.46             #  \n",
      "304198               889       7             #         142.8  \n",
      "317806               920       4             #             #  \n",
      "380881                 0       4             #             #  \n",
      "476527                 0       4             #             #  \n",
      "\n",
      "[8 rows x 27 columns]\n",
      "32已处理完毕！\n"
     ]
    },
    {
     "name": "stderr",
     "output_type": "stream",
     "text": [
      "/var/folders/d2/f3vm2qjs02ldnf3s8_w_jjd00000gn/T/ipykernel_2150/1625190689.py:44: FutureWarning: The frame.append method is deprecated and will be removed from pandas in a future version. Use pandas.concat instead.\n",
      "  finally_data=finally_data.append(new_data_c)\n",
      "/var/folders/d2/f3vm2qjs02ldnf3s8_w_jjd00000gn/T/ipykernel_2150/1625190689.py:44: FutureWarning: The frame.append method is deprecated and will be removed from pandas in a future version. Use pandas.concat instead.\n",
      "  finally_data=finally_data.append(new_data_c)\n"
     ]
    },
    {
     "name": "stdout",
     "output_type": "stream",
     "text": [
      "300 299 0\n",
      "366 360 370\n"
     ]
    },
    {
     "name": "stderr",
     "output_type": "stream",
     "text": [
      "/var/folders/d2/f3vm2qjs02ldnf3s8_w_jjd00000gn/T/ipykernel_2150/1625190689.py:44: FutureWarning: The frame.append method is deprecated and will be removed from pandas in a future version. Use pandas.concat instead.\n",
      "  finally_data=finally_data.append(new_data_c)\n",
      "/var/folders/d2/f3vm2qjs02ldnf3s8_w_jjd00000gn/T/ipykernel_2150/1625190689.py:44: FutureWarning: The frame.append method is deprecated and will be removed from pandas in a future version. Use pandas.concat instead.\n",
      "  finally_data=finally_data.append(new_data_c)\n"
     ]
    },
    {
     "name": "stdout",
     "output_type": "stream",
     "text": [
      "1426 1422 0\n",
      "1583 1584 1586\n"
     ]
    },
    {
     "name": "stderr",
     "output_type": "stream",
     "text": [
      "/var/folders/d2/f3vm2qjs02ldnf3s8_w_jjd00000gn/T/ipykernel_2150/1625190689.py:44: FutureWarning: The frame.append method is deprecated and will be removed from pandas in a future version. Use pandas.concat instead.\n",
      "  finally_data=finally_data.append(new_data_c)\n",
      "/var/folders/d2/f3vm2qjs02ldnf3s8_w_jjd00000gn/T/ipykernel_2150/1625190689.py:44: FutureWarning: The frame.append method is deprecated and will be removed from pandas in a future version. Use pandas.concat instead.\n",
      "  finally_data=finally_data.append(new_data_c)\n"
     ]
    },
    {
     "name": "stdout",
     "output_type": "stream",
     "text": [
      "1741 1739 0\n",
      "1765 1758 1768\n",
      "1840 1841 1848\n"
     ]
    },
    {
     "name": "stderr",
     "output_type": "stream",
     "text": [
      "/var/folders/d2/f3vm2qjs02ldnf3s8_w_jjd00000gn/T/ipykernel_2150/1625190689.py:44: FutureWarning: The frame.append method is deprecated and will be removed from pandas in a future version. Use pandas.concat instead.\n",
      "  finally_data=finally_data.append(new_data_c)\n",
      "/var/folders/d2/f3vm2qjs02ldnf3s8_w_jjd00000gn/T/ipykernel_2150/1625190689.py:44: FutureWarning: The frame.append method is deprecated and will be removed from pandas in a future version. Use pandas.concat instead.\n",
      "  finally_data=finally_data.append(new_data_c)\n",
      "/var/folders/d2/f3vm2qjs02ldnf3s8_w_jjd00000gn/T/ipykernel_2150/1625190689.py:44: FutureWarning: The frame.append method is deprecated and will be removed from pandas in a future version. Use pandas.concat instead.\n",
      "  finally_data=finally_data.append(new_data_c)\n"
     ]
    },
    {
     "name": "stdout",
     "output_type": "stream",
     "text": [
      "        frame    id       x      y  width  height  xVelocity  yVelocity  \\\n",
      "107168   3256   300   37.78  23.56   4.24    1.72      30.10      -0.80   \n",
      "131903   4126   366  114.27  23.44   4.24    1.92      29.05      -0.86   \n",
      "511650  17535  1426    3.86  27.13   4.04    1.72      30.52       1.60   \n",
      "569759  19513  1583  274.79  10.22   4.45    1.82     -29.64       1.27   \n",
      "624959  21322  1741  351.95  10.26   3.84    1.72     -30.87       1.14   \n",
      "634169  21664  1765   85.02  23.45   4.45    1.92      34.32      -1.06   \n",
      "661841  22847  1840  297.86  23.51   4.45    1.82      30.74      -0.95   \n",
      "\n",
      "        xAcceleration  yAcceleration  ...  followingId  leftPrecedingId  \\\n",
      "107168           0.18           0.06  ...            0              299   \n",
      "131903           0.17          -0.13  ...          369              360   \n",
      "511650          -0.07          -0.10  ...            0             1422   \n",
      "569759          -0.38          -0.02  ...            0             1584   \n",
      "624959          -0.17          -0.05  ...            0             1739   \n",
      "634169           0.15          -0.09  ...            0             1758   \n",
      "661841           0.09           0.08  ...         1847             1841   \n",
      "\n",
      "        leftAlongsideId  leftFollowingId  rightPrecedingId  rightAlongsideId  \\\n",
      "107168                0                0               291               301   \n",
      "131903                0              370               362                 0   \n",
      "511650                0                0              1421                 0   \n",
      "569759                0             1586              1568              1580   \n",
      "624959                0                0              1736                 0   \n",
      "634169                0             1768              1760                 0   \n",
      "661841                0             1848                 0              1836   \n",
      "\n",
      "        rightFollowingId  laneId  O_P_Distance  O_F_Distance  \n",
      "107168                 0       7         13.53             #  \n",
      "131903               367       7        130.17         53.55  \n",
      "511650                 0       7        128.27             #  \n",
      "569759              1593       3         13.49         44.91  \n",
      "624959              1742       3         66.65             #  \n",
      "634169              1766       7         63.96         61.13  \n",
      "661841              1842       7         44.53        113.39  \n",
      "\n",
      "[7 rows x 27 columns]\n",
      "33已处理完毕！\n",
      "682 0 0\n",
      "829 0 830\n"
     ]
    },
    {
     "name": "stderr",
     "output_type": "stream",
     "text": [
      "/var/folders/d2/f3vm2qjs02ldnf3s8_w_jjd00000gn/T/ipykernel_2150/1625190689.py:44: FutureWarning: The frame.append method is deprecated and will be removed from pandas in a future version. Use pandas.concat instead.\n",
      "  finally_data=finally_data.append(new_data_c)\n",
      "/var/folders/d2/f3vm2qjs02ldnf3s8_w_jjd00000gn/T/ipykernel_2150/1625190689.py:44: FutureWarning: The frame.append method is deprecated and will be removed from pandas in a future version. Use pandas.concat instead.\n",
      "  finally_data=finally_data.append(new_data_c)\n"
     ]
    },
    {
     "name": "stdout",
     "output_type": "stream",
     "text": [
      "1507 1504 0\n",
      "1585 1581 0\n",
      "        frame    id       x      y  width  height  xVelocity  yVelocity  \\\n",
      "241643   8071   682   26.30  23.29   3.84    1.82      29.49       1.01   \n",
      "295352   9792   829  323.92  10.04   4.65    1.82     -33.56       0.84   \n",
      "542984  17909  1507   10.61  23.38   3.94    1.72      29.81      -0.93   \n",
      "571401  18608  1585  390.82  10.00   5.36    1.92     -31.29       0.39   \n",
      "\n",
      "        xAcceleration  yAcceleration  ...  followingId  leftPrecedingId  \\\n",
      "241643          -0.26          -0.32  ...          684                0   \n",
      "295352           0.25           0.02  ...            0                0   \n",
      "542984           0.70           0.03  ...            0             1504   \n",
      "571401           0.04          -0.01  ...            0             1581   \n",
      "\n",
      "        leftAlongsideId  leftFollowingId  rightPrecedingId  rightAlongsideId  \\\n",
      "241643                0                0               681                 0   \n",
      "295352                0              830               821                 0   \n",
      "542984                0                0              1503                 0   \n",
      "571401                0                0              1580                 0   \n",
      "\n",
      "        rightFollowingId  laneId  O_P_Distance  O_F_Distance  \n",
      "241643                 0       6             #             #  \n",
      "295352               831       3             #         25.93  \n",
      "542984                 0       7         15.74             #  \n",
      "571401                 0       3         41.95             #  \n",
      "\n",
      "[4 rows x 27 columns]\n",
      "34已处理完毕！\n"
     ]
    },
    {
     "name": "stderr",
     "output_type": "stream",
     "text": [
      "/var/folders/d2/f3vm2qjs02ldnf3s8_w_jjd00000gn/T/ipykernel_2150/1625190689.py:44: FutureWarning: The frame.append method is deprecated and will be removed from pandas in a future version. Use pandas.concat instead.\n",
      "  finally_data=finally_data.append(new_data_c)\n",
      "/var/folders/d2/f3vm2qjs02ldnf3s8_w_jjd00000gn/T/ipykernel_2150/1625190689.py:44: FutureWarning: The frame.append method is deprecated and will be removed from pandas in a future version. Use pandas.concat instead.\n",
      "  finally_data=finally_data.append(new_data_c)\n"
     ]
    },
    {
     "name": "stdout",
     "output_type": "stream",
     "text": [
      "404 0 0\n",
      "445 0 0\n",
      "528 517 0\n"
     ]
    },
    {
     "name": "stderr",
     "output_type": "stream",
     "text": [
      "/var/folders/d2/f3vm2qjs02ldnf3s8_w_jjd00000gn/T/ipykernel_2150/1625190689.py:44: FutureWarning: The frame.append method is deprecated and will be removed from pandas in a future version. Use pandas.concat instead.\n",
      "  finally_data=finally_data.append(new_data_c)\n",
      "/var/folders/d2/f3vm2qjs02ldnf3s8_w_jjd00000gn/T/ipykernel_2150/1625190689.py:44: FutureWarning: The frame.append method is deprecated and will be removed from pandas in a future version. Use pandas.concat instead.\n",
      "  finally_data=finally_data.append(new_data_c)\n",
      "/var/folders/d2/f3vm2qjs02ldnf3s8_w_jjd00000gn/T/ipykernel_2150/1625190689.py:44: FutureWarning: The frame.append method is deprecated and will be removed from pandas in a future version. Use pandas.concat instead.\n",
      "  finally_data=finally_data.append(new_data_c)\n"
     ]
    },
    {
     "name": "stdout",
     "output_type": "stream",
     "text": [
      "784 783 785\n",
      "931 928 0\n",
      "982 981 0\n",
      "1034 0 0\n"
     ]
    },
    {
     "name": "stderr",
     "output_type": "stream",
     "text": [
      "/var/folders/d2/f3vm2qjs02ldnf3s8_w_jjd00000gn/T/ipykernel_2150/1625190689.py:44: FutureWarning: The frame.append method is deprecated and will be removed from pandas in a future version. Use pandas.concat instead.\n",
      "  finally_data=finally_data.append(new_data_c)\n",
      "/var/folders/d2/f3vm2qjs02ldnf3s8_w_jjd00000gn/T/ipykernel_2150/1625190689.py:44: FutureWarning: The frame.append method is deprecated and will be removed from pandas in a future version. Use pandas.concat instead.\n",
      "  finally_data=finally_data.append(new_data_c)\n",
      "/var/folders/d2/f3vm2qjs02ldnf3s8_w_jjd00000gn/T/ipykernel_2150/1625190689.py:44: FutureWarning: The frame.append method is deprecated and will be removed from pandas in a future version. Use pandas.concat instead.\n",
      "  finally_data=finally_data.append(new_data_c)\n",
      "/var/folders/d2/f3vm2qjs02ldnf3s8_w_jjd00000gn/T/ipykernel_2150/1625190689.py:44: FutureWarning: The frame.append method is deprecated and will be removed from pandas in a future version. Use pandas.concat instead.\n",
      "  finally_data=finally_data.append(new_data_c)\n"
     ]
    },
    {
     "name": "stdout",
     "output_type": "stream",
     "text": [
      "1241 1233 0\n"
     ]
    },
    {
     "name": "stderr",
     "output_type": "stream",
     "text": [
      "/var/folders/d2/f3vm2qjs02ldnf3s8_w_jjd00000gn/T/ipykernel_2150/1625190689.py:44: FutureWarning: The frame.append method is deprecated and will be removed from pandas in a future version. Use pandas.concat instead.\n",
      "  finally_data=finally_data.append(new_data_c)\n"
     ]
    },
    {
     "name": "stdout",
     "output_type": "stream",
     "text": [
      "1841 1833 1845\n",
      "        frame    id       x      y  width  height  xVelocity  yVelocity  \\\n",
      "139432   5071   404  200.43  10.34   4.24    1.82     -34.02      -0.55   \n",
      "152730   5542   445   41.08  24.02   4.45    1.82      33.46       0.62   \n",
      "181406   6686   528   30.22  23.93   5.05    2.02      34.28      -1.09   \n",
      "270164  10490   784   74.22  24.06   4.35    1.82      27.97      -1.03   \n",
      "321742  12262   931  382.01  10.32   4.24    1.82     -29.66       0.80   \n",
      "339032  12923   982   68.54  27.65   4.55    1.82      32.84      -0.71   \n",
      "356937  13836  1034  338.05  10.35   4.04    1.82     -33.34      -0.81   \n",
      "429799  16550  1241  388.89  10.35   4.14    1.72     -30.48       0.94   \n",
      "640859  25283  1841   77.80  23.98   4.55    1.92      29.93      -0.81   \n",
      "\n",
      "        xAcceleration  yAcceleration  ...  followingId  leftPrecedingId  \\\n",
      "139432           0.41          -0.00  ...          405                0   \n",
      "152730           0.29           0.00  ...            0                0   \n",
      "181406           0.69           0.06  ...            0              517   \n",
      "270164           0.73          -0.11  ...            0              783   \n",
      "321742          -0.47          -0.16  ...            0              928   \n",
      "339032          -0.14          -0.05  ...            0              981   \n",
      "356937           0.08           0.15  ...            0                0   \n",
      "429799          -0.44          -0.12  ...            0             1233   \n",
      "640859          -0.07          -0.08  ...         1844             1833   \n",
      "\n",
      "        leftAlongsideId  leftFollowingId  rightPrecedingId  rightAlongsideId  \\\n",
      "139432                0                0               403                 0   \n",
      "152730                0                0               439                 0   \n",
      "181406                0                0               522                 0   \n",
      "270164                0              785               778                 0   \n",
      "321742                0                0               924               930   \n",
      "339032                0                0                 0                 0   \n",
      "356937                0                0              1033                 0   \n",
      "429799                0                0              1236                 0   \n",
      "640859                0             1845              1839                 0   \n",
      "\n",
      "        rightFollowingId  laneId  O_P_Distance  O_F_Distance  \n",
      "139432               411       4             #             #  \n",
      "152730                 0       6             #             #  \n",
      "181406               529       7        228.47             #  \n",
      "270164                 0       7         25.48         32.54  \n",
      "321742                 0       3         20.85             #  \n",
      "339032                 0       8          30.3             #  \n",
      "356937                 0       4             #             #  \n",
      "429799              1242       3         81.59             #  \n",
      "640859                 0       7        132.36         46.02  \n",
      "\n",
      "[9 rows x 27 columns]\n",
      "35已处理完毕！\n"
     ]
    },
    {
     "name": "stderr",
     "output_type": "stream",
     "text": [
      "/var/folders/d2/f3vm2qjs02ldnf3s8_w_jjd00000gn/T/ipykernel_2150/1625190689.py:44: FutureWarning: The frame.append method is deprecated and will be removed from pandas in a future version. Use pandas.concat instead.\n",
      "  finally_data=finally_data.append(new_data_c)\n"
     ]
    },
    {
     "name": "stdout",
     "output_type": "stream",
     "text": [
      "355 0 0\n"
     ]
    },
    {
     "name": "stderr",
     "output_type": "stream",
     "text": [
      "/var/folders/d2/f3vm2qjs02ldnf3s8_w_jjd00000gn/T/ipykernel_2150/1625190689.py:44: FutureWarning: The frame.append method is deprecated and will be removed from pandas in a future version. Use pandas.concat instead.\n",
      "  finally_data=finally_data.append(new_data_c)\n"
     ]
    },
    {
     "name": "stdout",
     "output_type": "stream",
     "text": [
      "1045 0 0\n",
      "1311 0 0\n"
     ]
    },
    {
     "name": "stderr",
     "output_type": "stream",
     "text": [
      "/var/folders/d2/f3vm2qjs02ldnf3s8_w_jjd00000gn/T/ipykernel_2150/1625190689.py:44: FutureWarning: The frame.append method is deprecated and will be removed from pandas in a future version. Use pandas.concat instead.\n",
      "  finally_data=finally_data.append(new_data_c)\n",
      "/var/folders/d2/f3vm2qjs02ldnf3s8_w_jjd00000gn/T/ipykernel_2150/1625190689.py:44: FutureWarning: The frame.append method is deprecated and will be removed from pandas in a future version. Use pandas.concat instead.\n",
      "  finally_data=finally_data.append(new_data_c)\n"
     ]
    },
    {
     "name": "stdout",
     "output_type": "stream",
     "text": [
      "1697 0 0\n",
      "1920 1912 0\n"
     ]
    },
    {
     "name": "stderr",
     "output_type": "stream",
     "text": [
      "/var/folders/d2/f3vm2qjs02ldnf3s8_w_jjd00000gn/T/ipykernel_2150/1625190689.py:44: FutureWarning: The frame.append method is deprecated and will be removed from pandas in a future version. Use pandas.concat instead.\n",
      "  finally_data=finally_data.append(new_data_c)\n",
      "/var/folders/d2/f3vm2qjs02ldnf3s8_w_jjd00000gn/T/ipykernel_2150/1625190689.py:44: FutureWarning: The frame.append method is deprecated and will be removed from pandas in a future version. Use pandas.concat instead.\n",
      "  finally_data=finally_data.append(new_data_c)\n"
     ]
    },
    {
     "name": "stdout",
     "output_type": "stream",
     "text": [
      "2148 0 2168\n"
     ]
    },
    {
     "name": "stderr",
     "output_type": "stream",
     "text": [
      "/var/folders/d2/f3vm2qjs02ldnf3s8_w_jjd00000gn/T/ipykernel_2150/1625190689.py:44: FutureWarning: The frame.append method is deprecated and will be removed from pandas in a future version. Use pandas.concat instead.\n",
      "  finally_data=finally_data.append(new_data_c)\n"
     ]
    },
    {
     "name": "stdout",
     "output_type": "stream",
     "text": [
      "        frame    id       x      y  width  height  xVelocity  yVelocity  \\\n",
      "127236   3663   355  233.89  10.81   4.55    1.82     -33.72      -0.95   \n",
      "377039  12085  1045  398.61  10.81   4.75    1.82     -35.35      -1.22   \n",
      "471266  15674  1311  117.55  24.19   5.15    1.92      35.25       0.98   \n",
      "618138  20364  1697  339.15  10.71   4.95    2.02     -33.48      -0.35   \n",
      "698001  23135  1920  398.01   6.62   6.87    2.50     -24.78      -0.89   \n",
      "782554  26297  2148  277.65  24.09   5.86    2.12      32.93      -0.46   \n",
      "\n",
      "        xAcceleration  yAcceleration  ...  followingId  leftPrecedingId  \\\n",
      "127236           0.61           0.01  ...          358                0   \n",
      "377039           0.01           0.10  ...            0                0   \n",
      "471266          -0.30          -0.20  ...         1315                0   \n",
      "618138           0.19           0.08  ...         1700                0   \n",
      "698001          -0.08           0.06  ...            0             1912   \n",
      "782554           0.50           0.20  ...         2152                0   \n",
      "\n",
      "        leftAlongsideId  leftFollowingId  rightPrecedingId  rightAlongsideId  \\\n",
      "127236                0                0               346                 0   \n",
      "377039                0                0              1037                 0   \n",
      "471266                0                0              1308                 0   \n",
      "618138                0                0              1678                 0   \n",
      "698001                0                0              1907                 0   \n",
      "782554                0             2168              2141                 0   \n",
      "\n",
      "        rightFollowingId  laneId  O_P_Distance  O_F_Distance  \n",
      "127236               353       4             #             #  \n",
      "377039                 0       4             #             #  \n",
      "471266              1312       6             #             #  \n",
      "618138              1699       4             #             #  \n",
      "698001                 0       3         144.9             #  \n",
      "782554              2142       7             #        247.07  \n",
      "\n",
      "[6 rows x 27 columns]\n",
      "36已处理完毕！\n",
      "65 54 0\n",
      "239 237 0\n",
      "277 0 0\n",
      "281 0 0\n"
     ]
    },
    {
     "name": "stderr",
     "output_type": "stream",
     "text": [
      "/var/folders/d2/f3vm2qjs02ldnf3s8_w_jjd00000gn/T/ipykernel_2150/1625190689.py:44: FutureWarning: The frame.append method is deprecated and will be removed from pandas in a future version. Use pandas.concat instead.\n",
      "  finally_data=finally_data.append(new_data_c)\n",
      "/var/folders/d2/f3vm2qjs02ldnf3s8_w_jjd00000gn/T/ipykernel_2150/1625190689.py:44: FutureWarning: The frame.append method is deprecated and will be removed from pandas in a future version. Use pandas.concat instead.\n",
      "  finally_data=finally_data.append(new_data_c)\n",
      "/var/folders/d2/f3vm2qjs02ldnf3s8_w_jjd00000gn/T/ipykernel_2150/1625190689.py:44: FutureWarning: The frame.append method is deprecated and will be removed from pandas in a future version. Use pandas.concat instead.\n",
      "  finally_data=finally_data.append(new_data_c)\n",
      "/var/folders/d2/f3vm2qjs02ldnf3s8_w_jjd00000gn/T/ipykernel_2150/1625190689.py:44: FutureWarning: The frame.append method is deprecated and will be removed from pandas in a future version. Use pandas.concat instead.\n",
      "  finally_data=finally_data.append(new_data_c)\n"
     ]
    },
    {
     "name": "stdout",
     "output_type": "stream",
     "text": [
      "562 0 0\n",
      "729 726 734\n",
      "807 0 0\n"
     ]
    },
    {
     "name": "stderr",
     "output_type": "stream",
     "text": [
      "/var/folders/d2/f3vm2qjs02ldnf3s8_w_jjd00000gn/T/ipykernel_2150/1625190689.py:44: FutureWarning: The frame.append method is deprecated and will be removed from pandas in a future version. Use pandas.concat instead.\n",
      "  finally_data=finally_data.append(new_data_c)\n",
      "/var/folders/d2/f3vm2qjs02ldnf3s8_w_jjd00000gn/T/ipykernel_2150/1625190689.py:44: FutureWarning: The frame.append method is deprecated and will be removed from pandas in a future version. Use pandas.concat instead.\n",
      "  finally_data=finally_data.append(new_data_c)\n",
      "/var/folders/d2/f3vm2qjs02ldnf3s8_w_jjd00000gn/T/ipykernel_2150/1625190689.py:44: FutureWarning: The frame.append method is deprecated and will be removed from pandas in a future version. Use pandas.concat instead.\n",
      "  finally_data=finally_data.append(new_data_c)\n"
     ]
    },
    {
     "name": "stdout",
     "output_type": "stream",
     "text": [
      "991 984 0\n"
     ]
    },
    {
     "name": "stderr",
     "output_type": "stream",
     "text": [
      "/var/folders/d2/f3vm2qjs02ldnf3s8_w_jjd00000gn/T/ipykernel_2150/1625190689.py:44: FutureWarning: The frame.append method is deprecated and will be removed from pandas in a future version. Use pandas.concat instead.\n",
      "  finally_data=finally_data.append(new_data_c)\n"
     ]
    },
    {
     "name": "stdout",
     "output_type": "stream",
     "text": [
      "1310 1309 0\n",
      "1412 0 0\n",
      "1495 1490 0\n",
      "1583 0 0\n"
     ]
    },
    {
     "name": "stderr",
     "output_type": "stream",
     "text": [
      "/var/folders/d2/f3vm2qjs02ldnf3s8_w_jjd00000gn/T/ipykernel_2150/1625190689.py:44: FutureWarning: The frame.append method is deprecated and will be removed from pandas in a future version. Use pandas.concat instead.\n",
      "  finally_data=finally_data.append(new_data_c)\n",
      "/var/folders/d2/f3vm2qjs02ldnf3s8_w_jjd00000gn/T/ipykernel_2150/1625190689.py:44: FutureWarning: The frame.append method is deprecated and will be removed from pandas in a future version. Use pandas.concat instead.\n",
      "  finally_data=finally_data.append(new_data_c)\n",
      "/var/folders/d2/f3vm2qjs02ldnf3s8_w_jjd00000gn/T/ipykernel_2150/1625190689.py:44: FutureWarning: The frame.append method is deprecated and will be removed from pandas in a future version. Use pandas.concat instead.\n",
      "  finally_data=finally_data.append(new_data_c)\n",
      "/var/folders/d2/f3vm2qjs02ldnf3s8_w_jjd00000gn/T/ipykernel_2150/1625190689.py:44: FutureWarning: The frame.append method is deprecated and will be removed from pandas in a future version. Use pandas.concat instead.\n",
      "  finally_data=finally_data.append(new_data_c)\n"
     ]
    },
    {
     "name": "stdout",
     "output_type": "stream",
     "text": [
      "1855 1854 0\n",
      "        frame    id       x      y  width  height  xVelocity  yVelocity  \\\n",
      "18374     486    65   25.67  33.41   4.55    1.92      31.50      -0.90   \n",
      "79213    3089   239    3.83  33.35   4.85    2.02      34.91      -1.07   \n",
      "93029    3556   277   22.47  33.43   4.24    1.82      37.41       1.38   \n",
      "94322    3707   281  141.09  33.42   4.85    1.82      36.71       1.13   \n",
      "191257   7737   562  178.02  33.28   5.05    2.12      31.25       0.87   \n",
      "250932   9863   729  289.67  19.98   4.45    1.82     -33.41       0.70   \n",
      "279431  11135   807  152.42  20.02   4.75    1.82     -29.44      -0.94   \n",
      "343484  13831   991   89.90  33.47   4.95    1.82      37.37      -0.78   \n",
      "459473  17865  1310  361.89  19.92   4.55    1.92     -31.09       0.92   \n",
      "496725  19133  1412  353.43  19.75   6.57    2.32     -33.05      -0.67   \n",
      "526223  20309  1495  345.31  19.76   7.18    2.22     -32.05       0.84   \n",
      "557720  21418  1583   62.14  33.31   5.56    2.12      31.58      -0.77   \n",
      "653567  25041  1855  353.79  19.92   4.85    1.92     -28.24       1.36   \n",
      "\n",
      "        xAcceleration  yAcceleration  ...  followingId  leftPrecedingId  \\\n",
      "18374            0.05          -0.01  ...            0               54   \n",
      "79213            0.02           0.02  ...            0              237   \n",
      "93029            0.15           0.04  ...            0                0   \n",
      "94322           -0.28          -0.03  ...            0                0   \n",
      "191257          -0.36           0.08  ...          564                0   \n",
      "250932           0.20          -0.02  ...          730              726   \n",
      "279431           0.34           0.15  ...          808                0   \n",
      "343484           0.08          -0.01  ...          994              984   \n",
      "459473           0.15          -0.10  ...            0             1309   \n",
      "496725          -0.01           0.09  ...            0                0   \n",
      "526223          -0.02           0.09  ...            0             1490   \n",
      "557720          -2.30          -0.04  ...            0                0   \n",
      "653567          -0.51           0.10  ...            0             1854   \n",
      "\n",
      "        leftAlongsideId  leftFollowingId  rightPrecedingId  rightAlongsideId  \\\n",
      "18374                 0                0                60                 0   \n",
      "79213                 0                0               229                 0   \n",
      "93029                 0                0               270                 0   \n",
      "94322                 0                0               280                 0   \n",
      "191257                0                0               559                 0   \n",
      "250932                0              734               714                 0   \n",
      "279431                0                0               804                 0   \n",
      "343484                0                0               985                 0   \n",
      "459473                0                0              1307                 0   \n",
      "496725                0                0              1411                 0   \n",
      "526223                0                0              1482                 0   \n",
      "557720                0                0              1577                 0   \n",
      "653567                0                0              1852                 0   \n",
      "\n",
      "        rightFollowingId  laneId  O_P_Distance  O_F_Distance  \n",
      "18374                 67       7         194.5             #  \n",
      "79213                  0       7         36.39             #  \n",
      "93029                279       6             #             #  \n",
      "94322                282       6             #             #  \n",
      "191257               563       6             #             #  \n",
      "250932               731       3         19.84         36.92  \n",
      "279431               805       4             #             #  \n",
      "343484                 0       7          84.7             #  \n",
      "459473                 0       3         20.76             #  \n",
      "496725              1416       4             #             #  \n",
      "526223              1496       3         54.17             #  \n",
      "557720                 0       7             #             #  \n",
      "653567                 0       3         13.72             #  \n",
      "\n",
      "[13 rows x 27 columns]\n",
      "37已处理完毕！\n"
     ]
    },
    {
     "name": "stderr",
     "output_type": "stream",
     "text": [
      "/var/folders/d2/f3vm2qjs02ldnf3s8_w_jjd00000gn/T/ipykernel_2150/1625190689.py:44: FutureWarning: The frame.append method is deprecated and will be removed from pandas in a future version. Use pandas.concat instead.\n",
      "  finally_data=finally_data.append(new_data_c)\n"
     ]
    },
    {
     "name": "stdout",
     "output_type": "stream",
     "text": [
      "629 0 0\n"
     ]
    },
    {
     "name": "stderr",
     "output_type": "stream",
     "text": [
      "/var/folders/d2/f3vm2qjs02ldnf3s8_w_jjd00000gn/T/ipykernel_2150/1625190689.py:44: FutureWarning: The frame.append method is deprecated and will be removed from pandas in a future version. Use pandas.concat instead.\n",
      "  finally_data=finally_data.append(new_data_c)\n"
     ]
    },
    {
     "name": "stdout",
     "output_type": "stream",
     "text": [
      "1167 1166 0\n",
      "1360 1358 0\n"
     ]
    },
    {
     "name": "stderr",
     "output_type": "stream",
     "text": [
      "/var/folders/d2/f3vm2qjs02ldnf3s8_w_jjd00000gn/T/ipykernel_2150/1625190689.py:44: FutureWarning: The frame.append method is deprecated and will be removed from pandas in a future version. Use pandas.concat instead.\n",
      "  finally_data=finally_data.append(new_data_c)\n",
      "/var/folders/d2/f3vm2qjs02ldnf3s8_w_jjd00000gn/T/ipykernel_2150/1625190689.py:44: FutureWarning: The frame.append method is deprecated and will be removed from pandas in a future version. Use pandas.concat instead.\n",
      "  finally_data=finally_data.append(new_data_c)\n"
     ]
    },
    {
     "name": "stdout",
     "output_type": "stream",
     "text": [
      "1786 1785 0\n"
     ]
    },
    {
     "name": "stderr",
     "output_type": "stream",
     "text": [
      "/var/folders/d2/f3vm2qjs02ldnf3s8_w_jjd00000gn/T/ipykernel_2150/1625190689.py:44: FutureWarning: The frame.append method is deprecated and will be removed from pandas in a future version. Use pandas.concat instead.\n",
      "  finally_data=finally_data.append(new_data_c)\n"
     ]
    },
    {
     "name": "stdout",
     "output_type": "stream",
     "text": [
      "2072 0 0\n",
      "2084 2072 0\n",
      "2133 2131 0\n"
     ]
    },
    {
     "name": "stderr",
     "output_type": "stream",
     "text": [
      "/var/folders/d2/f3vm2qjs02ldnf3s8_w_jjd00000gn/T/ipykernel_2150/1625190689.py:44: FutureWarning: The frame.append method is deprecated and will be removed from pandas in a future version. Use pandas.concat instead.\n",
      "  finally_data=finally_data.append(new_data_c)\n",
      "/var/folders/d2/f3vm2qjs02ldnf3s8_w_jjd00000gn/T/ipykernel_2150/1625190689.py:44: FutureWarning: The frame.append method is deprecated and will be removed from pandas in a future version. Use pandas.concat instead.\n",
      "  finally_data=finally_data.append(new_data_c)\n",
      "/var/folders/d2/f3vm2qjs02ldnf3s8_w_jjd00000gn/T/ipykernel_2150/1625190689.py:44: FutureWarning: The frame.append method is deprecated and will be removed from pandas in a future version. Use pandas.concat instead.\n",
      "  finally_data=finally_data.append(new_data_c)\n"
     ]
    },
    {
     "name": "stdout",
     "output_type": "stream",
     "text": [
      "        frame    id       x      y  width  height  xVelocity  yVelocity  \\\n",
      "218609   7450   629   31.53  33.77   4.85    1.82      35.72       0.99   \n",
      "406992  14245  1167   30.61  33.69   5.26    2.12      28.40      -1.43   \n",
      "477138  16512  1360  368.44  20.23   4.95    2.02     -28.69       0.92   \n",
      "629020  21532  1786   41.78  33.85   4.45    1.82      32.12      -1.15   \n",
      "729492  25185  2072   34.86  33.80   4.35    1.82      35.29       0.74   \n",
      "733833  25384  2084   82.87  33.76   5.05    1.92      32.84      -0.73   \n",
      "750591  25967  2133  394.55  16.51   4.14    1.82     -30.68       0.54   \n",
      "\n",
      "        xAcceleration  yAcceleration  ...  followingId  leftPrecedingId  \\\n",
      "218609           0.82          -0.07  ...          632                0   \n",
      "406992           0.64           0.15  ...            0             1166   \n",
      "477138          -0.34          -0.03  ...            0             1358   \n",
      "629020           0.32           0.14  ...            0             1785   \n",
      "729492           0.03          -0.12  ...            0                0   \n",
      "733833           0.31          -0.11  ...            0             2072   \n",
      "750591          -0.29          -0.04  ...            0             2131   \n",
      "\n",
      "        leftAlongsideId  leftFollowingId  rightPrecedingId  rightAlongsideId  \\\n",
      "218609                0                0               612                 0   \n",
      "406992                0                0              1162              1168   \n",
      "477138                0                0              1355                 0   \n",
      "629020                0                0              1783                 0   \n",
      "729492                0                0              2070                 0   \n",
      "733833                0                0              2080                 0   \n",
      "750591                0                0                 0                 0   \n",
      "\n",
      "        rightFollowingId  laneId  O_P_Distance  O_F_Distance  \n",
      "218609                 0       6             #             #  \n",
      "406992                 0       7         19.33             #  \n",
      "477138                 0       3         18.18             #  \n",
      "629020                 0       7          27.8             #  \n",
      "729492                 0       6             #             #  \n",
      "733833                 0       7        238.93             #  \n",
      "750591                 0       2         25.47             #  \n",
      "\n",
      "[7 rows x 27 columns]\n",
      "38已处理完毕！\n",
      "760 0 0\n",
      "877 0 878\n",
      "899 897 0\n"
     ]
    },
    {
     "name": "stderr",
     "output_type": "stream",
     "text": [
      "/var/folders/d2/f3vm2qjs02ldnf3s8_w_jjd00000gn/T/ipykernel_2150/1625190689.py:44: FutureWarning: The frame.append method is deprecated and will be removed from pandas in a future version. Use pandas.concat instead.\n",
      "  finally_data=finally_data.append(new_data_c)\n",
      "/var/folders/d2/f3vm2qjs02ldnf3s8_w_jjd00000gn/T/ipykernel_2150/1625190689.py:44: FutureWarning: The frame.append method is deprecated and will be removed from pandas in a future version. Use pandas.concat instead.\n",
      "  finally_data=finally_data.append(new_data_c)\n",
      "/var/folders/d2/f3vm2qjs02ldnf3s8_w_jjd00000gn/T/ipykernel_2150/1625190689.py:44: FutureWarning: The frame.append method is deprecated and will be removed from pandas in a future version. Use pandas.concat instead.\n",
      "  finally_data=finally_data.append(new_data_c)\n"
     ]
    },
    {
     "name": "stdout",
     "output_type": "stream",
     "text": [
      "1607 1606 0\n",
      "1838 0 0\n",
      "1902 1891 1912\n"
     ]
    },
    {
     "name": "stderr",
     "output_type": "stream",
     "text": [
      "/var/folders/d2/f3vm2qjs02ldnf3s8_w_jjd00000gn/T/ipykernel_2150/1625190689.py:44: FutureWarning: The frame.append method is deprecated and will be removed from pandas in a future version. Use pandas.concat instead.\n",
      "  finally_data=finally_data.append(new_data_c)\n",
      "/var/folders/d2/f3vm2qjs02ldnf3s8_w_jjd00000gn/T/ipykernel_2150/1625190689.py:44: FutureWarning: The frame.append method is deprecated and will be removed from pandas in a future version. Use pandas.concat instead.\n",
      "  finally_data=finally_data.append(new_data_c)\n",
      "/var/folders/d2/f3vm2qjs02ldnf3s8_w_jjd00000gn/T/ipykernel_2150/1625190689.py:44: FutureWarning: The frame.append method is deprecated and will be removed from pandas in a future version. Use pandas.concat instead.\n",
      "  finally_data=finally_data.append(new_data_c)\n"
     ]
    },
    {
     "name": "stdout",
     "output_type": "stream",
     "text": [
      "        frame    id       x      y  width  height  xVelocity  yVelocity  \\\n",
      "248695  11016   760  125.01  28.83   4.45    1.82      31.64       0.66   \n",
      "290168  12350   877  311.43  10.98   4.95    1.92     -38.99      -0.52   \n",
      "297501  12683   899   78.06  32.29  19.61    2.50      24.74      -0.80   \n",
      "534628  22193  1607   90.96  32.71   4.35    1.82      31.79      -2.25   \n",
      "613110  25293  1838  222.35  14.77   5.26    2.12     -33.19      -1.17   \n",
      "634972  26221  1902  161.60  14.58   6.37    2.43     -34.52       0.91   \n",
      "\n",
      "        xAcceleration  yAcceleration  ...  followingId  leftPrecedingId  \\\n",
      "248695           0.32          -0.18  ...            0                0   \n",
      "290168           0.61          -0.00  ...          881                0   \n",
      "297501           0.23           0.03  ...            0              897   \n",
      "534628           0.14          -0.67  ...            0             1606   \n",
      "613110           0.94           0.22  ...         1842                0   \n",
      "634972           0.33          -0.08  ...         1907             1891   \n",
      "\n",
      "        leftAlongsideId  leftFollowingId  rightPrecedingId  rightAlongsideId  \\\n",
      "248695                0                0               757                 0   \n",
      "290168                0              878               869                 0   \n",
      "297501                0                0                 0                 0   \n",
      "534628                0                0                 0                 0   \n",
      "613110                0                0              1834                 0   \n",
      "634972                0             1912              1888              1894   \n",
      "\n",
      "        rightFollowingId  laneId  O_P_Distance  O_F_Distance  \n",
      "248695               764       6             #             #  \n",
      "290168                 0       3             #         17.66  \n",
      "297501                 0       8         51.23             #  \n",
      "534628                 0       8         15.41             #  \n",
      "613110              1837       4             #             #  \n",
      "634972              1901       3        133.64        107.16  \n",
      "\n",
      "[6 rows x 27 columns]\n",
      "39已处理完毕！\n",
      "261 259 0\n",
      "343 0 0\n"
     ]
    },
    {
     "name": "stderr",
     "output_type": "stream",
     "text": [
      "/var/folders/d2/f3vm2qjs02ldnf3s8_w_jjd00000gn/T/ipykernel_2150/1625190689.py:44: FutureWarning: The frame.append method is deprecated and will be removed from pandas in a future version. Use pandas.concat instead.\n",
      "  finally_data=finally_data.append(new_data_c)\n",
      "/var/folders/d2/f3vm2qjs02ldnf3s8_w_jjd00000gn/T/ipykernel_2150/1625190689.py:44: FutureWarning: The frame.append method is deprecated and will be removed from pandas in a future version. Use pandas.concat instead.\n",
      "  finally_data=finally_data.append(new_data_c)\n"
     ]
    },
    {
     "name": "stdout",
     "output_type": "stream",
     "text": [
      "691 690 0\n"
     ]
    },
    {
     "name": "stderr",
     "output_type": "stream",
     "text": [
      "/var/folders/d2/f3vm2qjs02ldnf3s8_w_jjd00000gn/T/ipykernel_2150/1625190689.py:44: FutureWarning: The frame.append method is deprecated and will be removed from pandas in a future version. Use pandas.concat instead.\n",
      "  finally_data=finally_data.append(new_data_c)\n"
     ]
    },
    {
     "name": "stdout",
     "output_type": "stream",
     "text": [
      "1259 1257 0\n",
      "1329 0 0\n",
      "1400 0 0\n",
      "1417 1420 0\n",
      "1451 0 0\n"
     ]
    },
    {
     "name": "stderr",
     "output_type": "stream",
     "text": [
      "/var/folders/d2/f3vm2qjs02ldnf3s8_w_jjd00000gn/T/ipykernel_2150/1625190689.py:44: FutureWarning: The frame.append method is deprecated and will be removed from pandas in a future version. Use pandas.concat instead.\n",
      "  finally_data=finally_data.append(new_data_c)\n",
      "/var/folders/d2/f3vm2qjs02ldnf3s8_w_jjd00000gn/T/ipykernel_2150/1625190689.py:44: FutureWarning: The frame.append method is deprecated and will be removed from pandas in a future version. Use pandas.concat instead.\n",
      "  finally_data=finally_data.append(new_data_c)\n",
      "/var/folders/d2/f3vm2qjs02ldnf3s8_w_jjd00000gn/T/ipykernel_2150/1625190689.py:44: FutureWarning: The frame.append method is deprecated and will be removed from pandas in a future version. Use pandas.concat instead.\n",
      "  finally_data=finally_data.append(new_data_c)\n",
      "/var/folders/d2/f3vm2qjs02ldnf3s8_w_jjd00000gn/T/ipykernel_2150/1625190689.py:44: FutureWarning: The frame.append method is deprecated and will be removed from pandas in a future version. Use pandas.concat instead.\n",
      "  finally_data=finally_data.append(new_data_c)\n",
      "/var/folders/d2/f3vm2qjs02ldnf3s8_w_jjd00000gn/T/ipykernel_2150/1625190689.py:44: FutureWarning: The frame.append method is deprecated and will be removed from pandas in a future version. Use pandas.concat instead.\n",
      "  finally_data=finally_data.append(new_data_c)\n"
     ]
    },
    {
     "name": "stdout",
     "output_type": "stream",
     "text": [
      "1801 1800 0\n",
      "1825 1824 0\n",
      "2022 0 0\n"
     ]
    },
    {
     "name": "stderr",
     "output_type": "stream",
     "text": [
      "/var/folders/d2/f3vm2qjs02ldnf3s8_w_jjd00000gn/T/ipykernel_2150/1625190689.py:44: FutureWarning: The frame.append method is deprecated and will be removed from pandas in a future version. Use pandas.concat instead.\n",
      "  finally_data=finally_data.append(new_data_c)\n",
      "/var/folders/d2/f3vm2qjs02ldnf3s8_w_jjd00000gn/T/ipykernel_2150/1625190689.py:44: FutureWarning: The frame.append method is deprecated and will be removed from pandas in a future version. Use pandas.concat instead.\n",
      "  finally_data=finally_data.append(new_data_c)\n",
      "/var/folders/d2/f3vm2qjs02ldnf3s8_w_jjd00000gn/T/ipykernel_2150/1625190689.py:44: FutureWarning: The frame.append method is deprecated and will be removed from pandas in a future version. Use pandas.concat instead.\n",
      "  finally_data=finally_data.append(new_data_c)\n"
     ]
    },
    {
     "name": "stdout",
     "output_type": "stream",
     "text": [
      "2194 2190 0\n",
      "        frame    id       x      y  width  height  xVelocity  yVelocity  \\\n",
      "84351    2961   261   18.81  29.46   3.74    1.82      28.91      -0.69   \n",
      "111763   3944   343   15.63  29.37   4.35    1.92      33.69       0.90   \n",
      "229183   7926   691   68.72  33.29   4.14    1.92      28.73      -1.25   \n",
      "420398  14992  1259   31.87  33.28   5.05    1.92      25.00      -1.09   \n",
      "444301  15873  1329  321.19  15.45   5.66    2.02     -39.27      -0.76   \n",
      "467280  16797  1400   70.61  29.43   4.45    1.82      35.70       0.82   \n",
      "473075  16998  1417   99.35  29.45   4.35    1.82      28.94      -0.88   \n",
      "484088  17533  1451  179.07  15.53   3.74    1.82     -35.55      -0.67   \n",
      "597325  22076  1801  396.34  15.40   4.55    2.02     -32.59       1.05   \n",
      "605751  22457  1825   68.29  33.22   5.26    2.02      28.42       0.69   \n",
      "672331  24664  2022   62.78  29.32   5.05    2.02      31.92       0.96   \n",
      "730067  26677  2194   11.56  29.34   5.15    2.02      33.49      -1.35   \n",
      "\n",
      "        xAcceleration  yAcceleration  ...  followingId  leftPrecedingId  \\\n",
      "84351            0.69           0.02  ...            0              259   \n",
      "111763           0.37          -0.20  ...            0                0   \n",
      "229183           0.48          -0.06  ...            0              690   \n",
      "420398           0.69          -0.04  ...            0             1257   \n",
      "444301           1.08          -0.01  ...            0                0   \n",
      "467280           0.51          -0.12  ...         1405                0   \n",
      "473075           0.91          -0.04  ...            0             1420   \n",
      "484088           0.55           0.08  ...         1461                0   \n",
      "597325          -0.07          -0.12  ...            0             1800   \n",
      "605751           0.35          -0.04  ...         1830             1824   \n",
      "672331           0.64          -0.09  ...         2025                0   \n",
      "730067           0.38           0.09  ...            0             2190   \n",
      "\n",
      "        leftAlongsideId  leftFollowingId  rightPrecedingId  rightAlongsideId  \\\n",
      "84351                 0                0               250               262   \n",
      "111763                0                0               342                 0   \n",
      "229183                0                0                 0                 0   \n",
      "420398                0                0                 0                 0   \n",
      "444301                0                0              1327                 0   \n",
      "467280                0                0              1390                 0   \n",
      "473075                0                0              1415                 0   \n",
      "484088                0                0              1444                 0   \n",
      "597325                0                0              1799                 0   \n",
      "605751                0                0              1818                 0   \n",
      "672331                0                0              2012                 0   \n",
      "730067                0                0              2193                 0   \n",
      "\n",
      "        rightFollowingId  laneId  O_P_Distance  O_F_Distance  \n",
      "84351                  0       7         11.74             #  \n",
      "111763                 0       6             #             #  \n",
      "229183                 0       8         11.29             #  \n",
      "420398                 0       8         29.86             #  \n",
      "444301              1331       4             #             #  \n",
      "467280              1402       6             #             #  \n",
      "473075              1422       7         26.28             #  \n",
      "484088              1460       4             #             #  \n",
      "597325                 0       3         16.87             #  \n",
      "605751              1829       7          9.33             #  \n",
      "672331              2023       6             #             #  \n",
      "730067                 0       7         39.68             #  \n",
      "\n",
      "[12 rows x 27 columns]\n",
      "40已处理完毕！\n"
     ]
    },
    {
     "name": "stderr",
     "output_type": "stream",
     "text": [
      "/var/folders/d2/f3vm2qjs02ldnf3s8_w_jjd00000gn/T/ipykernel_2150/1625190689.py:44: FutureWarning: The frame.append method is deprecated and will be removed from pandas in a future version. Use pandas.concat instead.\n",
      "  finally_data=finally_data.append(new_data_c)\n"
     ]
    },
    {
     "name": "stdout",
     "output_type": "stream",
     "text": [
      "198 201 204\n"
     ]
    },
    {
     "name": "stderr",
     "output_type": "stream",
     "text": [
      "/var/folders/d2/f3vm2qjs02ldnf3s8_w_jjd00000gn/T/ipykernel_2150/1625190689.py:44: FutureWarning: The frame.append method is deprecated and will be removed from pandas in a future version. Use pandas.concat instead.\n",
      "  finally_data=finally_data.append(new_data_c)\n"
     ]
    },
    {
     "name": "stdout",
     "output_type": "stream",
     "text": [
      "866 867 0\n",
      "938 0 0\n",
      "992 985 0\n"
     ]
    },
    {
     "name": "stderr",
     "output_type": "stream",
     "text": [
      "/var/folders/d2/f3vm2qjs02ldnf3s8_w_jjd00000gn/T/ipykernel_2150/1625190689.py:44: FutureWarning: The frame.append method is deprecated and will be removed from pandas in a future version. Use pandas.concat instead.\n",
      "  finally_data=finally_data.append(new_data_c)\n",
      "/var/folders/d2/f3vm2qjs02ldnf3s8_w_jjd00000gn/T/ipykernel_2150/1625190689.py:44: FutureWarning: The frame.append method is deprecated and will be removed from pandas in a future version. Use pandas.concat instead.\n",
      "  finally_data=finally_data.append(new_data_c)\n",
      "/var/folders/d2/f3vm2qjs02ldnf3s8_w_jjd00000gn/T/ipykernel_2150/1625190689.py:44: FutureWarning: The frame.append method is deprecated and will be removed from pandas in a future version. Use pandas.concat instead.\n",
      "  finally_data=finally_data.append(new_data_c)\n"
     ]
    },
    {
     "name": "stdout",
     "output_type": "stream",
     "text": [
      "1259 1254 0\n",
      "1367 1349 0\n"
     ]
    },
    {
     "name": "stderr",
     "output_type": "stream",
     "text": [
      "/var/folders/d2/f3vm2qjs02ldnf3s8_w_jjd00000gn/T/ipykernel_2150/1625190689.py:44: FutureWarning: The frame.append method is deprecated and will be removed from pandas in a future version. Use pandas.concat instead.\n",
      "  finally_data=finally_data.append(new_data_c)\n",
      "/var/folders/d2/f3vm2qjs02ldnf3s8_w_jjd00000gn/T/ipykernel_2150/1625190689.py:44: FutureWarning: The frame.append method is deprecated and will be removed from pandas in a future version. Use pandas.concat instead.\n",
      "  finally_data=finally_data.append(new_data_c)\n"
     ]
    },
    {
     "name": "stdout",
     "output_type": "stream",
     "text": [
      "1728 1723 0\n",
      "1747 0 0\n",
      "1959 1956 0\n",
      "1961 1959 1969\n"
     ]
    },
    {
     "name": "stderr",
     "output_type": "stream",
     "text": [
      "/var/folders/d2/f3vm2qjs02ldnf3s8_w_jjd00000gn/T/ipykernel_2150/1625190689.py:44: FutureWarning: The frame.append method is deprecated and will be removed from pandas in a future version. Use pandas.concat instead.\n",
      "  finally_data=finally_data.append(new_data_c)\n",
      "/var/folders/d2/f3vm2qjs02ldnf3s8_w_jjd00000gn/T/ipykernel_2150/1625190689.py:44: FutureWarning: The frame.append method is deprecated and will be removed from pandas in a future version. Use pandas.concat instead.\n",
      "  finally_data=finally_data.append(new_data_c)\n",
      "/var/folders/d2/f3vm2qjs02ldnf3s8_w_jjd00000gn/T/ipykernel_2150/1625190689.py:44: FutureWarning: The frame.append method is deprecated and will be removed from pandas in a future version. Use pandas.concat instead.\n",
      "  finally_data=finally_data.append(new_data_c)\n",
      "/var/folders/d2/f3vm2qjs02ldnf3s8_w_jjd00000gn/T/ipykernel_2150/1625190689.py:44: FutureWarning: The frame.append method is deprecated and will be removed from pandas in a future version. Use pandas.concat instead.\n",
      "  finally_data=finally_data.append(new_data_c)\n"
     ]
    },
    {
     "name": "stdout",
     "output_type": "stream",
     "text": [
      "        frame    id       x      y  width  height  xVelocity  yVelocity  \\\n",
      "59531    2187   198  143.25  33.46   4.55    2.02      24.96      -0.89   \n",
      "283650   9967   866  126.10  29.62   4.95    1.92      32.25      -1.21   \n",
      "308347  10743   938  116.75  29.37   6.37    2.32      37.90       0.71   \n",
      "326233  11285   992   64.81  29.51   5.36    2.12      33.24      -1.07   \n",
      "419502  14046  1259   32.22  33.56   4.24    1.82      30.41      -0.87   \n",
      "455144  15454  1367   21.45  29.60   4.95    1.92      35.33      -1.30   \n",
      "572003  19936  1728   53.97  29.56   5.05    2.02      33.07      -0.88   \n",
      "578374  20161  1747   93.97  29.60   4.65    1.92      35.43       0.94   \n",
      "649846  22981  1959  312.20  15.30   5.05    2.12     -33.50       0.89   \n",
      "650654  23073  1961  213.84  15.41   4.14    1.92     -34.50       0.71   \n",
      "\n",
      "        xAcceleration  yAcceleration  ...  followingId  leftPrecedingId  \\\n",
      "59531            0.74           0.11  ...          203              201   \n",
      "283650           1.03           0.09  ...            0              867   \n",
      "308347           0.49          -0.03  ...          942                0   \n",
      "326233           0.52          -0.06  ...            0              985   \n",
      "419502           0.46           0.04  ...            0             1254   \n",
      "455144           0.44           0.15  ...            0             1349   \n",
      "572003           1.17           0.02  ...            0             1723   \n",
      "578374          -0.22          -0.10  ...         1752                0   \n",
      "649846           0.04           0.08  ...         1961             1956   \n",
      "650654           0.27           0.01  ...         1962             1959   \n",
      "\n",
      "        leftAlongsideId  leftFollowingId  rightPrecedingId  rightAlongsideId  \\\n",
      "59531                 0              204                 0                 0   \n",
      "283650                0                0               862                 0   \n",
      "308347                0                0               932                 0   \n",
      "326233                0                0               988                 0   \n",
      "419502                0                0                 0                 0   \n",
      "455144                0                0              1361                 0   \n",
      "572003                0                0              1719                 0   \n",
      "578374                0                0              1745                 0   \n",
      "649846                0                0              1955                 0   \n",
      "650654                0             1969              1955                 0   \n",
      "\n",
      "        rightFollowingId  laneId  O_P_Distance  O_F_Distance  \n",
      "59531                  0       8         21.25         46.46  \n",
      "283650               869       7          19.4             #  \n",
      "308347               940       6             #             #  \n",
      "326233               997       7         98.64             #  \n",
      "419502                 0       8          34.1             #  \n",
      "455144                 0       7        341.61             #  \n",
      "572003                 0       7         37.29             #  \n",
      "578374              1750       6             #             #  \n",
      "649846              1960       3         47.71             #  \n",
      "650654              1960       3         24.15        144.07  \n",
      "\n",
      "[10 rows x 27 columns]\n",
      "41已处理完毕！\n",
      "661 0 0\n",
      "744 747 751\n"
     ]
    },
    {
     "name": "stderr",
     "output_type": "stream",
     "text": [
      "/var/folders/d2/f3vm2qjs02ldnf3s8_w_jjd00000gn/T/ipykernel_2150/1625190689.py:44: FutureWarning: The frame.append method is deprecated and will be removed from pandas in a future version. Use pandas.concat instead.\n",
      "  finally_data=finally_data.append(new_data_c)\n",
      "/var/folders/d2/f3vm2qjs02ldnf3s8_w_jjd00000gn/T/ipykernel_2150/1625190689.py:44: FutureWarning: The frame.append method is deprecated and will be removed from pandas in a future version. Use pandas.concat instead.\n",
      "  finally_data=finally_data.append(new_data_c)\n"
     ]
    },
    {
     "name": "stdout",
     "output_type": "stream",
     "text": [
      "1113 0 0\n"
     ]
    },
    {
     "name": "stderr",
     "output_type": "stream",
     "text": [
      "/var/folders/d2/f3vm2qjs02ldnf3s8_w_jjd00000gn/T/ipykernel_2150/1625190689.py:44: FutureWarning: The frame.append method is deprecated and will be removed from pandas in a future version. Use pandas.concat instead.\n",
      "  finally_data=finally_data.append(new_data_c)\n"
     ]
    },
    {
     "name": "stdout",
     "output_type": "stream",
     "text": [
      "1922 0 0\n"
     ]
    },
    {
     "name": "stderr",
     "output_type": "stream",
     "text": [
      "/var/folders/d2/f3vm2qjs02ldnf3s8_w_jjd00000gn/T/ipykernel_2150/1625190689.py:44: FutureWarning: The frame.append method is deprecated and will be removed from pandas in a future version. Use pandas.concat instead.\n",
      "  finally_data=finally_data.append(new_data_c)\n"
     ]
    },
    {
     "name": "stdout",
     "output_type": "stream",
     "text": [
      "2319 2316 0\n",
      "        frame    id       x      y  width  height  xVelocity  yVelocity  \\\n",
      "226398   6783   661  252.38  20.31   4.65    1.82     -37.92      -0.54   \n",
      "254818   7795   744  190.15  20.20   5.15    2.02     -27.50       1.08   \n",
      "380363  11928  1113   83.18  34.31   3.94    1.72      34.16      -0.78   \n",
      "650137  21367  1922   88.13  20.25   4.55    1.92     -32.25      -0.48   \n",
      "785494  25578  2319  401.99  20.17   4.95    2.02     -36.63       1.06   \n",
      "\n",
      "        xAcceleration  yAcceleration  ...  followingId  leftPrecedingId  \\\n",
      "226398           0.95           0.06  ...          664                0   \n",
      "254818          -0.33           0.04  ...          750              747   \n",
      "380363           0.44          -0.12  ...         1120                0   \n",
      "650137           0.65           0.14  ...         1941                0   \n",
      "785494           0.01          -0.05  ...            0             2316   \n",
      "\n",
      "        leftAlongsideId  leftFollowingId  rightPrecedingId  rightAlongsideId  \\\n",
      "226398                0                0               648                 0   \n",
      "254818                0              751               737                 0   \n",
      "380363                0                0              1100                 0   \n",
      "650137                0                0                 0                 0   \n",
      "785494                0                0              2310                 0   \n",
      "\n",
      "        rightFollowingId  laneId  O_P_Distance  O_F_Distance  \n",
      "226398               663       4             #             #  \n",
      "254818               749       3         11.06         23.76  \n",
      "380363              1118       7             #             #  \n",
      "650137              1925       4             #             #  \n",
      "785494                 0       3         74.54             #  \n",
      "\n",
      "[5 rows x 27 columns]\n",
      "42已处理完毕！\n"
     ]
    },
    {
     "name": "stderr",
     "output_type": "stream",
     "text": [
      "/var/folders/d2/f3vm2qjs02ldnf3s8_w_jjd00000gn/T/ipykernel_2150/1625190689.py:44: FutureWarning: The frame.append method is deprecated and will be removed from pandas in a future version. Use pandas.concat instead.\n",
      "  finally_data=finally_data.append(new_data_c)\n"
     ]
    },
    {
     "name": "stdout",
     "output_type": "stream",
     "text": [
      "101 99 107\n"
     ]
    },
    {
     "name": "stderr",
     "output_type": "stream",
     "text": [
      "/var/folders/d2/f3vm2qjs02ldnf3s8_w_jjd00000gn/T/ipykernel_2150/1625190689.py:44: FutureWarning: The frame.append method is deprecated and will be removed from pandas in a future version. Use pandas.concat instead.\n",
      "  finally_data=finally_data.append(new_data_c)\n"
     ]
    },
    {
     "name": "stdout",
     "output_type": "stream",
     "text": [
      "519 0 0\n"
     ]
    },
    {
     "name": "stderr",
     "output_type": "stream",
     "text": [
      "/var/folders/d2/f3vm2qjs02ldnf3s8_w_jjd00000gn/T/ipykernel_2150/1625190689.py:44: FutureWarning: The frame.append method is deprecated and will be removed from pandas in a future version. Use pandas.concat instead.\n",
      "  finally_data=finally_data.append(new_data_c)\n"
     ]
    },
    {
     "name": "stdout",
     "output_type": "stream",
     "text": [
      "1965 0 0\n",
      "2063 0 0\n"
     ]
    },
    {
     "name": "stderr",
     "output_type": "stream",
     "text": [
      "/var/folders/d2/f3vm2qjs02ldnf3s8_w_jjd00000gn/T/ipykernel_2150/1625190689.py:44: FutureWarning: The frame.append method is deprecated and will be removed from pandas in a future version. Use pandas.concat instead.\n",
      "  finally_data=finally_data.append(new_data_c)\n",
      "/var/folders/d2/f3vm2qjs02ldnf3s8_w_jjd00000gn/T/ipykernel_2150/1625190689.py:44: FutureWarning: The frame.append method is deprecated and will be removed from pandas in a future version. Use pandas.concat instead.\n",
      "  finally_data=finally_data.append(new_data_c)\n"
     ]
    },
    {
     "name": "stdout",
     "output_type": "stream",
     "text": [
      "        frame    id       x      y  width  height  xVelocity  yVelocity  \\\n",
      "30410    1087   101  210.29  20.46   4.65    1.92     -34.46       0.88   \n",
      "167156   6094   519   94.34  34.08   7.07    2.22      37.75       0.91   \n",
      "654150  22217  1965  360.96  20.35   5.26    2.22     -36.89      -0.74   \n",
      "686081  23284  2063  323.71  20.50   4.55    1.92     -37.68      -0.93   \n",
      "\n",
      "        xAcceleration  yAcceleration  ...  followingId  leftPrecedingId  \\\n",
      "30410            0.51          -0.12  ...          109               99   \n",
      "167156           0.56          -0.06  ...          523                0   \n",
      "654150           1.07           0.06  ...            0                0   \n",
      "686081           0.47          -0.08  ...         2066                0   \n",
      "\n",
      "        leftAlongsideId  leftFollowingId  rightPrecedingId  rightAlongsideId  \\\n",
      "30410                 0              107                91                 0   \n",
      "167156                0                0               514                 0   \n",
      "654150                0                0              1962                 0   \n",
      "686081                0                0              2059                 0   \n",
      "\n",
      "        rightFollowingId  laneId  O_P_Distance  O_F_Distance  \n",
      "30410                104       3         44.18         66.93  \n",
      "167156               527       6             #             #  \n",
      "654150                 0       4             #             #  \n",
      "686081              2065       4             #             #  \n",
      "\n",
      "[4 rows x 27 columns]\n",
      "43已处理完毕！\n",
      "597 595 0\n",
      "882 0 0\n"
     ]
    },
    {
     "name": "stderr",
     "output_type": "stream",
     "text": [
      "/var/folders/d2/f3vm2qjs02ldnf3s8_w_jjd00000gn/T/ipykernel_2150/1625190689.py:44: FutureWarning: The frame.append method is deprecated and will be removed from pandas in a future version. Use pandas.concat instead.\n",
      "  finally_data=finally_data.append(new_data_c)\n",
      "/var/folders/d2/f3vm2qjs02ldnf3s8_w_jjd00000gn/T/ipykernel_2150/1625190689.py:44: FutureWarning: The frame.append method is deprecated and will be removed from pandas in a future version. Use pandas.concat instead.\n",
      "  finally_data=finally_data.append(new_data_c)\n"
     ]
    },
    {
     "name": "stdout",
     "output_type": "stream",
     "text": [
      "1504 1500 0\n",
      "1720 1719 0\n"
     ]
    },
    {
     "name": "stderr",
     "output_type": "stream",
     "text": [
      "/var/folders/d2/f3vm2qjs02ldnf3s8_w_jjd00000gn/T/ipykernel_2150/1625190689.py:44: FutureWarning: The frame.append method is deprecated and will be removed from pandas in a future version. Use pandas.concat instead.\n",
      "  finally_data=finally_data.append(new_data_c)\n",
      "/var/folders/d2/f3vm2qjs02ldnf3s8_w_jjd00000gn/T/ipykernel_2150/1625190689.py:44: FutureWarning: The frame.append method is deprecated and will be removed from pandas in a future version. Use pandas.concat instead.\n",
      "  finally_data=finally_data.append(new_data_c)\n"
     ]
    },
    {
     "name": "stdout",
     "output_type": "stream",
     "text": [
      "1842 1843 1846\n",
      "1889 0 0\n"
     ]
    },
    {
     "name": "stderr",
     "output_type": "stream",
     "text": [
      "/var/folders/d2/f3vm2qjs02ldnf3s8_w_jjd00000gn/T/ipykernel_2150/1625190689.py:44: FutureWarning: The frame.append method is deprecated and will be removed from pandas in a future version. Use pandas.concat instead.\n",
      "  finally_data=finally_data.append(new_data_c)\n",
      "/var/folders/d2/f3vm2qjs02ldnf3s8_w_jjd00000gn/T/ipykernel_2150/1625190689.py:44: FutureWarning: The frame.append method is deprecated and will be removed from pandas in a future version. Use pandas.concat instead.\n",
      "  finally_data=finally_data.append(new_data_c)\n"
     ]
    },
    {
     "name": "stdout",
     "output_type": "stream",
     "text": [
      "        frame    id       x      y  width  height  xVelocity  yVelocity  \\\n",
      "195428   6487   597   31.34  34.39   4.65    1.92      28.94      -1.13   \n",
      "289507   9984   882   65.50  34.45   4.24    1.72      31.69       0.95   \n",
      "500207  17401  1504  357.17  16.52   5.36    2.12     -35.05      -0.77   \n",
      "571948  19919  1720  101.27  34.35   4.65    2.02      33.13      -1.25   \n",
      "611281  21598  1842   84.77  34.45   4.24    1.82      29.81      -1.47   \n",
      "627291  22075  1889   67.03  34.34   4.65    1.92      32.56       0.95   \n",
      "\n",
      "        xAcceleration  yAcceleration  ...  followingId  leftPrecedingId  \\\n",
      "195428           0.76           0.06  ...            0              595   \n",
      "289507           0.26          -0.12  ...          883                0   \n",
      "500207           0.28           0.02  ...            0             1500   \n",
      "571948           1.20           0.17  ...         1724             1719   \n",
      "611281           0.81          -0.16  ...            0             1843   \n",
      "627291          -1.02           0.01  ...         1896                0   \n",
      "\n",
      "        leftAlongsideId  leftFollowingId  rightPrecedingId  rightAlongsideId  \\\n",
      "195428                0                0               591                 0   \n",
      "289507                0                0               879                 0   \n",
      "500207                0                0              1490                 0   \n",
      "571948                0                0              1698                 0   \n",
      "611281                0             1846              1837                 0   \n",
      "627291                0                0              1881                 0   \n",
      "\n",
      "        rightFollowingId  laneId  O_P_Distance  O_F_Distance  \n",
      "195428                 0       7         13.07             #  \n",
      "289507               885       6             #             #  \n",
      "500207              1505       3         70.02             #  \n",
      "571948              1723       7         25.39             #  \n",
      "611281              1845       7         12.34         38.82  \n",
      "627291              1890       6             #             #  \n",
      "\n",
      "[6 rows x 27 columns]\n",
      "44已处理完毕！\n",
      "437 432 0\n",
      "712 711 718\n"
     ]
    },
    {
     "name": "stderr",
     "output_type": "stream",
     "text": [
      "/var/folders/d2/f3vm2qjs02ldnf3s8_w_jjd00000gn/T/ipykernel_2150/1625190689.py:44: FutureWarning: The frame.append method is deprecated and will be removed from pandas in a future version. Use pandas.concat instead.\n",
      "  finally_data=finally_data.append(new_data_c)\n",
      "/var/folders/d2/f3vm2qjs02ldnf3s8_w_jjd00000gn/T/ipykernel_2150/1625190689.py:44: FutureWarning: The frame.append method is deprecated and will be removed from pandas in a future version. Use pandas.concat instead.\n",
      "  finally_data=finally_data.append(new_data_c)\n"
     ]
    },
    {
     "name": "stdout",
     "output_type": "stream",
     "text": [
      "740 736 0\n"
     ]
    },
    {
     "name": "stderr",
     "output_type": "stream",
     "text": [
      "/var/folders/d2/f3vm2qjs02ldnf3s8_w_jjd00000gn/T/ipykernel_2150/1625190689.py:44: FutureWarning: The frame.append method is deprecated and will be removed from pandas in a future version. Use pandas.concat instead.\n",
      "  finally_data=finally_data.append(new_data_c)\n"
     ]
    },
    {
     "name": "stdout",
     "output_type": "stream",
     "text": [
      "1365 1363 0\n",
      "1385 0 0\n"
     ]
    },
    {
     "name": "stderr",
     "output_type": "stream",
     "text": [
      "/var/folders/d2/f3vm2qjs02ldnf3s8_w_jjd00000gn/T/ipykernel_2150/1625190689.py:44: FutureWarning: The frame.append method is deprecated and will be removed from pandas in a future version. Use pandas.concat instead.\n",
      "  finally_data=finally_data.append(new_data_c)\n",
      "/var/folders/d2/f3vm2qjs02ldnf3s8_w_jjd00000gn/T/ipykernel_2150/1625190689.py:44: FutureWarning: The frame.append method is deprecated and will be removed from pandas in a future version. Use pandas.concat instead.\n",
      "  finally_data=finally_data.append(new_data_c)\n"
     ]
    },
    {
     "name": "stdout",
     "output_type": "stream",
     "text": [
      "1833 1829 1834\n"
     ]
    },
    {
     "name": "stderr",
     "output_type": "stream",
     "text": [
      "/var/folders/d2/f3vm2qjs02ldnf3s8_w_jjd00000gn/T/ipykernel_2150/1625190689.py:44: FutureWarning: The frame.append method is deprecated and will be removed from pandas in a future version. Use pandas.concat instead.\n",
      "  finally_data=finally_data.append(new_data_c)\n"
     ]
    },
    {
     "name": "stdout",
     "output_type": "stream",
     "text": [
      "2362 2360 0\n",
      "2393 2392 2395\n",
      "        frame    id       x      y  width  height  xVelocity  yVelocity  \\\n",
      "142584   4729   437  393.72  20.30   4.24    1.82     -35.87       0.98   \n",
      "235488   8109   712  211.94  34.27   4.85    1.82      32.27      -0.68   \n",
      "244357   8523   740   49.32  34.21   4.75    1.92      31.01      -1.14   \n",
      "454454  15597  1365  398.46  20.32   4.14    1.82     -35.99       0.83   \n",
      "460876  15911  1385  343.43  20.29   4.45    1.92     -39.22      -0.72   \n",
      "612600  21412  1833   39.94  34.06   6.47    2.22      30.89      -0.97   \n",
      "790867  27036  2362  303.24  20.33   4.14    1.82     -35.16       1.15   \n",
      "801161  27365  2393  291.13  16.52   4.45    1.92     -31.10      -0.82   \n",
      "\n",
      "        xAcceleration  yAcceleration  ...  followingId  leftPrecedingId  \\\n",
      "142584          -0.02          -0.17  ...            0              432   \n",
      "235488           0.39          -0.03  ...          717              711   \n",
      "244357           0.88           0.05  ...            0              736   \n",
      "454454           0.28          -0.03  ...            0             1363   \n",
      "460876           0.60          -0.06  ...            0                0   \n",
      "612600           0.69           0.09  ...            0             1829   \n",
      "790867           0.07           0.06  ...         2367             2360   \n",
      "801161           0.68           0.04  ...            0             2392   \n",
      "\n",
      "        leftAlongsideId  leftFollowingId  rightPrecedingId  rightAlongsideId  \\\n",
      "142584                0                0               434                 0   \n",
      "235488                0              718               704                 0   \n",
      "244357                0                0               739                 0   \n",
      "454454                0                0              1357              1364   \n",
      "460876                0                0              1378                 0   \n",
      "612600                0             1834              1825                 0   \n",
      "790867                0                0                 0              2358   \n",
      "801161                0             2395              2387                 0   \n",
      "\n",
      "        rightFollowingId  laneId  O_P_Distance  O_F_Distance  \n",
      "142584                 0       3         36.43             #  \n",
      "235488               709       7         27.36        149.65  \n",
      "244357               743       7         54.11             #  \n",
      "454454                 0       3         19.13             #  \n",
      "460876                 0       4             #             #  \n",
      "612600                 0       7         42.28         31.35  \n",
      "790867                 0       3         26.57             #  \n",
      "801161              2396       3         57.04         13.48  \n",
      "\n",
      "[8 rows x 27 columns]\n",
      "45已处理完毕！\n"
     ]
    },
    {
     "name": "stderr",
     "output_type": "stream",
     "text": [
      "/var/folders/d2/f3vm2qjs02ldnf3s8_w_jjd00000gn/T/ipykernel_2150/1625190689.py:44: FutureWarning: The frame.append method is deprecated and will be removed from pandas in a future version. Use pandas.concat instead.\n",
      "  finally_data=finally_data.append(new_data_c)\n",
      "/var/folders/d2/f3vm2qjs02ldnf3s8_w_jjd00000gn/T/ipykernel_2150/1625190689.py:44: FutureWarning: The frame.append method is deprecated and will be removed from pandas in a future version. Use pandas.concat instead.\n",
      "  finally_data=finally_data.append(new_data_c)\n"
     ]
    },
    {
     "name": "stdout",
     "output_type": "stream",
     "text": [
      "463 462 0\n"
     ]
    },
    {
     "name": "stderr",
     "output_type": "stream",
     "text": [
      "/var/folders/d2/f3vm2qjs02ldnf3s8_w_jjd00000gn/T/ipykernel_2150/1625190689.py:44: FutureWarning: The frame.append method is deprecated and will be removed from pandas in a future version. Use pandas.concat instead.\n",
      "  finally_data=finally_data.append(new_data_c)\n"
     ]
    },
    {
     "name": "stdout",
     "output_type": "stream",
     "text": [
      "1352 1350 0\n"
     ]
    },
    {
     "name": "stderr",
     "output_type": "stream",
     "text": [
      "/var/folders/d2/f3vm2qjs02ldnf3s8_w_jjd00000gn/T/ipykernel_2150/1625190689.py:44: FutureWarning: The frame.append method is deprecated and will be removed from pandas in a future version. Use pandas.concat instead.\n",
      "  finally_data=finally_data.append(new_data_c)\n"
     ]
    },
    {
     "name": "stdout",
     "output_type": "stream",
     "text": [
      "        frame    id       x      y  width  height  xVelocity  yVelocity  \\\n",
      "232372   4952   463   47.42  28.99   4.95    1.82      20.43      -0.83   \n",
      "575701  14458  1352  398.77  10.72   5.66    2.02     -37.82       1.70   \n",
      "\n",
      "        xAcceleration  yAcceleration  ...  followingId  leftPrecedingId  \\\n",
      "232372           0.81          -0.04  ...            0              462   \n",
      "575701          -0.20          -0.08  ...            0             1350   \n",
      "\n",
      "        leftAlongsideId  leftFollowingId  rightPrecedingId  rightAlongsideId  \\\n",
      "232372                0                0                 0                 0   \n",
      "575701                0                0              1344                 0   \n",
      "\n",
      "        rightFollowingId  laneId  O_P_Distance  O_F_Distance  \n",
      "232372                 0       8         13.45             #  \n",
      "575701                 0       3          7.82             #  \n",
      "\n",
      "[2 rows x 27 columns]\n",
      "46已处理完毕！\n",
      "1517 1515 0\n"
     ]
    },
    {
     "name": "stderr",
     "output_type": "stream",
     "text": [
      "/var/folders/d2/f3vm2qjs02ldnf3s8_w_jjd00000gn/T/ipykernel_2150/1625190689.py:44: FutureWarning: The frame.append method is deprecated and will be removed from pandas in a future version. Use pandas.concat instead.\n",
      "  finally_data=finally_data.append(new_data_c)\n"
     ]
    },
    {
     "name": "stdout",
     "output_type": "stream",
     "text": [
      "2393 2387 0\n",
      "        frame    id       x      y  width  height  xVelocity  yVelocity  \\\n",
      "528510  15504  1517  341.34  10.38   4.35    1.82     -29.81       1.22   \n",
      "836179  24579  2393  386.52  10.38   4.45    1.82     -31.93       0.52   \n",
      "\n",
      "        xAcceleration  yAcceleration  ...  followingId  leftPrecedingId  \\\n",
      "528510          -0.60          -0.10  ...            0             1515   \n",
      "836179           0.33          -0.08  ...            0             2387   \n",
      "\n",
      "        leftAlongsideId  leftFollowingId  rightPrecedingId  rightAlongsideId  \\\n",
      "528510                0                0              1511                 0   \n",
      "836179                0                0              2368                 0   \n",
      "\n",
      "        rightFollowingId  laneId  O_P_Distance  O_F_Distance  \n",
      "528510                 0       3         22.60             #  \n",
      "836179                 0       3         79.54             #  \n",
      "\n",
      "[2 rows x 27 columns]\n",
      "47已处理完毕！\n"
     ]
    },
    {
     "name": "stderr",
     "output_type": "stream",
     "text": [
      "/var/folders/d2/f3vm2qjs02ldnf3s8_w_jjd00000gn/T/ipykernel_2150/1625190689.py:44: FutureWarning: The frame.append method is deprecated and will be removed from pandas in a future version. Use pandas.concat instead.\n",
      "  finally_data=finally_data.append(new_data_c)\n"
     ]
    },
    {
     "name": "stdout",
     "output_type": "stream",
     "text": [
      "162 0 0\n"
     ]
    },
    {
     "name": "stderr",
     "output_type": "stream",
     "text": [
      "/var/folders/d2/f3vm2qjs02ldnf3s8_w_jjd00000gn/T/ipykernel_2150/1625190689.py:44: FutureWarning: The frame.append method is deprecated and will be removed from pandas in a future version. Use pandas.concat instead.\n",
      "  finally_data=finally_data.append(new_data_c)\n"
     ]
    },
    {
     "name": "stdout",
     "output_type": "stream",
     "text": [
      "1724 1720 0\n",
      "1896 1893 1899\n"
     ]
    },
    {
     "name": "stderr",
     "output_type": "stream",
     "text": [
      "/var/folders/d2/f3vm2qjs02ldnf3s8_w_jjd00000gn/T/ipykernel_2150/1625190689.py:44: FutureWarning: The frame.append method is deprecated and will be removed from pandas in a future version. Use pandas.concat instead.\n",
      "  finally_data=finally_data.append(new_data_c)\n",
      "/var/folders/d2/f3vm2qjs02ldnf3s8_w_jjd00000gn/T/ipykernel_2150/1625190689.py:44: FutureWarning: The frame.append method is deprecated and will be removed from pandas in a future version. Use pandas.concat instead.\n",
      "  finally_data=finally_data.append(new_data_c)\n"
     ]
    },
    {
     "name": "stdout",
     "output_type": "stream",
     "text": [
      "        frame    id       x      y  width  height  xVelocity  yVelocity  \\\n",
      "50483    1638   162   85.77  24.95   4.85    1.82      33.35       0.95   \n",
      "592890  18546  1724  349.64  10.81   5.05    1.92     -35.40       1.01   \n",
      "652394  20298  1896  243.01   6.82   5.00    2.02     -29.69      -0.93   \n",
      "\n",
      "        xAcceleration  yAcceleration  ...  followingId  leftPrecedingId  \\\n",
      "50483            0.14          -0.20  ...          165                0   \n",
      "592890           0.01          -0.07  ...            0             1720   \n",
      "652394           0.20           0.12  ...         1903             1893   \n",
      "\n",
      "        leftAlongsideId  leftFollowingId  rightPrecedingId  rightAlongsideId  \\\n",
      "50483                 0                0               153                 0   \n",
      "592890                0                0              1721                 0   \n",
      "652394                0             1899              1888                 0   \n",
      "\n",
      "        rightFollowingId  laneId  O_P_Distance  O_F_Distance  \n",
      "50483                164       6             #             #  \n",
      "592890                 0       3          70.8             #  \n",
      "652394              1897       3         89.26         27.19  \n",
      "\n",
      "[3 rows x 27 columns]\n",
      "48已处理完毕！\n",
      "888 886 0\n"
     ]
    },
    {
     "name": "stderr",
     "output_type": "stream",
     "text": [
      "/var/folders/d2/f3vm2qjs02ldnf3s8_w_jjd00000gn/T/ipykernel_2150/1625190689.py:44: FutureWarning: The frame.append method is deprecated and will be removed from pandas in a future version. Use pandas.concat instead.\n",
      "  finally_data=finally_data.append(new_data_c)\n"
     ]
    },
    {
     "name": "stdout",
     "output_type": "stream",
     "text": [
      "1218 1217 0\n"
     ]
    },
    {
     "name": "stderr",
     "output_type": "stream",
     "text": [
      "/var/folders/d2/f3vm2qjs02ldnf3s8_w_jjd00000gn/T/ipykernel_2150/1625190689.py:44: FutureWarning: The frame.append method is deprecated and will be removed from pandas in a future version. Use pandas.concat instead.\n",
      "  finally_data=finally_data.append(new_data_c)\n"
     ]
    },
    {
     "name": "stdout",
     "output_type": "stream",
     "text": [
      "1582 1584 1587\n",
      "1840 1834 1843\n"
     ]
    },
    {
     "name": "stderr",
     "output_type": "stream",
     "text": [
      "/var/folders/d2/f3vm2qjs02ldnf3s8_w_jjd00000gn/T/ipykernel_2150/1625190689.py:44: FutureWarning: The frame.append method is deprecated and will be removed from pandas in a future version. Use pandas.concat instead.\n",
      "  finally_data=finally_data.append(new_data_c)\n",
      "/var/folders/d2/f3vm2qjs02ldnf3s8_w_jjd00000gn/T/ipykernel_2150/1625190689.py:44: FutureWarning: The frame.append method is deprecated and will be removed from pandas in a future version. Use pandas.concat instead.\n",
      "  finally_data=finally_data.append(new_data_c)\n"
     ]
    },
    {
     "name": "stdout",
     "output_type": "stream",
     "text": [
      "        frame    id       x      y  width  height  xVelocity  yVelocity  \\\n",
      "300033  10611   888  330.49  10.33   7.58    2.32     -32.71       1.01   \n",
      "408949  15171  1218   89.61  24.72   4.75    1.92      30.60      -0.62   \n",
      "534511  19524  1582  130.21  24.70   5.05    1.92      28.96      -1.15   \n",
      "624388  22982  1840  117.52  24.58   7.48    2.22      34.23      -0.94   \n",
      "\n",
      "        xAcceleration  yAcceleration  ...  followingId  leftPrecedingId  \\\n",
      "300033          -0.39          -0.07  ...          890              886   \n",
      "408949           0.68           0.16  ...            0             1217   \n",
      "534511           1.22          -0.08  ...         1592             1584   \n",
      "624388           0.14           0.06  ...            0             1834   \n",
      "\n",
      "        leftAlongsideId  leftFollowingId  rightPrecedingId  rightAlongsideId  \\\n",
      "300033                0                0               881                 0   \n",
      "408949                0                0              1214                 0   \n",
      "534511                0             1587                 0              1583   \n",
      "624388                0             1843              1836                 0   \n",
      "\n",
      "        rightFollowingId  laneId  O_P_Distance  O_F_Distance  \n",
      "300033               891       3         24.74             #  \n",
      "408949                 0       7         22.11             #  \n",
      "534511              1589       7         14.47         26.91  \n",
      "624388              1839       7        116.04         36.96  \n",
      "\n",
      "[4 rows x 27 columns]\n",
      "49已处理完毕！\n",
      "57 0 0\n",
      "124 123 0\n"
     ]
    },
    {
     "name": "stderr",
     "output_type": "stream",
     "text": [
      "/var/folders/d2/f3vm2qjs02ldnf3s8_w_jjd00000gn/T/ipykernel_2150/1625190689.py:44: FutureWarning: The frame.append method is deprecated and will be removed from pandas in a future version. Use pandas.concat instead.\n",
      "  finally_data=finally_data.append(new_data_c)\n",
      "/var/folders/d2/f3vm2qjs02ldnf3s8_w_jjd00000gn/T/ipykernel_2150/1625190689.py:44: FutureWarning: The frame.append method is deprecated and will be removed from pandas in a future version. Use pandas.concat instead.\n",
      "  finally_data=finally_data.append(new_data_c)\n"
     ]
    },
    {
     "name": "stdout",
     "output_type": "stream",
     "text": [
      "511 0 0\n",
      "819 818 821\n"
     ]
    },
    {
     "name": "stderr",
     "output_type": "stream",
     "text": [
      "/var/folders/d2/f3vm2qjs02ldnf3s8_w_jjd00000gn/T/ipykernel_2150/1625190689.py:44: FutureWarning: The frame.append method is deprecated and will be removed from pandas in a future version. Use pandas.concat instead.\n",
      "  finally_data=finally_data.append(new_data_c)\n",
      "/var/folders/d2/f3vm2qjs02ldnf3s8_w_jjd00000gn/T/ipykernel_2150/1625190689.py:44: FutureWarning: The frame.append method is deprecated and will be removed from pandas in a future version. Use pandas.concat instead.\n",
      "  finally_data=finally_data.append(new_data_c)\n"
     ]
    },
    {
     "name": "stdout",
     "output_type": "stream",
     "text": [
      "1278 1275 1288\n",
      "1297 0 0\n",
      "1425 1424 0\n",
      "1570 1569 0\n"
     ]
    },
    {
     "name": "stderr",
     "output_type": "stream",
     "text": [
      "/var/folders/d2/f3vm2qjs02ldnf3s8_w_jjd00000gn/T/ipykernel_2150/1625190689.py:44: FutureWarning: The frame.append method is deprecated and will be removed from pandas in a future version. Use pandas.concat instead.\n",
      "  finally_data=finally_data.append(new_data_c)\n",
      "/var/folders/d2/f3vm2qjs02ldnf3s8_w_jjd00000gn/T/ipykernel_2150/1625190689.py:44: FutureWarning: The frame.append method is deprecated and will be removed from pandas in a future version. Use pandas.concat instead.\n",
      "  finally_data=finally_data.append(new_data_c)\n",
      "/var/folders/d2/f3vm2qjs02ldnf3s8_w_jjd00000gn/T/ipykernel_2150/1625190689.py:44: FutureWarning: The frame.append method is deprecated and will be removed from pandas in a future version. Use pandas.concat instead.\n",
      "  finally_data=finally_data.append(new_data_c)\n",
      "/var/folders/d2/f3vm2qjs02ldnf3s8_w_jjd00000gn/T/ipykernel_2150/1625190689.py:44: FutureWarning: The frame.append method is deprecated and will be removed from pandas in a future version. Use pandas.concat instead.\n",
      "  finally_data=finally_data.append(new_data_c)\n",
      "/var/folders/d2/f3vm2qjs02ldnf3s8_w_jjd00000gn/T/ipykernel_2150/1625190689.py:44: FutureWarning: The frame.append method is deprecated and will be removed from pandas in a future version. Use pandas.concat instead.\n",
      "  finally_data=finally_data.append(new_data_c)\n",
      "/var/folders/d2/f3vm2qjs02ldnf3s8_w_jjd00000gn/T/ipykernel_2150/1625190689.py:44: FutureWarning: The frame.append method is deprecated and will be removed from pandas in a future version. Use pandas.concat instead.\n",
      "  finally_data=finally_data.append(new_data_c)\n"
     ]
    },
    {
     "name": "stdout",
     "output_type": "stream",
     "text": [
      "1660 1658 0\n",
      "1743 1738 1744\n",
      "1880 1879 1883\n"
     ]
    },
    {
     "name": "stderr",
     "output_type": "stream",
     "text": [
      "/var/folders/d2/f3vm2qjs02ldnf3s8_w_jjd00000gn/T/ipykernel_2150/1625190689.py:44: FutureWarning: The frame.append method is deprecated and will be removed from pandas in a future version. Use pandas.concat instead.\n",
      "  finally_data=finally_data.append(new_data_c)\n"
     ]
    },
    {
     "name": "stdout",
     "output_type": "stream",
     "text": [
      "        frame    id       x      y  width  height  xVelocity  yVelocity  \\\n",
      "14799     443    57    6.76  34.61   4.04    1.82      34.14       0.88   \n",
      "37857    1311   124   35.92  34.61   4.14    1.92      27.85      -1.25   \n",
      "171139   6869   511  244.87  20.42   5.15    2.02     -35.34      -0.70   \n",
      "277954  10691   819  311.24  20.36   4.85    2.02     -36.93       1.59   \n",
      "433414  16717  1278  227.06  34.64   4.85    1.82      34.00      -0.69   \n",
      "439750  16924  1297  254.33  20.41   5.05    2.02     -36.58      -0.82   \n",
      "483731  18266  1425  294.13  20.39   4.85    2.02     -35.75       1.33   \n",
      "532390  20139  1570  105.62  34.53   4.55    2.02      32.40      -1.00   \n",
      "563346  21227  1660  351.67  16.44   6.16    2.22     -29.61      -1.10   \n",
      "590287  22401  1743   78.39  34.61   5.05    1.92      35.31      -1.10   \n",
      "637201  24020  1880  318.89  20.45   5.15    1.92     -34.13       0.72   \n",
      "\n",
      "        xAcceleration  yAcceleration  ...  followingId  leftPrecedingId  \\\n",
      "14799           -0.31          -0.06  ...            0                0   \n",
      "37857            0.73           0.14  ...            0              123   \n",
      "171139           0.20           0.07  ...          515                0   \n",
      "277954           0.08           0.07  ...          823              818   \n",
      "433414           0.43           0.24  ...         1283             1275   \n",
      "439750           0.27           0.19  ...         1301                0   \n",
      "483731           0.56           0.02  ...            0             1424   \n",
      "532390           0.93           0.17  ...         1575             1569   \n",
      "563346           0.22          -0.02  ...         1661             1658   \n",
      "590287          -0.30          -0.03  ...         1748             1738   \n",
      "637201           0.34          -0.01  ...         1884             1879   \n",
      "\n",
      "        leftAlongsideId  leftFollowingId  rightPrecedingId  rightAlongsideId  \\\n",
      "14799                 0                0                50                 0   \n",
      "37857                 0                0               121                 0   \n",
      "171139                0                0               505                 0   \n",
      "277954                0              821               809                 0   \n",
      "433414                0             1288              1273                 0   \n",
      "439750                0                0              1294                 0   \n",
      "483731                0                0              1416                 0   \n",
      "532390                0                0              1554                 0   \n",
      "563346                0                0              1656                 0   \n",
      "590287                0             1744              1740                 0   \n",
      "637201                0             1883              1877                 0   \n",
      "\n",
      "        rightFollowingId  laneId  O_P_Distance  O_F_Distance  \n",
      "14799                  0       6             #             #  \n",
      "37857                  0       7         11.37             #  \n",
      "171139               513       4             #             #  \n",
      "277954                 0       3         39.75         28.36  \n",
      "433414              1282       7         84.25        223.81  \n",
      "439750              1303       4             #             #  \n",
      "483731              1423       3         12.01             #  \n",
      "532390              1573       7          16.0             #  \n",
      "563346              1662       3         94.39             #  \n",
      "590287                 0       7        213.98          25.6  \n",
      "637201              1882       3         28.96         53.57  \n",
      "\n",
      "[11 rows x 27 columns]\n",
      "50已处理完毕！\n",
      "35 0 0\n",
      "219 217 0\n"
     ]
    },
    {
     "name": "stderr",
     "output_type": "stream",
     "text": [
      "/var/folders/d2/f3vm2qjs02ldnf3s8_w_jjd00000gn/T/ipykernel_2150/1625190689.py:44: FutureWarning: The frame.append method is deprecated and will be removed from pandas in a future version. Use pandas.concat instead.\n",
      "  finally_data=finally_data.append(new_data_c)\n",
      "/var/folders/d2/f3vm2qjs02ldnf3s8_w_jjd00000gn/T/ipykernel_2150/1625190689.py:44: FutureWarning: The frame.append method is deprecated and will be removed from pandas in a future version. Use pandas.concat instead.\n",
      "  finally_data=finally_data.append(new_data_c)\n"
     ]
    },
    {
     "name": "stdout",
     "output_type": "stream",
     "text": [
      "845 844 0\n",
      "1057 1045 1060\n",
      "1124 0 0\n"
     ]
    },
    {
     "name": "stderr",
     "output_type": "stream",
     "text": [
      "/var/folders/d2/f3vm2qjs02ldnf3s8_w_jjd00000gn/T/ipykernel_2150/1625190689.py:44: FutureWarning: The frame.append method is deprecated and will be removed from pandas in a future version. Use pandas.concat instead.\n",
      "  finally_data=finally_data.append(new_data_c)\n",
      "/var/folders/d2/f3vm2qjs02ldnf3s8_w_jjd00000gn/T/ipykernel_2150/1625190689.py:44: FutureWarning: The frame.append method is deprecated and will be removed from pandas in a future version. Use pandas.concat instead.\n",
      "  finally_data=finally_data.append(new_data_c)\n",
      "/var/folders/d2/f3vm2qjs02ldnf3s8_w_jjd00000gn/T/ipykernel_2150/1625190689.py:44: FutureWarning: The frame.append method is deprecated and will be removed from pandas in a future version. Use pandas.concat instead.\n",
      "  finally_data=finally_data.append(new_data_c)\n"
     ]
    },
    {
     "name": "stdout",
     "output_type": "stream",
     "text": [
      "1147 0 0\n",
      "1215 0 0\n",
      "1221 0 0\n"
     ]
    },
    {
     "name": "stderr",
     "output_type": "stream",
     "text": [
      "/var/folders/d2/f3vm2qjs02ldnf3s8_w_jjd00000gn/T/ipykernel_2150/1625190689.py:44: FutureWarning: The frame.append method is deprecated and will be removed from pandas in a future version. Use pandas.concat instead.\n",
      "  finally_data=finally_data.append(new_data_c)\n",
      "/var/folders/d2/f3vm2qjs02ldnf3s8_w_jjd00000gn/T/ipykernel_2150/1625190689.py:44: FutureWarning: The frame.append method is deprecated and will be removed from pandas in a future version. Use pandas.concat instead.\n",
      "  finally_data=finally_data.append(new_data_c)\n",
      "/var/folders/d2/f3vm2qjs02ldnf3s8_w_jjd00000gn/T/ipykernel_2150/1625190689.py:44: FutureWarning: The frame.append method is deprecated and will be removed from pandas in a future version. Use pandas.concat instead.\n",
      "  finally_data=finally_data.append(new_data_c)\n"
     ]
    },
    {
     "name": "stdout",
     "output_type": "stream",
     "text": [
      "1590 0 0\n"
     ]
    },
    {
     "name": "stderr",
     "output_type": "stream",
     "text": [
      "/var/folders/d2/f3vm2qjs02ldnf3s8_w_jjd00000gn/T/ipykernel_2150/1625190689.py:44: FutureWarning: The frame.append method is deprecated and will be removed from pandas in a future version. Use pandas.concat instead.\n",
      "  finally_data=finally_data.append(new_data_c)\n"
     ]
    },
    {
     "name": "stdout",
     "output_type": "stream",
     "text": [
      "1935 1933 0\n"
     ]
    },
    {
     "name": "stderr",
     "output_type": "stream",
     "text": [
      "/var/folders/d2/f3vm2qjs02ldnf3s8_w_jjd00000gn/T/ipykernel_2150/1625190689.py:44: FutureWarning: The frame.append method is deprecated and will be removed from pandas in a future version. Use pandas.concat instead.\n",
      "  finally_data=finally_data.append(new_data_c)\n"
     ]
    },
    {
     "name": "stdout",
     "output_type": "stream",
     "text": [
      "        frame    id       x      y  width  height  xVelocity  yVelocity  \\\n",
      "6713       91    35  370.92  10.04   4.85    1.92     -35.81      -1.07   \n",
      "70765    2465   219  388.60   9.92   4.95    2.02     -32.87       1.53   \n",
      "283716  10148   845  330.59   9.94   5.15    2.02     -28.85       1.04   \n",
      "354671  12813  1057  109.17  24.15   4.95    1.92      35.02      -0.72   \n",
      "376651  13640  1124   26.96  24.13   5.26    1.92      34.13       0.59   \n",
      "384602  14040  1147  186.27  24.01   4.95    2.12      34.81       0.91   \n",
      "407170  14833  1215  173.81  24.05   5.05    2.02      33.74       0.99   \n",
      "409294  14877  1221  164.55  24.07   5.10    2.02      32.56       0.96   \n",
      "535606  19326  1590  149.79  24.17   4.55    1.82      36.00       0.78   \n",
      "654912  23195  1935   38.60  23.86   7.88    2.50      30.40      -0.65   \n",
      "\n",
      "        xAcceleration  yAcceleration  ...  followingId  leftPrecedingId  \\\n",
      "6713             0.42           0.27  ...            0                0   \n",
      "70765           -0.21          -0.18  ...            0              217   \n",
      "283716          -0.06           0.10  ...          848              844   \n",
      "354671           0.16          -0.01  ...            0             1045   \n",
      "376651          -0.04          -0.09  ...            0                0   \n",
      "384602           0.04          -0.08  ...         1150                0   \n",
      "407170          -0.20          -0.07  ...         1219                0   \n",
      "409294          -0.13          -0.13  ...         1223                0   \n",
      "535606          -0.35          -0.01  ...         1592                0   \n",
      "654912           0.16          -0.03  ...         1938             1933   \n",
      "\n",
      "        leftAlongsideId  leftFollowingId  rightPrecedingId  rightAlongsideId  \\\n",
      "6713                  0                0                30                 0   \n",
      "70765                 0                0               212               218   \n",
      "283716                0                0               843                 0   \n",
      "354671                0             1060              1047                 0   \n",
      "376651                0                0              1106                 0   \n",
      "384602                0                0              1141                 0   \n",
      "407170                0                0              1207                 0   \n",
      "409294                0                0              1216                 0   \n",
      "535606                0                0              1587                 0   \n",
      "654912                0                0              1925                 0   \n",
      "\n",
      "        rightFollowingId  laneId  O_P_Distance  O_F_Distance  \n",
      "6713                   0       4             #             #  \n",
      "70765                  0       3         20.46             #  \n",
      "283716               847       3         37.59             #  \n",
      "354671              1061       7        225.59         46.89  \n",
      "376651                 0       6             #             #  \n",
      "384602              1148       6             #             #  \n",
      "407170              1216       6             #             #  \n",
      "409294              1222       6             #             #  \n",
      "535606              1589       6             #             #  \n",
      "654912              1937       7         17.84             #  \n",
      "\n",
      "[10 rows x 27 columns]\n",
      "51已处理完毕！\n",
      "98 0 0\n",
      "200 193 0\n",
      "258 257 0\n"
     ]
    },
    {
     "name": "stderr",
     "output_type": "stream",
     "text": [
      "/var/folders/d2/f3vm2qjs02ldnf3s8_w_jjd00000gn/T/ipykernel_2150/1625190689.py:44: FutureWarning: The frame.append method is deprecated and will be removed from pandas in a future version. Use pandas.concat instead.\n",
      "  finally_data=finally_data.append(new_data_c)\n",
      "/var/folders/d2/f3vm2qjs02ldnf3s8_w_jjd00000gn/T/ipykernel_2150/1625190689.py:44: FutureWarning: The frame.append method is deprecated and will be removed from pandas in a future version. Use pandas.concat instead.\n",
      "  finally_data=finally_data.append(new_data_c)\n",
      "/var/folders/d2/f3vm2qjs02ldnf3s8_w_jjd00000gn/T/ipykernel_2150/1625190689.py:44: FutureWarning: The frame.append method is deprecated and will be removed from pandas in a future version. Use pandas.concat instead.\n",
      "  finally_data=finally_data.append(new_data_c)\n"
     ]
    },
    {
     "name": "stdout",
     "output_type": "stream",
     "text": [
      "530 529 0\n",
      "539 0 0\n"
     ]
    },
    {
     "name": "stderr",
     "output_type": "stream",
     "text": [
      "/var/folders/d2/f3vm2qjs02ldnf3s8_w_jjd00000gn/T/ipykernel_2150/1625190689.py:44: FutureWarning: The frame.append method is deprecated and will be removed from pandas in a future version. Use pandas.concat instead.\n",
      "  finally_data=finally_data.append(new_data_c)\n",
      "/var/folders/d2/f3vm2qjs02ldnf3s8_w_jjd00000gn/T/ipykernel_2150/1625190689.py:44: FutureWarning: The frame.append method is deprecated and will be removed from pandas in a future version. Use pandas.concat instead.\n",
      "  finally_data=finally_data.append(new_data_c)\n"
     ]
    },
    {
     "name": "stdout",
     "output_type": "stream",
     "text": [
      "1048 1043 0\n",
      "1093 0 0\n"
     ]
    },
    {
     "name": "stderr",
     "output_type": "stream",
     "text": [
      "/var/folders/d2/f3vm2qjs02ldnf3s8_w_jjd00000gn/T/ipykernel_2150/1625190689.py:44: FutureWarning: The frame.append method is deprecated and will be removed from pandas in a future version. Use pandas.concat instead.\n",
      "  finally_data=finally_data.append(new_data_c)\n",
      "/var/folders/d2/f3vm2qjs02ldnf3s8_w_jjd00000gn/T/ipykernel_2150/1625190689.py:44: FutureWarning: The frame.append method is deprecated and will be removed from pandas in a future version. Use pandas.concat instead.\n",
      "  finally_data=finally_data.append(new_data_c)\n"
     ]
    },
    {
     "name": "stdout",
     "output_type": "stream",
     "text": [
      "1849 0 0\n",
      "2070 0 0\n",
      "        frame    id       x      y  width  height  xVelocity  yVelocity  \\\n",
      "30106    1097    98  190.67  24.38   4.75    1.92      33.31       1.01   \n",
      "66235    2043   200   46.23  28.21   4.65    2.02      28.67       1.25   \n",
      "85479    2731   258   66.15  28.22   5.05    2.12      26.11      -1.00   \n",
      "177435   6110   530   52.05  24.43   4.65    1.92      32.54      -1.20   \n",
      "180557   6369   539  256.80  10.38   4.04    1.72     -33.34      -0.51   \n",
      "354227  12581  1048   35.89  24.46   4.24    1.82      32.82      -0.95   \n",
      "369232  13072  1093   85.54  24.35   4.75    2.02      30.31       1.17   \n",
      "623882  22095  1849  179.05  24.37   4.35    1.92      33.30       0.94   \n",
      "698848  24789  2070  291.66  10.28   4.85    1.92     -33.35      -0.73   \n",
      "\n",
      "        xAcceleration  yAcceleration  ...  followingId  leftPrecedingId  \\\n",
      "30106            0.27          -0.22  ...          104                0   \n",
      "66235           -0.36           0.01  ...          202              193   \n",
      "85479            0.62          -0.02  ...            0              257   \n",
      "177435           0.77           0.02  ...          532              529   \n",
      "180557           0.42           0.42  ...          547                0   \n",
      "354227           0.13           0.12  ...            0             1043   \n",
      "369232           0.71          -0.21  ...         1089                0   \n",
      "623882          -0.29          -0.15  ...         1863                0   \n",
      "698848           0.33           0.25  ...         2073                0   \n",
      "\n",
      "        leftAlongsideId  leftFollowingId  rightPrecedingId  rightAlongsideId  \\\n",
      "30106                 0                0                90                 0   \n",
      "66235                 0                0               196                 0   \n",
      "85479                 0                0                 0                 0   \n",
      "177435                0                0               513                 0   \n",
      "180557                0                0               535                 0   \n",
      "354227                0                0              1042                 0   \n",
      "369232                0                0              1082                 0   \n",
      "623882                0                0              1845                 0   \n",
      "698848                0                0              2066                 0   \n",
      "\n",
      "        rightFollowingId  laneId  O_P_Distance  O_F_Distance  \n",
      "30106                 99       6             #             #  \n",
      "66235                203       7         213.4             #  \n",
      "85479                  0       8         27.08             #  \n",
      "177435                 0       7         13.15             #  \n",
      "180557               542       4             #             #  \n",
      "354227              1047       7         47.96             #  \n",
      "369232              1094       6             #             #  \n",
      "623882              1850       6             #             #  \n",
      "698848              2074       4             #             #  \n",
      "\n",
      "[9 rows x 27 columns]\n",
      "52已处理完毕！\n"
     ]
    },
    {
     "name": "stderr",
     "output_type": "stream",
     "text": [
      "/var/folders/d2/f3vm2qjs02ldnf3s8_w_jjd00000gn/T/ipykernel_2150/1625190689.py:44: FutureWarning: The frame.append method is deprecated and will be removed from pandas in a future version. Use pandas.concat instead.\n",
      "  finally_data=finally_data.append(new_data_c)\n",
      "/var/folders/d2/f3vm2qjs02ldnf3s8_w_jjd00000gn/T/ipykernel_2150/1625190689.py:44: FutureWarning: The frame.append method is deprecated and will be removed from pandas in a future version. Use pandas.concat instead.\n",
      "  finally_data=finally_data.append(new_data_c)\n"
     ]
    },
    {
     "name": "stdout",
     "output_type": "stream",
     "text": [
      "267 265 272\n"
     ]
    },
    {
     "name": "stderr",
     "output_type": "stream",
     "text": [
      "/var/folders/d2/f3vm2qjs02ldnf3s8_w_jjd00000gn/T/ipykernel_2150/1625190689.py:44: FutureWarning: The frame.append method is deprecated and will be removed from pandas in a future version. Use pandas.concat instead.\n",
      "  finally_data=finally_data.append(new_data_c)\n"
     ]
    },
    {
     "name": "stdout",
     "output_type": "stream",
     "text": [
      "1093 1092 0\n",
      "1177 1162 0\n"
     ]
    },
    {
     "name": "stderr",
     "output_type": "stream",
     "text": [
      "/var/folders/d2/f3vm2qjs02ldnf3s8_w_jjd00000gn/T/ipykernel_2150/1625190689.py:44: FutureWarning: The frame.append method is deprecated and will be removed from pandas in a future version. Use pandas.concat instead.\n",
      "  finally_data=finally_data.append(new_data_c)\n",
      "/var/folders/d2/f3vm2qjs02ldnf3s8_w_jjd00000gn/T/ipykernel_2150/1625190689.py:44: FutureWarning: The frame.append method is deprecated and will be removed from pandas in a future version. Use pandas.concat instead.\n",
      "  finally_data=finally_data.append(new_data_c)\n"
     ]
    },
    {
     "name": "stdout",
     "output_type": "stream",
     "text": [
      "2179 0 0\n",
      "        frame    id       x      y  width  height  xVelocity  yVelocity  \\\n",
      "87590    3201   267  290.20  15.39   4.55    2.02     -35.74       0.46   \n",
      "373253  12196  1093   32.04  29.29   5.86    2.22      32.72      -0.93   \n",
      "402808  13301  1177   76.58  29.45   4.45    1.92      31.96      -1.04   \n",
      "751752  23436  2179  405.06  15.56   4.24    1.72     -36.41      -1.43   \n",
      "\n",
      "        xAcceleration  yAcceleration  ...  followingId  leftPrecedingId  \\\n",
      "87590            0.11          -0.18  ...          269              265   \n",
      "373253           0.30          -0.02  ...            0             1092   \n",
      "402808           0.08          -0.05  ...         1182             1162   \n",
      "751752           0.64           0.05  ...            0                0   \n",
      "\n",
      "        leftAlongsideId  leftFollowingId  rightPrecedingId  rightAlongsideId  \\\n",
      "87590                 0              272               266                 0   \n",
      "373253                0                0              1091                 0   \n",
      "402808                0                0              1168                 0   \n",
      "751752                0                0              2178                 0   \n",
      "\n",
      "        rightFollowingId  laneId  O_P_Distance  O_F_Distance  \n",
      "87590                270       3          71.5        101.54  \n",
      "373253                 0       7         28.05             #  \n",
      "402808              1179       7         266.7             #  \n",
      "751752                 0       4             #             #  \n",
      "\n",
      "[4 rows x 27 columns]\n",
      "53已处理完毕！\n"
     ]
    },
    {
     "name": "stderr",
     "output_type": "stream",
     "text": [
      "/var/folders/d2/f3vm2qjs02ldnf3s8_w_jjd00000gn/T/ipykernel_2150/1625190689.py:44: FutureWarning: The frame.append method is deprecated and will be removed from pandas in a future version. Use pandas.concat instead.\n",
      "  finally_data=finally_data.append(new_data_c)\n"
     ]
    },
    {
     "name": "stdout",
     "output_type": "stream",
     "text": [
      "394 0 0\n",
      "585 583 0\n"
     ]
    },
    {
     "name": "stderr",
     "output_type": "stream",
     "text": [
      "/var/folders/d2/f3vm2qjs02ldnf3s8_w_jjd00000gn/T/ipykernel_2150/1625190689.py:44: FutureWarning: The frame.append method is deprecated and will be removed from pandas in a future version. Use pandas.concat instead.\n",
      "  finally_data=finally_data.append(new_data_c)\n",
      "/var/folders/d2/f3vm2qjs02ldnf3s8_w_jjd00000gn/T/ipykernel_2150/1625190689.py:44: FutureWarning: The frame.append method is deprecated and will be removed from pandas in a future version. Use pandas.concat instead.\n",
      "  finally_data=finally_data.append(new_data_c)\n"
     ]
    },
    {
     "name": "stdout",
     "output_type": "stream",
     "text": [
      "822 817 0\n",
      "1062 1061 1068\n",
      "1109 1107 1111\n"
     ]
    },
    {
     "name": "stderr",
     "output_type": "stream",
     "text": [
      "/var/folders/d2/f3vm2qjs02ldnf3s8_w_jjd00000gn/T/ipykernel_2150/1625190689.py:44: FutureWarning: The frame.append method is deprecated and will be removed from pandas in a future version. Use pandas.concat instead.\n",
      "  finally_data=finally_data.append(new_data_c)\n",
      "/var/folders/d2/f3vm2qjs02ldnf3s8_w_jjd00000gn/T/ipykernel_2150/1625190689.py:44: FutureWarning: The frame.append method is deprecated and will be removed from pandas in a future version. Use pandas.concat instead.\n",
      "  finally_data=finally_data.append(new_data_c)\n",
      "/var/folders/d2/f3vm2qjs02ldnf3s8_w_jjd00000gn/T/ipykernel_2150/1625190689.py:44: FutureWarning: The frame.append method is deprecated and will be removed from pandas in a future version. Use pandas.concat instead.\n",
      "  finally_data=finally_data.append(new_data_c)\n"
     ]
    },
    {
     "name": "stdout",
     "output_type": "stream",
     "text": [
      "1176 1174 0\n"
     ]
    },
    {
     "name": "stderr",
     "output_type": "stream",
     "text": [
      "/var/folders/d2/f3vm2qjs02ldnf3s8_w_jjd00000gn/T/ipykernel_2150/1625190689.py:44: FutureWarning: The frame.append method is deprecated and will be removed from pandas in a future version. Use pandas.concat instead.\n",
      "  finally_data=finally_data.append(new_data_c)\n"
     ]
    },
    {
     "name": "stdout",
     "output_type": "stream",
     "text": [
      "1716 0 0\n",
      "1760 0 0\n",
      "1984 1980 0\n"
     ]
    },
    {
     "name": "stderr",
     "output_type": "stream",
     "text": [
      "/var/folders/d2/f3vm2qjs02ldnf3s8_w_jjd00000gn/T/ipykernel_2150/1625190689.py:44: FutureWarning: The frame.append method is deprecated and will be removed from pandas in a future version. Use pandas.concat instead.\n",
      "  finally_data=finally_data.append(new_data_c)\n",
      "/var/folders/d2/f3vm2qjs02ldnf3s8_w_jjd00000gn/T/ipykernel_2150/1625190689.py:44: FutureWarning: The frame.append method is deprecated and will be removed from pandas in a future version. Use pandas.concat instead.\n",
      "  finally_data=finally_data.append(new_data_c)\n",
      "/var/folders/d2/f3vm2qjs02ldnf3s8_w_jjd00000gn/T/ipykernel_2150/1625190689.py:44: FutureWarning: The frame.append method is deprecated and will be removed from pandas in a future version. Use pandas.concat instead.\n",
      "  finally_data=finally_data.append(new_data_c)\n"
     ]
    },
    {
     "name": "stdout",
     "output_type": "stream",
     "text": [
      "2131 0 0\n",
      "        frame    id       x      y  width  height  xVelocity  yVelocity  \\\n",
      "128411   4484   394  156.41  29.00   5.15    1.92      33.70       0.90   \n",
      "196890   6449   585   55.34  32.55  10.11    2.50      23.40      -0.91   \n",
      "276373   9059   822   28.24  32.69   6.67    2.22      25.68      -0.88   \n",
      "354982  11896  1062  326.21  15.26   4.85    1.92     -29.21       1.00   \n",
      "371076  12478  1109  345.36  15.27   5.26    1.92     -32.73       0.91   \n",
      "395093  13186  1176  377.90  15.29   4.55    1.82     -34.33       1.26   \n",
      "570048  19360  1716   55.07  28.98   5.15    1.92      33.02       1.02   \n",
      "584694  19883  1760  128.73  28.90   6.27    2.12      33.55       0.76   \n",
      "658677  22428  1984  116.58  32.88   4.85    1.82      29.96      -1.33   \n",
      "707976  24514  2131  215.68  15.33   5.05    1.82     -34.11      -0.86   \n",
      "\n",
      "        xAcceleration  yAcceleration  ...  followingId  leftPrecedingId  \\\n",
      "128411          -0.16           0.07  ...          398                0   \n",
      "196890           0.14           0.08  ...          588              583   \n",
      "276373           0.53           0.15  ...            0              817   \n",
      "354982          -0.55          -0.03  ...         1067             1061   \n",
      "371076          -0.11          -0.18  ...         1110             1107   \n",
      "395093          -0.46          -0.05  ...            0             1174   \n",
      "570048           0.11          -0.04  ...         1719                0   \n",
      "584694          -0.39          -0.02  ...         1762                0   \n",
      "658677           0.77           0.12  ...            0             1980   \n",
      "707976           0.51          -0.01  ...         2135                0   \n",
      "\n",
      "        leftAlongsideId  leftFollowingId  rightPrecedingId  rightAlongsideId  \\\n",
      "128411                0                0               389                 0   \n",
      "196890                0                0                 0                 0   \n",
      "276373                0                0                 0                 0   \n",
      "354982                0             1068              1057                 0   \n",
      "371076                0             1111              1106                 0   \n",
      "395093                0                0              1168              1175   \n",
      "570048                0                0              1713                 0   \n",
      "584694                0                0              1757                 0   \n",
      "658677                0                0                 0                 0   \n",
      "707976                0                0              2128                 0   \n",
      "\n",
      "        rightFollowingId  laneId  O_P_Distance  O_F_Distance  \n",
      "128411               395       6             #             #  \n",
      "196890                 0       8         12.75             #  \n",
      "276373                 0       8         35.99             #  \n",
      "354982              1065       3         27.73         48.35  \n",
      "371076                 0       3          14.8         28.92  \n",
      "395093                 0       3          15.0             #  \n",
      "570048              1717       6             #             #  \n",
      "584694              1761       6             #             #  \n",
      "658677                 0       8         35.64             #  \n",
      "707976              2133       4             #             #  \n",
      "\n",
      "[10 rows x 27 columns]\n",
      "54已处理完毕！\n"
     ]
    },
    {
     "name": "stderr",
     "output_type": "stream",
     "text": [
      "/var/folders/d2/f3vm2qjs02ldnf3s8_w_jjd00000gn/T/ipykernel_2150/1625190689.py:44: FutureWarning: The frame.append method is deprecated and will be removed from pandas in a future version. Use pandas.concat instead.\n",
      "  finally_data=finally_data.append(new_data_c)\n"
     ]
    },
    {
     "name": "stdout",
     "output_type": "stream",
     "text": [
      "64 65 68\n"
     ]
    },
    {
     "name": "stderr",
     "output_type": "stream",
     "text": [
      "/var/folders/d2/f3vm2qjs02ldnf3s8_w_jjd00000gn/T/ipykernel_2150/1625190689.py:44: FutureWarning: The frame.append method is deprecated and will be removed from pandas in a future version. Use pandas.concat instead.\n",
      "  finally_data=finally_data.append(new_data_c)\n"
     ]
    },
    {
     "name": "stdout",
     "output_type": "stream",
     "text": [
      "861 858 0\n",
      "1046 1041 0\n"
     ]
    },
    {
     "name": "stderr",
     "output_type": "stream",
     "text": [
      "/var/folders/d2/f3vm2qjs02ldnf3s8_w_jjd00000gn/T/ipykernel_2150/1625190689.py:44: FutureWarning: The frame.append method is deprecated and will be removed from pandas in a future version. Use pandas.concat instead.\n",
      "  finally_data=finally_data.append(new_data_c)\n",
      "/var/folders/d2/f3vm2qjs02ldnf3s8_w_jjd00000gn/T/ipykernel_2150/1625190689.py:44: FutureWarning: The frame.append method is deprecated and will be removed from pandas in a future version. Use pandas.concat instead.\n",
      "  finally_data=finally_data.append(new_data_c)\n"
     ]
    },
    {
     "name": "stdout",
     "output_type": "stream",
     "text": [
      "1615 1609 1617\n",
      "1643 1642 1646\n"
     ]
    },
    {
     "name": "stderr",
     "output_type": "stream",
     "text": [
      "/var/folders/d2/f3vm2qjs02ldnf3s8_w_jjd00000gn/T/ipykernel_2150/1625190689.py:44: FutureWarning: The frame.append method is deprecated and will be removed from pandas in a future version. Use pandas.concat instead.\n",
      "  finally_data=finally_data.append(new_data_c)\n",
      "/var/folders/d2/f3vm2qjs02ldnf3s8_w_jjd00000gn/T/ipykernel_2150/1625190689.py:44: FutureWarning: The frame.append method is deprecated and will be removed from pandas in a future version. Use pandas.concat instead.\n",
      "  finally_data=finally_data.append(new_data_c)\n"
     ]
    },
    {
     "name": "stdout",
     "output_type": "stream",
     "text": [
      "        frame    id       x      y  width  height  xVelocity  yVelocity  \\\n",
      "17650     506    64  105.87  29.02   5.36    1.92      30.02      -1.85   \n",
      "288136   9707   861  391.65  10.92   6.97    2.32     -31.91       0.65   \n",
      "351066  12006  1046  397.88  15.03   4.85    1.92     -33.49       1.06   \n",
      "546008  18663  1615  334.83  10.96   6.67    2.22     -32.31       1.14   \n",
      "555665  19077  1643   65.42  28.89   9.70    2.12      29.06      -1.13   \n",
      "\n",
      "        xAcceleration  yAcceleration  ...  followingId  leftPrecedingId  \\\n",
      "17650            0.98          -0.04  ...           69               65   \n",
      "288136           0.06          -0.00  ...            0              858   \n",
      "351066          -0.64          -0.09  ...            0             1041   \n",
      "546008           0.36          -0.05  ...            0             1609   \n",
      "555665           1.06           0.04  ...         1644             1642   \n",
      "\n",
      "        leftAlongsideId  leftFollowingId  rightPrecedingId  rightAlongsideId  \\\n",
      "17650                 0               68                58                 0   \n",
      "288136                0                0                 0                 0   \n",
      "351066                0                0              1042                 0   \n",
      "546008                0             1617                 0                 0   \n",
      "555665                0             1646              1640                 0   \n",
      "\n",
      "        rightFollowingId  laneId  O_P_Distance  O_F_Distance  \n",
      "17650                 61       7         17.65         27.73  \n",
      "288136                 0       2         30.24             #  \n",
      "351066                 0       3         34.41             #  \n",
      "546008                 0       2         52.38         53.99  \n",
      "555665                 0       7         21.60         59.12  \n",
      "\n",
      "[5 rows x 27 columns]\n",
      "55已处理完毕！\n",
      "30 0 0\n",
      "33 36 44\n",
      "99 0 0\n"
     ]
    },
    {
     "name": "stderr",
     "output_type": "stream",
     "text": [
      "/var/folders/d2/f3vm2qjs02ldnf3s8_w_jjd00000gn/T/ipykernel_2150/1625190689.py:44: FutureWarning: The frame.append method is deprecated and will be removed from pandas in a future version. Use pandas.concat instead.\n",
      "  finally_data=finally_data.append(new_data_c)\n",
      "/var/folders/d2/f3vm2qjs02ldnf3s8_w_jjd00000gn/T/ipykernel_2150/1625190689.py:44: FutureWarning: The frame.append method is deprecated and will be removed from pandas in a future version. Use pandas.concat instead.\n",
      "  finally_data=finally_data.append(new_data_c)\n",
      "/var/folders/d2/f3vm2qjs02ldnf3s8_w_jjd00000gn/T/ipykernel_2150/1625190689.py:44: FutureWarning: The frame.append method is deprecated and will be removed from pandas in a future version. Use pandas.concat instead.\n",
      "  finally_data=finally_data.append(new_data_c)\n"
     ]
    },
    {
     "name": "stdout",
     "output_type": "stream",
     "text": [
      "541 0 0\n"
     ]
    },
    {
     "name": "stderr",
     "output_type": "stream",
     "text": [
      "/var/folders/d2/f3vm2qjs02ldnf3s8_w_jjd00000gn/T/ipykernel_2150/1625190689.py:44: FutureWarning: The frame.append method is deprecated and will be removed from pandas in a future version. Use pandas.concat instead.\n",
      "  finally_data=finally_data.append(new_data_c)\n"
     ]
    },
    {
     "name": "stdout",
     "output_type": "stream",
     "text": [
      "1266 1260 0\n",
      "1457 1448 0\n"
     ]
    },
    {
     "name": "stderr",
     "output_type": "stream",
     "text": [
      "/var/folders/d2/f3vm2qjs02ldnf3s8_w_jjd00000gn/T/ipykernel_2150/1625190689.py:44: FutureWarning: The frame.append method is deprecated and will be removed from pandas in a future version. Use pandas.concat instead.\n",
      "  finally_data=finally_data.append(new_data_c)\n",
      "/var/folders/d2/f3vm2qjs02ldnf3s8_w_jjd00000gn/T/ipykernel_2150/1625190689.py:44: FutureWarning: The frame.append method is deprecated and will be removed from pandas in a future version. Use pandas.concat instead.\n",
      "  finally_data=finally_data.append(new_data_c)\n"
     ]
    },
    {
     "name": "stdout",
     "output_type": "stream",
     "text": [
      "1661 1655 0\n",
      "1763 0 0\n",
      "        frame    id       x      y  width  height  xVelocity  yVelocity  \\\n",
      "6163      189    30    8.04  28.94   4.80    2.02      34.63      -1.50   \n",
      "7172      347    33  243.67  14.98   4.95    2.02     -29.21       1.23   \n",
      "29867    1058    99  355.33  15.12   4.35    1.82     -35.04      -1.00   \n",
      "181488   6988   541  261.91  15.08   4.75    1.82     -34.87       0.80   \n",
      "430331  16613  1266   19.81  28.95   5.15    1.92      38.96      -0.70   \n",
      "495467  19320  1457  362.57  14.85   5.66    2.22     -37.48       1.14   \n",
      "565001  21967  1661   35.71  32.88   4.24    1.72      27.97      -1.05   \n",
      "601015  23236  1763  396.71  15.15   4.55    1.72     -35.67      -1.04   \n",
      "\n",
      "        xAcceleration  yAcceleration  ...  followingId  leftPrecedingId  \\\n",
      "6163             0.10           0.11  ...            0                0   \n",
      "7172            -0.44          -0.03  ...           40               36   \n",
      "29867            0.21           0.11  ...          100                0   \n",
      "181488           0.22           0.04  ...          543                0   \n",
      "430331           0.02           0.05  ...            0             1260   \n",
      "495467           0.33           0.02  ...            0             1448   \n",
      "565001           0.77           0.16  ...            0             1655   \n",
      "601015           0.10           0.10  ...            0                0   \n",
      "\n",
      "        leftAlongsideId  leftFollowingId  rightPrecedingId  rightAlongsideId  \\\n",
      "6163                  0                0                25                 0   \n",
      "7172                  0               44                27                 0   \n",
      "29867                 0                0                93                 0   \n",
      "181488                0                0               535                 0   \n",
      "430331                0                0              1263              1265   \n",
      "495467                0                0              1451                 0   \n",
      "565001                0                0                 0                 0   \n",
      "601015                0                0              1758                 0   \n",
      "\n",
      "        rightFollowingId  laneId  O_P_Distance  O_F_Distance  \n",
      "6163                   0       7             #             #  \n",
      "7172                  37       3         17.32         69.07  \n",
      "29867                  0       4             #             #  \n",
      "181488               542       3             #             #  \n",
      "430331                 0       7         117.2             #  \n",
      "495467                 0       3        165.19             #  \n",
      "565001                 0       8        115.14             #  \n",
      "601015                 0       4             #             #  \n",
      "\n",
      "[8 rows x 27 columns]\n",
      "56已处理完毕！\n"
     ]
    },
    {
     "name": "stderr",
     "output_type": "stream",
     "text": [
      "/var/folders/d2/f3vm2qjs02ldnf3s8_w_jjd00000gn/T/ipykernel_2150/1625190689.py:44: FutureWarning: The frame.append method is deprecated and will be removed from pandas in a future version. Use pandas.concat instead.\n",
      "  finally_data=finally_data.append(new_data_c)\n",
      "/var/folders/d2/f3vm2qjs02ldnf3s8_w_jjd00000gn/T/ipykernel_2150/1625190689.py:44: FutureWarning: The frame.append method is deprecated and will be removed from pandas in a future version. Use pandas.concat instead.\n",
      "  finally_data=finally_data.append(new_data_c)\n"
     ]
    },
    {
     "name": "stdout",
     "output_type": "stream",
     "text": [
      "93 91 0\n",
      "245 239 247\n"
     ]
    },
    {
     "name": "stderr",
     "output_type": "stream",
     "text": [
      "/var/folders/d2/f3vm2qjs02ldnf3s8_w_jjd00000gn/T/ipykernel_2150/1625190689.py:44: FutureWarning: The frame.append method is deprecated and will be removed from pandas in a future version. Use pandas.concat instead.\n",
      "  finally_data=finally_data.append(new_data_c)\n",
      "/var/folders/d2/f3vm2qjs02ldnf3s8_w_jjd00000gn/T/ipykernel_2150/1625190689.py:44: FutureWarning: The frame.append method is deprecated and will be removed from pandas in a future version. Use pandas.concat instead.\n",
      "  finally_data=finally_data.append(new_data_c)\n"
     ]
    },
    {
     "name": "stdout",
     "output_type": "stream",
     "text": [
      "543 544 0\n",
      "775 0 778\n",
      "835 0 0\n",
      "847 848 853\n"
     ]
    },
    {
     "name": "stderr",
     "output_type": "stream",
     "text": [
      "/var/folders/d2/f3vm2qjs02ldnf3s8_w_jjd00000gn/T/ipykernel_2150/1625190689.py:44: FutureWarning: The frame.append method is deprecated and will be removed from pandas in a future version. Use pandas.concat instead.\n",
      "  finally_data=finally_data.append(new_data_c)\n",
      "/var/folders/d2/f3vm2qjs02ldnf3s8_w_jjd00000gn/T/ipykernel_2150/1625190689.py:44: FutureWarning: The frame.append method is deprecated and will be removed from pandas in a future version. Use pandas.concat instead.\n",
      "  finally_data=finally_data.append(new_data_c)\n",
      "/var/folders/d2/f3vm2qjs02ldnf3s8_w_jjd00000gn/T/ipykernel_2150/1625190689.py:44: FutureWarning: The frame.append method is deprecated and will be removed from pandas in a future version. Use pandas.concat instead.\n",
      "  finally_data=finally_data.append(new_data_c)\n",
      "/var/folders/d2/f3vm2qjs02ldnf3s8_w_jjd00000gn/T/ipykernel_2150/1625190689.py:44: FutureWarning: The frame.append method is deprecated and will be removed from pandas in a future version. Use pandas.concat instead.\n",
      "  finally_data=finally_data.append(new_data_c)\n"
     ]
    },
    {
     "name": "stdout",
     "output_type": "stream",
     "text": [
      "940 0 0\n",
      "1155 1148 0\n",
      "1268 0 0\n"
     ]
    },
    {
     "name": "stderr",
     "output_type": "stream",
     "text": [
      "/var/folders/d2/f3vm2qjs02ldnf3s8_w_jjd00000gn/T/ipykernel_2150/1625190689.py:44: FutureWarning: The frame.append method is deprecated and will be removed from pandas in a future version. Use pandas.concat instead.\n",
      "  finally_data=finally_data.append(new_data_c)\n",
      "/var/folders/d2/f3vm2qjs02ldnf3s8_w_jjd00000gn/T/ipykernel_2150/1625190689.py:44: FutureWarning: The frame.append method is deprecated and will be removed from pandas in a future version. Use pandas.concat instead.\n",
      "  finally_data=finally_data.append(new_data_c)\n",
      "/var/folders/d2/f3vm2qjs02ldnf3s8_w_jjd00000gn/T/ipykernel_2150/1625190689.py:44: FutureWarning: The frame.append method is deprecated and will be removed from pandas in a future version. Use pandas.concat instead.\n",
      "  finally_data=finally_data.append(new_data_c)\n"
     ]
    },
    {
     "name": "stdout",
     "output_type": "stream",
     "text": [
      "1460 1458 0\n",
      "1673 1664 0\n"
     ]
    },
    {
     "name": "stderr",
     "output_type": "stream",
     "text": [
      "/var/folders/d2/f3vm2qjs02ldnf3s8_w_jjd00000gn/T/ipykernel_2150/1625190689.py:44: FutureWarning: The frame.append method is deprecated and will be removed from pandas in a future version. Use pandas.concat instead.\n",
      "  finally_data=finally_data.append(new_data_c)\n",
      "/var/folders/d2/f3vm2qjs02ldnf3s8_w_jjd00000gn/T/ipykernel_2150/1625190689.py:44: FutureWarning: The frame.append method is deprecated and will be removed from pandas in a future version. Use pandas.concat instead.\n",
      "  finally_data=finally_data.append(new_data_c)\n"
     ]
    },
    {
     "name": "stdout",
     "output_type": "stream",
     "text": [
      "1826 1823 0\n",
      "        frame    id       x      y  width  height  xVelocity  yVelocity  \\\n",
      "27004    1115    93    3.22  33.87   4.95    2.02      32.89      -1.34   \n",
      "78977    3371   245  314.60  19.97   5.26    1.92     -34.27       0.69   \n",
      "178661   8151   543  124.61  33.80   5.66    2.12      31.73      -1.21   \n",
      "258629  11039   775   67.92  33.94   4.55    1.82      32.19      -0.84   \n",
      "279144  12052   835  161.94  33.75   6.77    2.22      35.67      -1.14   \n",
      "283135  12205   847  270.02  19.90   4.95    2.02     -29.72       0.95   \n",
      "315538  13292   940  275.02  19.90   5.15    2.02     -40.99       1.49   \n",
      "387184  16258  1155  389.98  19.90   4.90    2.02     -35.14       1.10   \n",
      "425347  17971  1268   19.89  33.96   4.65    1.72      35.77       0.54   \n",
      "489007  20417  1460   24.35  33.99   4.35    1.72      34.64      -1.04   \n",
      "560073  23261  1673  405.59  19.95   5.05    1.92     -42.00       0.53   \n",
      "611391  25299  1826  395.17  19.96   5.05    1.92     -35.08       0.98   \n",
      "\n",
      "        xAcceleration  yAcceleration  ...  followingId  leftPrecedingId  \\\n",
      "27004            0.15           0.05  ...            0               91   \n",
      "78977            0.18           0.04  ...            0              239   \n",
      "178661           0.73           0.26  ...          545              544   \n",
      "258629           0.32          -0.01  ...            0                0   \n",
      "279144           0.02          -0.08  ...          837                0   \n",
      "283135          -0.60          -0.39  ...          852              848   \n",
      "315538           0.07           0.19  ...          944                0   \n",
      "387184           0.07          -0.08  ...            0             1148   \n",
      "425347           0.06          -0.07  ...         1269                0   \n",
      "489007           0.15           0.02  ...            0             1458   \n",
      "560073           0.59          -0.03  ...            0             1664   \n",
      "611391          -0.11          -0.08  ...            0             1823   \n",
      "\n",
      "        leftAlongsideId  leftFollowingId  rightPrecedingId  rightAlongsideId  \\\n",
      "27004                 0                0                89                 0   \n",
      "78977                 0              247               242                 0   \n",
      "178661                0                0               539                 0   \n",
      "258629                0              778               769                 0   \n",
      "279144                0                0               833                 0   \n",
      "283135                0              853                 0               844   \n",
      "315538                0                0               924                 0   \n",
      "387184                0                0              1149                 0   \n",
      "425347                0                0              1264                 0   \n",
      "489007                0                0              1456                 0   \n",
      "560073                0                0              1670                 0   \n",
      "611391                0                0              1825                 0   \n",
      "\n",
      "        rightFollowingId  laneId  O_P_Distance  O_F_Distance  \n",
      "27004                  0       7          9.93             #  \n",
      "78977                246       3        130.13         28.01  \n",
      "178661               542       7         19.47             #  \n",
      "258629               776       7             #         21.63  \n",
      "279144               839       7             #             #  \n",
      "283135                 0       3         17.96         90.68  \n",
      "315538               938       3             #             #  \n",
      "387184                 0       3        130.25             #  \n",
      "425347                 0       6             #             #  \n",
      "489007                 0       7         37.44             #  \n",
      "560073                 0       3         205.2             #  \n",
      "611391                 0       3         41.53             #  \n",
      "\n",
      "[12 rows x 27 columns]\n",
      "57已处理完毕！\n"
     ]
    },
    {
     "name": "stderr",
     "output_type": "stream",
     "text": [
      "/var/folders/d2/f3vm2qjs02ldnf3s8_w_jjd00000gn/T/ipykernel_2150/1625190689.py:44: FutureWarning: The frame.append method is deprecated and will be removed from pandas in a future version. Use pandas.concat instead.\n",
      "  finally_data=finally_data.append(new_data_c)\n"
     ]
    },
    {
     "name": "stdout",
     "output_type": "stream",
     "text": [
      "203 202 206\n",
      "206 0 0\n",
      "243 242 0\n",
      "245 244 0\n",
      "348 347 0\n",
      "349 345 350\n",
      "506 493 0\n",
      "632 631 0\n"
     ]
    },
    {
     "name": "stderr",
     "output_type": "stream",
     "text": [
      "/var/folders/d2/f3vm2qjs02ldnf3s8_w_jjd00000gn/T/ipykernel_2150/1625190689.py:44: FutureWarning: The frame.append method is deprecated and will be removed from pandas in a future version. Use pandas.concat instead.\n",
      "  finally_data=finally_data.append(new_data_c)\n",
      "/var/folders/d2/f3vm2qjs02ldnf3s8_w_jjd00000gn/T/ipykernel_2150/1625190689.py:44: FutureWarning: The frame.append method is deprecated and will be removed from pandas in a future version. Use pandas.concat instead.\n",
      "  finally_data=finally_data.append(new_data_c)\n",
      "/var/folders/d2/f3vm2qjs02ldnf3s8_w_jjd00000gn/T/ipykernel_2150/1625190689.py:44: FutureWarning: The frame.append method is deprecated and will be removed from pandas in a future version. Use pandas.concat instead.\n",
      "  finally_data=finally_data.append(new_data_c)\n",
      "/var/folders/d2/f3vm2qjs02ldnf3s8_w_jjd00000gn/T/ipykernel_2150/1625190689.py:44: FutureWarning: The frame.append method is deprecated and will be removed from pandas in a future version. Use pandas.concat instead.\n",
      "  finally_data=finally_data.append(new_data_c)\n",
      "/var/folders/d2/f3vm2qjs02ldnf3s8_w_jjd00000gn/T/ipykernel_2150/1625190689.py:44: FutureWarning: The frame.append method is deprecated and will be removed from pandas in a future version. Use pandas.concat instead.\n",
      "  finally_data=finally_data.append(new_data_c)\n",
      "/var/folders/d2/f3vm2qjs02ldnf3s8_w_jjd00000gn/T/ipykernel_2150/1625190689.py:44: FutureWarning: The frame.append method is deprecated and will be removed from pandas in a future version. Use pandas.concat instead.\n",
      "  finally_data=finally_data.append(new_data_c)\n",
      "/var/folders/d2/f3vm2qjs02ldnf3s8_w_jjd00000gn/T/ipykernel_2150/1625190689.py:44: FutureWarning: The frame.append method is deprecated and will be removed from pandas in a future version. Use pandas.concat instead.\n",
      "  finally_data=finally_data.append(new_data_c)\n",
      "/var/folders/d2/f3vm2qjs02ldnf3s8_w_jjd00000gn/T/ipykernel_2150/1625190689.py:44: FutureWarning: The frame.append method is deprecated and will be removed from pandas in a future version. Use pandas.concat instead.\n",
      "  finally_data=finally_data.append(new_data_c)\n"
     ]
    },
    {
     "name": "stdout",
     "output_type": "stream",
     "text": [
      "        frame   id       x      y  width  height  xVelocity  yVelocity  \\\n",
      "64321    2359  203  265.68  11.26  16.57    2.50     -24.16       0.80   \n",
      "65422    2360  206  325.12  14.42   5.96    2.53     -37.27       0.76   \n",
      "77267    2894  243  343.50  14.62   4.65    2.12     -36.06       0.99   \n",
      "77869    2917  245  352.91  11.62   4.45    1.92     -27.03       0.92   \n",
      "112537   4302  348   46.80  29.42   6.97    2.32      26.15      -0.65   \n",
      "112901   4344  349   75.38  26.20   4.95    2.02      30.56      -1.14   \n",
      "166619   6824  506  351.66  11.63   4.14    1.92     -30.93       0.62   \n",
      "209091   8551  632  367.25  11.28   7.18    2.50     -27.75       0.98   \n",
      "\n",
      "        xAcceleration  yAcceleration  ...  followingId  leftPrecedingId  \\\n",
      "64321            0.04          -0.02  ...          208              202   \n",
      "65422            0.46           0.03  ...          209                0   \n",
      "77267           -0.63          -0.08  ...          244              242   \n",
      "77869           -0.18          -0.26  ...            0              244   \n",
      "112537           0.31          -0.06  ...            0              347   \n",
      "112901           0.67          -0.10  ...            0              345   \n",
      "166619          -0.08          -0.16  ...            0              493   \n",
      "209091          -0.44          -0.19  ...            0              631   \n",
      "\n",
      "        leftAlongsideId  leftFollowingId  rightPrecedingId  rightAlongsideId  \\\n",
      "64321                 0              206                 0               200   \n",
      "65422                 0                0               198                 0   \n",
      "77267                 0                0               233                 0   \n",
      "77869                 0                0                 0               247   \n",
      "112537                0                0                 0                 0   \n",
      "112901                0              350               344                 0   \n",
      "166619                0                0               505                 0   \n",
      "209091                0                0               628                 0   \n",
      "\n",
      "        rightFollowingId  laneId  O_P_Distance  O_F_Distance  \n",
      "64321                  0       3         77.87         60.93  \n",
      "65422                208       4             #             #  \n",
      "77267                245       4         20.37             #  \n",
      "77869                  0       3         19.67             #  \n",
      "112537                 0       9         17.32             #  \n",
      "112901                 0       8         50.69         35.55  \n",
      "166619                 0       3        212.77             #  \n",
      "209091                 0       3         21.67             #  \n",
      "\n",
      "[8 rows x 27 columns]\n",
      "58已处理完毕！\n",
      "32 24 0\n",
      "214 217 219\n",
      "470 0 0\n"
     ]
    },
    {
     "name": "stderr",
     "output_type": "stream",
     "text": [
      "/var/folders/d2/f3vm2qjs02ldnf3s8_w_jjd00000gn/T/ipykernel_2150/1625190689.py:44: FutureWarning: The frame.append method is deprecated and will be removed from pandas in a future version. Use pandas.concat instead.\n",
      "  finally_data=finally_data.append(new_data_c)\n",
      "/var/folders/d2/f3vm2qjs02ldnf3s8_w_jjd00000gn/T/ipykernel_2150/1625190689.py:44: FutureWarning: The frame.append method is deprecated and will be removed from pandas in a future version. Use pandas.concat instead.\n",
      "  finally_data=finally_data.append(new_data_c)\n",
      "/var/folders/d2/f3vm2qjs02ldnf3s8_w_jjd00000gn/T/ipykernel_2150/1625190689.py:44: FutureWarning: The frame.append method is deprecated and will be removed from pandas in a future version. Use pandas.concat instead.\n",
      "  finally_data=finally_data.append(new_data_c)\n"
     ]
    },
    {
     "name": "stdout",
     "output_type": "stream",
     "text": [
      "662 659 0\n",
      "        frame   id       x      y  width  height  xVelocity  yVelocity  \\\n",
      "6983      121   32  289.91  14.86   6.27    2.50     -33.43       0.97   \n",
      "66918    3135  214  211.79  11.58   4.65    2.02     -29.50       0.88   \n",
      "149617   7542  470   57.86  26.82   5.15    2.32      45.20       1.02   \n",
      "213369  10346  662   49.38  26.96   4.14    2.12      31.29      -0.38   \n",
      "\n",
      "        xAcceleration  yAcceleration  ...  followingId  leftPrecedingId  \\\n",
      "6983             0.36          -0.11  ...           35               24   \n",
      "66918           -0.52          -0.18  ...          223              217   \n",
      "149617           0.95          -0.14  ...          473                0   \n",
      "213369           0.43           0.14  ...            0              659   \n",
      "\n",
      "        leftAlongsideId  leftFollowingId  rightPrecedingId  rightAlongsideId  \\\n",
      "6983                  0                0                18                 0   \n",
      "66918                 0              219                 0               213   \n",
      "149617                0                0               461                 0   \n",
      "213369                0                0               661                 0   \n",
      "\n",
      "        rightFollowingId  laneId  O_P_Distance  O_F_Distance  \n",
      "6983                   0       4         182.5             #  \n",
      "66918                  0       3         21.29         32.17  \n",
      "149617                 0       7             #             #  \n",
      "213369                 0       8         34.79             #  \n",
      "\n",
      "[4 rows x 27 columns]\n",
      "59已处理完毕！\n"
     ]
    },
    {
     "name": "stderr",
     "output_type": "stream",
     "text": [
      "/var/folders/d2/f3vm2qjs02ldnf3s8_w_jjd00000gn/T/ipykernel_2150/1625190689.py:44: FutureWarning: The frame.append method is deprecated and will be removed from pandas in a future version. Use pandas.concat instead.\n",
      "  finally_data=finally_data.append(new_data_c)\n"
     ]
    },
    {
     "name": "stdout",
     "output_type": "stream",
     "text": [
      "178 179 0\n",
      "476 479 480\n"
     ]
    },
    {
     "name": "stderr",
     "output_type": "stream",
     "text": [
      "/var/folders/d2/f3vm2qjs02ldnf3s8_w_jjd00000gn/T/ipykernel_2150/1625190689.py:44: FutureWarning: The frame.append method is deprecated and will be removed from pandas in a future version. Use pandas.concat instead.\n",
      "  finally_data=finally_data.append(new_data_c)\n",
      "/var/folders/d2/f3vm2qjs02ldnf3s8_w_jjd00000gn/T/ipykernel_2150/1625190689.py:44: FutureWarning: The frame.append method is deprecated and will be removed from pandas in a future version. Use pandas.concat instead.\n",
      "  finally_data=finally_data.append(new_data_c)\n"
     ]
    },
    {
     "name": "stdout",
     "output_type": "stream",
     "text": [
      "611 604 0\n",
      "666 667 669\n",
      "674 0 675\n",
      "676 675 0\n"
     ]
    },
    {
     "name": "stderr",
     "output_type": "stream",
     "text": [
      "/var/folders/d2/f3vm2qjs02ldnf3s8_w_jjd00000gn/T/ipykernel_2150/1625190689.py:44: FutureWarning: The frame.append method is deprecated and will be removed from pandas in a future version. Use pandas.concat instead.\n",
      "  finally_data=finally_data.append(new_data_c)\n",
      "/var/folders/d2/f3vm2qjs02ldnf3s8_w_jjd00000gn/T/ipykernel_2150/1625190689.py:44: FutureWarning: The frame.append method is deprecated and will be removed from pandas in a future version. Use pandas.concat instead.\n",
      "  finally_data=finally_data.append(new_data_c)\n",
      "/var/folders/d2/f3vm2qjs02ldnf3s8_w_jjd00000gn/T/ipykernel_2150/1625190689.py:44: FutureWarning: The frame.append method is deprecated and will be removed from pandas in a future version. Use pandas.concat instead.\n",
      "  finally_data=finally_data.append(new_data_c)\n",
      "/var/folders/d2/f3vm2qjs02ldnf3s8_w_jjd00000gn/T/ipykernel_2150/1625190689.py:44: FutureWarning: The frame.append method is deprecated and will be removed from pandas in a future version. Use pandas.concat instead.\n",
      "  finally_data=finally_data.append(new_data_c)\n"
     ]
    },
    {
     "name": "stdout",
     "output_type": "stream",
     "text": [
      "974 0 0\n",
      "999 0 1013\n",
      "1019 0 0\n",
      "1041 1040 0\n",
      "1089 1084 1094\n"
     ]
    },
    {
     "name": "stderr",
     "output_type": "stream",
     "text": [
      "/var/folders/d2/f3vm2qjs02ldnf3s8_w_jjd00000gn/T/ipykernel_2150/1625190689.py:44: FutureWarning: The frame.append method is deprecated and will be removed from pandas in a future version. Use pandas.concat instead.\n",
      "  finally_data=finally_data.append(new_data_c)\n",
      "/var/folders/d2/f3vm2qjs02ldnf3s8_w_jjd00000gn/T/ipykernel_2150/1625190689.py:44: FutureWarning: The frame.append method is deprecated and will be removed from pandas in a future version. Use pandas.concat instead.\n",
      "  finally_data=finally_data.append(new_data_c)\n",
      "/var/folders/d2/f3vm2qjs02ldnf3s8_w_jjd00000gn/T/ipykernel_2150/1625190689.py:44: FutureWarning: The frame.append method is deprecated and will be removed from pandas in a future version. Use pandas.concat instead.\n",
      "  finally_data=finally_data.append(new_data_c)\n",
      "/var/folders/d2/f3vm2qjs02ldnf3s8_w_jjd00000gn/T/ipykernel_2150/1625190689.py:44: FutureWarning: The frame.append method is deprecated and will be removed from pandas in a future version. Use pandas.concat instead.\n",
      "  finally_data=finally_data.append(new_data_c)\n",
      "/var/folders/d2/f3vm2qjs02ldnf3s8_w_jjd00000gn/T/ipykernel_2150/1625190689.py:44: FutureWarning: The frame.append method is deprecated and will be removed from pandas in a future version. Use pandas.concat instead.\n",
      "  finally_data=finally_data.append(new_data_c)\n"
     ]
    },
    {
     "name": "stdout",
     "output_type": "stream",
     "text": [
      "        frame    id       x      y  width  height  xVelocity  yVelocity  \\\n",
      "57325    2492   178  121.09  29.59   4.45    2.02      27.72      -1.26   \n",
      "160241   7301   476  250.84   7.84   4.14    1.92     -26.39      -0.39   \n",
      "205038   9566   611  396.64  14.89   4.14    1.92     -39.36       0.90   \n",
      "224624  10460   666  282.56  14.90   4.45    1.92     -30.50       0.79   \n",
      "227493  10592   674   87.19  29.58   3.94    1.92      26.14       0.80   \n",
      "228200  10630   676  104.70  26.35   4.85    1.92      29.66      -0.88   \n",
      "332537  16129   974  144.09  11.62   4.45    2.12     -31.57      -0.07   \n",
      "340504  16889   999  355.70  29.33  12.73    2.50      22.09      -0.41   \n",
      "347715  16844  1019   49.53  26.32   4.75    1.92      33.50       0.92   \n",
      "356039  17207  1041  306.26  14.90   4.65    1.92     -27.59       1.19   \n",
      "373886  17960  1089  163.98  26.26   5.05    2.12      28.34      -0.91   \n",
      "\n",
      "        xAcceleration  yAcceleration  ...  followingId  leftPrecedingId  \\\n",
      "57325            0.71          -0.00  ...          182              179   \n",
      "160241           0.14           0.06  ...          484              479   \n",
      "205038           0.27          -0.06  ...            0              604   \n",
      "224624          -0.06          -0.17  ...          668              667   \n",
      "227493          -0.21           0.18  ...          676                0   \n",
      "228200           0.37           0.13  ...          680              675   \n",
      "332537           0.80           0.04  ...          977                0   \n",
      "340504           0.01           0.35  ...         1002                0   \n",
      "347715          -0.21          -0.22  ...         1020                0   \n",
      "356039          -0.62          -0.29  ...         1045             1040   \n",
      "373886           0.64          -0.05  ...         1095             1084   \n",
      "\n",
      "        leftAlongsideId  leftFollowingId  rightPrecedingId  rightAlongsideId  \\\n",
      "57325                 0                0                 0                 0   \n",
      "160241                0              480                 0                 0   \n",
      "205038                0                0               587                 0   \n",
      "224624                0              669               664                 0   \n",
      "227493                0              675               662                 0   \n",
      "228200                0                0               674                 0   \n",
      "332537                0                0               969                 0   \n",
      "340504                0             1013                 0                 0   \n",
      "347715                0                0              1013                 0   \n",
      "356039                0                0              1037                 0   \n",
      "373886                0             1094              1086                 0   \n",
      "\n",
      "        rightFollowingId  laneId  O_P_Distance  O_F_Distance  \n",
      "57325                  0       9         30.39             #  \n",
      "160241                 0       3          11.5         68.65  \n",
      "205038                 0       4        214.89             #  \n",
      "224624               671       4         16.38         45.71  \n",
      "227493               677       8             #          16.1  \n",
      "228200               677       8         16.46             #  \n",
      "332537               973       4             #             #  \n",
      "340504                 0       9             #        182.61  \n",
      "347715              1021       7             #             #  \n",
      "356039              1044       4         22.84             #  \n",
      "373886              1093       8         94.28        107.95  \n",
      "\n",
      "[11 rows x 27 columns]\n",
      "60已处理完毕！\n"
     ]
    }
   ],
   "source": [
    "import pandas as pd\n",
    "import numpy as np\n",
    "filepath='/Users/zhuhe/Desktop/Game/trajectory_games_learning/data/Processdata'\n",
    "for i in range(1,61):\n",
    "    origin_data=pd.read_csv('/Users/zhuhe/Desktop/Game/trajectory_games_learning/data/BoschData/highD/data/'+str(str(i).rjust(2, '0'))+'_tracks.csv')\n",
    "    '''删除多于的空行'''\n",
    "    data = origin_data.dropna(axis=0, how='any', thresh=None, subset=None, inplace=False)\n",
    "    finally_data=pd.DataFrame()\n",
    "    for ID in set(list(data['id'])):\n",
    "        index=[]\n",
    "        data_c=data[data.id==ID]\n",
    "        lst_Lane_id=list(data_c['laneId'])\n",
    "        lst_leftPrecedingId=list(data_c['leftPrecedingId'])\n",
    "        lst_leftFollowingId=list(data_c['leftFollowingId'])\n",
    "        lst_frame=list(data_c['frame'])\n",
    "        diff_lst_Lane_id=np.diff(lst_Lane_id)\n",
    "        '''获取超车变道数据'''\n",
    "        if -1 in diff_lst_Lane_id and 1 in diff_lst_Lane_id:\n",
    "            for diff in enumerate(diff_lst_Lane_id):\n",
    "                if diff[1]!=0:\n",
    "                    index.append(diff[0])\n",
    "            '''获取第一次变道时刻索引'''\n",
    "            new_index=min(index)\n",
    "            '''主车变道时数据'''\n",
    "            new_data_c=data_c[data_c.frame==lst_frame[new_index]].copy()\n",
    "            new_data_c['O_P_Distance']=np.nan\n",
    "            new_data_c['O_F_Distance']=np.nan\n",
    "            '''目标车ID'''\n",
    "            leftPrecedingId=lst_leftPrecedingId[new_index]\n",
    "            leftFollowingId=lst_leftFollowingId[new_index]\n",
    "            data_1=data[data.frame==lst_frame[new_index]]\n",
    "            '''同时刻两车数据获取'''\n",
    "            print(ID,leftPrecedingId,leftFollowingId)\n",
    "            if leftPrecedingId==0:\n",
    "                new_data_c.iloc[0,25]='#'\n",
    "            else:\n",
    "                data_leftPrecedingId=data_1[data_1.id==leftPrecedingId]\n",
    "                new_data_c.iloc[0,25]=abs(new_data_c.iloc[0,2]-data_leftPrecedingId.iloc[0,2])\n",
    "            if leftFollowingId==0:\n",
    "                new_data_c.iloc[0,26]='#'\n",
    "            else:\n",
    "                data_leftFollowingId=data_1[data_1.id==leftFollowingId]\n",
    "                new_data_c.iloc[0,26]=abs(new_data_c.iloc[0,2]-data_leftFollowingId.iloc[0,2])\n",
    "            finally_data=finally_data.append(new_data_c)\n",
    "        index.clear()\n",
    "    print(finally_data)\n",
    "    print(str(str(i).rjust(2, '0'))+'已处理完毕！')\n",
    "    finally_data.to_csv(filepath+'/'+str(str(i).rjust(2, '0'))+'.csv')"
   ]
  },
  {
   "cell_type": "code",
   "execution_count": null,
   "outputs": [],
   "source": [
    "\n"
   ],
   "metadata": {
    "collapsed": false
   }
  }
 ],
 "metadata": {
  "kernelspec": {
   "display_name": "Python 3",
   "language": "python",
   "name": "python3"
  },
  "language_info": {
   "codemirror_mode": {
    "name": "ipython",
    "version": 2
   },
   "file_extension": ".py",
   "mimetype": "text/x-python",
   "name": "python",
   "nbconvert_exporter": "python",
   "pygments_lexer": "ipython2",
   "version": "2.7.6"
  }
 },
 "nbformat": 4,
 "nbformat_minor": 0
}
